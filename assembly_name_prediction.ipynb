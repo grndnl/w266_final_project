{
 "cells": [
  {
   "cell_type": "markdown",
   "source": [
    "# Assembly name prediction"
   ],
   "metadata": {
    "collapsed": false,
    "pycharm": {
     "name": "#%% md\n"
    },
    "id": "axJffiPf-7EV"
   }
  },
  {
   "cell_type": "markdown",
   "source": [
    "## Simple baseline with BERT and cosine similarity"
   ],
   "metadata": {
    "collapsed": false,
    "pycharm": {
     "name": "#%% md\n"
    }
   }
  },
  {
   "cell_type": "code",
   "execution_count": 105,
   "outputs": [],
   "source": [
    "import numpy as np\n",
    "import tensorflow as tf\n",
    "from tensorflow import keras\n",
    "import pandas as pd\n",
    "from tqdm import tqdm\n",
    "from collections import Counter\n",
    "import re\n",
    "import seaborn as sns\n",
    "import matplotlib.pyplot as plt\n",
    "from sklearn.model_selection import train_test_split\n",
    "from sklearn.metrics import classification_report\n",
    "from numpy.linalg import norm\n",
    "from transformers import BertTokenizer, TFBertModel, DataCollatorForLanguageModeling\n",
    "import seaborn as sns\n",
    "from sklearn.metrics import top_k_accuracy_score as top_k"
   ],
   "metadata": {
    "pycharm": {
     "name": "#%%\n"
    },
    "id": "pzj8gsei-7Eg",
    "outputId": "78cee69e-5a2b-4412-a1c8-b418a829452a",
    "colab": {
     "base_uri": "https://localhost:8080/"
    }
   }
  },
  {
   "cell_type": "markdown",
   "source": [
    "### Pre-process data for task"
   ],
   "metadata": {
    "collapsed": false,
    "pycharm": {
     "name": "#%% md\n"
    },
    "id": "GATzDiPc-7Ek"
   }
  },
  {
   "cell_type": "code",
   "execution_count": 15,
   "outputs": [],
   "source": [
    "data_path = \"data/data_02.feather\"\n",
    "data = pd.read_feather(data_path)"
   ],
   "metadata": {
    "collapsed": false,
    "pycharm": {
     "name": "#%%\n"
    }
   }
  },
  {
   "cell_type": "code",
   "execution_count": 16,
   "outputs": [
    {
     "data": {
      "text/plain": "         assembly_name                                         part_names\n0          Lava Lamp 2                  [Blob3, Blob2, Blob1, Glass, Cap]\n1  Sample - Headphones  [Pivot hinge, Headphone hinge, Telescope hinge...\n4           Coffee Mug                                         [Mug, Lid]\n5  Dave's Handsome Mug                                [Lid, Seal, Vessel]\n9    Mechanical Pencil  [Eraser, Pencil Lead, Rubber Grip, Gripper Rod...",
      "text/html": "<div>\n<style scoped>\n    .dataframe tbody tr th:only-of-type {\n        vertical-align: middle;\n    }\n\n    .dataframe tbody tr th {\n        vertical-align: top;\n    }\n\n    .dataframe thead th {\n        text-align: right;\n    }\n</style>\n<table border=\"1\" class=\"dataframe\">\n  <thead>\n    <tr style=\"text-align: right;\">\n      <th></th>\n      <th>assembly_name</th>\n      <th>part_names</th>\n    </tr>\n  </thead>\n  <tbody>\n    <tr>\n      <th>0</th>\n      <td>Lava Lamp 2</td>\n      <td>[Blob3, Blob2, Blob1, Glass, Cap]</td>\n    </tr>\n    <tr>\n      <th>1</th>\n      <td>Sample - Headphones</td>\n      <td>[Pivot hinge, Headphone hinge, Telescope hinge...</td>\n    </tr>\n    <tr>\n      <th>4</th>\n      <td>Coffee Mug</td>\n      <td>[Mug, Lid]</td>\n    </tr>\n    <tr>\n      <th>5</th>\n      <td>Dave's Handsome Mug</td>\n      <td>[Lid, Seal, Vessel]</td>\n    </tr>\n    <tr>\n      <th>9</th>\n      <td>Mechanical Pencil</td>\n      <td>[Eraser, Pencil Lead, Rubber Grip, Gripper Rod...</td>\n    </tr>\n  </tbody>\n</table>\n</div>"
     },
     "execution_count": 16,
     "metadata": {},
     "output_type": "execute_result"
    }
   ],
   "source": [
    "data = data.dropna(subset=[\"assembly_name\", \"part_names\"])\n",
    "data = data.drop(columns=[\"assembly_id\", 'assembly_description'])\n",
    "data.head()"
   ],
   "metadata": {
    "collapsed": false,
    "pycharm": {
     "name": "#%%\n"
    }
   }
  },
  {
   "cell_type": "code",
   "execution_count": 17,
   "outputs": [
    {
     "name": "stdout",
     "output_type": "stream",
     "text": [
      "Tot: 88886\n",
      "Unique: 67834\n",
      "\n",
      "After dedup: 61725\n",
      "Unique: 54034\n"
     ]
    }
   ],
   "source": [
    "# Deduplicate\n",
    "print(f\"Tot: {len(data)}\")\n",
    "print(f\"Unique: {len(data['assembly_name'].unique())}\")\n",
    "data = data[~data['part_names'].apply(tuple).duplicated()]\n",
    "print(f\"\\nAfter dedup: {len(data)}\")\n",
    "print(f\"Unique: {len(data['assembly_name'].unique())}\")"
   ],
   "metadata": {
    "collapsed": false,
    "pycharm": {
     "name": "#%%\n"
    }
   }
  },
  {
   "cell_type": "markdown",
   "source": [
    "### Clean assembly names"
   ],
   "metadata": {
    "collapsed": false,
    "pycharm": {
     "name": "#%% md\n"
    }
   }
  },
  {
   "cell_type": "code",
   "execution_count": 18,
   "outputs": [],
   "source": [
    "def process_assembly_names(string):\n",
    "    string = string.replace('.x_t', '')\n",
    "    string = string.replace('.stp', '')\n",
    "    string = string.replace('.step', '')\n",
    "    string = string.replace('.zip', '')\n",
    "    string = ' '.join(re.findall('.+?(?:(?<=[a-z])(?=[A-Z])|(?<=[A-Z])(?=[A-Z][a-z])|$)', string))  # splits camelCase into camel case\n",
    "    string = ' '.join(re.split('(\\s+|^)([A-Za-z]+)\\d+(\\s+|$)', string))  # removes number at the end\n",
    "    string = string.lower()\n",
    "    string = string.replace('_', ' ')\n",
    "    string = string.replace('-', ' ')\n",
    "    string = string.replace('[', ' ')\n",
    "    string = string.replace(']', ' ')\n",
    "    string = string.replace('(', ' ')\n",
    "    string = string.replace(')', ' ')\n",
    "    string = string.replace('?', ' ')\n",
    "    string = string.replace('*', ' ')\n",
    "    string = string.replace('copy of', ' ')\n",
    "    string = string.replace('copy', ' ')\n",
    "    string = \" \".join(string.split())\n",
    "\n",
    "    return string\n",
    "\n",
    "\n",
    "data['assembly_name_clean'] = data.apply(lambda row: process_assembly_names(row.assembly_name), axis=1)"
   ],
   "metadata": {
    "collapsed": false,
    "pycharm": {
     "name": "#%%\n"
    }
   }
  },
  {
   "cell_type": "code",
   "execution_count": 19,
   "outputs": [
    {
     "name": "stdout",
     "output_type": "stream",
     "text": [
      "After dedup: 61725\n",
      "Unique: 49601\n"
     ]
    }
   ],
   "source": [
    "print(f\"After dedup: {len(data)}\")\n",
    "print(f\"Unique: {len(data['assembly_name_clean'].unique())}\")"
   ],
   "metadata": {
    "collapsed": false,
    "pycharm": {
     "name": "#%%\n"
    }
   }
  },
  {
   "cell_type": "markdown",
   "source": [
    "### Clean part names"
   ],
   "metadata": {
    "collapsed": false,
    "pycharm": {
     "name": "#%% md\n"
    }
   }
  },
  {
   "cell_type": "code",
   "execution_count": 164,
   "outputs": [],
   "source": [
    "def process_part_names(list):\n",
    "    part_names = []\n",
    "    for string in list:\n",
    "        if \"MANIFOLD_SOLID_BREP\" in string:\n",
    "            return np.nan\n",
    "        string = string.replace('.x_t', '')\n",
    "        string = string.replace('.stp', '')\n",
    "        string = string.replace('.step', '')\n",
    "        string = string.replace('.dwg', '')\n",
    "        string = string.replace('.zip', '')\n",
    "        string = ' '.join(re.findall('.+?(?:(?<=[a-z])(?=[A-Z])|(?<=[A-Z])(?=[A-Z][a-z])|$)', string))  # splits camelCase into camel case\n",
    "        string = ' '.join(re.split('(\\s+|^)([A-Za-z]+)\\d+(\\s+|$)', string))  # removes number at the end\n",
    "        string = string.lower()\n",
    "        string = string.replace('_', ' ')\n",
    "        string = string.replace('-', ' ')\n",
    "        string = string.replace('[', ' ')\n",
    "        string = string.replace(']', ' ')\n",
    "        string = string.replace('(', ' ')\n",
    "        string = string.replace(')', ' ')\n",
    "        string = string.replace('?', ' ')\n",
    "        string = string.replace('*', ' ')\n",
    "        string = string.replace('copy of', ' ')\n",
    "        string = string.replace('copy', ' ')\n",
    "        string = \" \".join(string.split())\n",
    "\n",
    "        part_names.append(string)\n",
    "\n",
    "    return part_names\n",
    "\n",
    "\n",
    "data['part_names_clean'] = data.apply(lambda row: process_part_names(row.part_names), axis=1)\n",
    "data.dropna(subset=['part_names_clean'], inplace=True)\n"
   ],
   "metadata": {
    "collapsed": false,
    "pycharm": {
     "name": "#%%\n"
    }
   }
  },
  {
   "cell_type": "code",
   "execution_count": 165,
   "outputs": [
    {
     "data": {
      "text/plain": "         assembly_name                                         part_names  \\\n0          Lava Lamp 2                  [Blob3, Blob2, Blob1, Glass, Cap]   \n1  Sample - Headphones  [Pivot hinge, Headphone hinge, Telescope hinge...   \n4           Coffee Mug                                         [Mug, Lid]   \n5  Dave's Handsome Mug                                [Lid, Seal, Vessel]   \n9    Mechanical Pencil  [Eraser, Pencil Lead, Rubber Grip, Gripper Rod...   \n\n   assembly_name_clean                                   part_names_clean  \n0          lava lamp 2                     [blob, blob, blob, glass, cap]  \n1    sample headphones  [pivot hinge, headphone hinge, telescope hinge...  \n4           coffee mug                                         [mug, lid]  \n5  dave's handsome mug                                [lid, seal, vessel]  \n9    mechanical pencil  [eraser, pencil lead, rubber grip, gripper rod...  ",
      "text/html": "<div>\n<style scoped>\n    .dataframe tbody tr th:only-of-type {\n        vertical-align: middle;\n    }\n\n    .dataframe tbody tr th {\n        vertical-align: top;\n    }\n\n    .dataframe thead th {\n        text-align: right;\n    }\n</style>\n<table border=\"1\" class=\"dataframe\">\n  <thead>\n    <tr style=\"text-align: right;\">\n      <th></th>\n      <th>assembly_name</th>\n      <th>part_names</th>\n      <th>assembly_name_clean</th>\n      <th>part_names_clean</th>\n    </tr>\n  </thead>\n  <tbody>\n    <tr>\n      <th>0</th>\n      <td>Lava Lamp 2</td>\n      <td>[Blob3, Blob2, Blob1, Glass, Cap]</td>\n      <td>lava lamp 2</td>\n      <td>[blob, blob, blob, glass, cap]</td>\n    </tr>\n    <tr>\n      <th>1</th>\n      <td>Sample - Headphones</td>\n      <td>[Pivot hinge, Headphone hinge, Telescope hinge...</td>\n      <td>sample headphones</td>\n      <td>[pivot hinge, headphone hinge, telescope hinge...</td>\n    </tr>\n    <tr>\n      <th>4</th>\n      <td>Coffee Mug</td>\n      <td>[Mug, Lid]</td>\n      <td>coffee mug</td>\n      <td>[mug, lid]</td>\n    </tr>\n    <tr>\n      <th>5</th>\n      <td>Dave's Handsome Mug</td>\n      <td>[Lid, Seal, Vessel]</td>\n      <td>dave's handsome mug</td>\n      <td>[lid, seal, vessel]</td>\n    </tr>\n    <tr>\n      <th>9</th>\n      <td>Mechanical Pencil</td>\n      <td>[Eraser, Pencil Lead, Rubber Grip, Gripper Rod...</td>\n      <td>mechanical pencil</td>\n      <td>[eraser, pencil lead, rubber grip, gripper rod...</td>\n    </tr>\n  </tbody>\n</table>\n</div>"
     },
     "execution_count": 165,
     "metadata": {},
     "output_type": "execute_result"
    }
   ],
   "source": [
    "data.head()"
   ],
   "metadata": {
    "collapsed": false,
    "pycharm": {
     "name": "#%%\n"
    }
   }
  },
  {
   "cell_type": "markdown",
   "source": [
    "### Create sentences for BERT"
   ],
   "metadata": {
    "collapsed": false,
    "pycharm": {
     "name": "#%% md\n"
    }
   }
  },
  {
   "cell_type": "code",
   "execution_count": 166,
   "outputs": [
    {
     "name": "stderr",
     "output_type": "stream",
     "text": [
      "100%|██████████| 61601/61601 [00:03<00:00, 16824.21it/s]\n"
     ]
    }
   ],
   "source": [
    "deduplicate_part_names = True\n",
    "\n",
    "part_name_sentences = []\n",
    "assembly_name_sentences = []\n",
    "\n",
    "for index, row in tqdm(data.iterrows(), total=len(data)):\n",
    "    # if len(row['part_names_clean']) > 1:\n",
    "    # build single part name sentence\n",
    "    part_name_sentence = \"An assembly containing the following parts: \"\n",
    "    if deduplicate_part_names:\n",
    "        part_names = set(row['part_names_clean'])\n",
    "    else:\n",
    "        part_names = row['part_names_clean']\n",
    "    for part_name in part_names:\n",
    "        part_name_sentence +=  f\"{part_name}, \"\n",
    "    part_name_sentence = part_name_sentence[:-2] + \".\"\n",
    "    part_name_sentences.append(part_name_sentence)\n",
    "\n",
    "    # build single assembly name sentence\n",
    "    assembly_name_sentence = f\"An assembly with the name '{row['assembly_name_clean']}'\"\n",
    "    assembly_name_sentences.append(assembly_name_sentence)"
   ],
   "metadata": {
    "collapsed": false,
    "pycharm": {
     "name": "#%%\n"
    }
   }
  },
  {
   "cell_type": "code",
   "execution_count": 23,
   "outputs": [
    {
     "name": "stdout",
     "output_type": "stream",
     "text": [
      "61725\n"
     ]
    },
    {
     "data": {
      "text/plain": "['An assembly containing the following parts: blob, cap, glass.',\n 'An assembly containing the following parts: pivot hinge, telescope hinge, headphone hinge, upper band, headphone speaker.',\n 'An assembly containing the following parts: mug, lid.',\n 'An assembly containing the following parts: seal, vessel, lid.',\n 'An assembly containing the following parts: eraser, pencil lead, gripper rod, rubber grip, button release, lead gripper.',\n 'An assembly containing the following parts: block, link, peg, wheel, plate.',\n 'An assembly containing the following parts: torch holder, b18.3.5m 4 x 0.7 x 10 socket fchs 10s, default, head.',\n 'An assembly containing the following parts: cap, bottle base.',\n 'An assembly containing the following parts: symmetry of entretoise axe corps levier, symmetry of btr m, vis de purge, vis r x2 00e9 x0 glage gauche, corps amorto rotatif, symmetry of levier, btr m, x2 00e9 x0 crou colonne, bouton d x2 00e9 x0 marrage, shock shaft, seat, human upper arm, axes molette levier, symmetry of molette levier, rondelle clips, vis r x2 00e9 x0 glage droite, axe levier, bouton on off, arm, pivot, piston, symmetry of axe but x2 00e9 x0 e levier, symmetry of bille mollette levier, human thigh, axe but x2 00e9 x0 e levier, symmetry of bras de levier, but x2 00e9 x0 e, nose, embout de guidon, entretoise axe corps levier, rouleau, x2 00e9 x0 crou m axe corps levier, molette levier, symmetry of axes molette levier, vis m rouleau, symmetry of btr m axe corps levier, levier, symmetry of bras poussoir, axe t x2 00e9 x0 s, t x2 00e9 x0 sup x2 00e9 x0 rieur, human head, symmetry of bracelet droit, arm, pivot, steering, symmetry of btr m axe levier, t x2 00e9 x0 inf x2 00e9 x0 rieur, rondelle, symmetry of vis m rouleau, symmetry of bille mollette corps levier, bille mollette corps levier, patte bouton code phare, goupille axe levier, symmetry of but x2 00e9 x0 e, symmetry of rouleau, symmetry of bague axe corps levier, bouton r x2 00e9 x0 glage gauche, human fore arm, symmetry of x2 00e9 x0 crou vis m rouleau, fond alu ohlins incurv x2 00e9 x0, axe amorto rotatif, hub, human shin, human foot, btr m axe corps levier, arm support, symmetry of x2 00e9 x0 crou m axe corps levier, symmetry of corps levier, hydraulic mount, symmetry of goupille axe levier, symmetry of axe levier, bille mollette levier, vis bouton gauche, chape roulement, hydraulic shaft, arm, main, supports levier, corps mc isr, curseur noir, symmetry of supports levier, bracelet droit, bras poussoir, vis r x2 00e9 x0 glage lat x2 00e9 x0 ral, symmetry of clips, tank, symmetry of rondelle clips, symmetry of corps mc isr, symmetry of chape roulement, t x2 00e9 x0 sup x2 00e9 x0 rieur bis, x2 00e9 x0 crou vis m rouleau, clips, motor, symmetry of piston, corps levier, bras de levier, symmetry of poign x2 00e9 x0 e gauche, bague axe corps levier, symmetry of ecrou btr m axe levier, ecrou btr m axe levier, bouton code phare, poign x2 00e9 x0 e gauche, symmetry of embout de guidon, btr m axe levier.',\n 'An assembly containing the following parts: dowel 2, revolve thin1, cir pattern, base revolve, boss extrude1, chamfer, head fillet, fillet, indexing plunger gn 817 5 8 b ni0, hex, back plate, cut sweep1, cut extrude11 2, cut extrude2, bearing block renamed, sweep thin1, flange, cut revolve2, f, 10000001, cut extrude5, cut extrude11 3, cut extrude3, handle, head chamfer, end chamfer, revolve, tube lock, cut extrude1, sketched bend, roller, spindle, grabber, mounting surface imported, boss extrude6, base flange1, dowel, torque element, mirror, cut extrude6.']"
     },
     "execution_count": 23,
     "metadata": {},
     "output_type": "execute_result"
    }
   ],
   "source": [
    "print(len(part_name_sentences))\n",
    "part_name_sentences[:10]"
   ],
   "metadata": {
    "collapsed": false,
    "pycharm": {
     "name": "#%%\n"
    }
   }
  },
  {
   "cell_type": "code",
   "execution_count": 24,
   "outputs": [
    {
     "name": "stdout",
     "output_type": "stream",
     "text": [
      "61725\n"
     ]
    },
    {
     "data": {
      "text/plain": "[\"An assembly with the name 'lava lamp 2'\",\n \"An assembly with the name 'sample headphones'\",\n \"An assembly with the name 'coffee mug'\",\n \"An assembly with the name 'dave's handsome mug'\",\n \"An assembly with the name 'mechanical pencil'\",\n \"An assembly with the name 'os kinematics'\",\n \"An assembly with the name 'torch light for bike'\",\n \"An assembly with the name 'bottle'\",\n \"An assembly with the name 'concept vehicle'\",\n \"An assembly with the name 'mounting arm'\"]"
     },
     "execution_count": 24,
     "metadata": {},
     "output_type": "execute_result"
    }
   ],
   "source": [
    "print(len(assembly_name_sentences))\n",
    "assembly_name_sentences[:10]"
   ],
   "metadata": {
    "collapsed": false,
    "pycharm": {
     "name": "#%%\n"
    }
   }
  },
  {
   "cell_type": "markdown",
   "source": [
    "### Train test split"
   ],
   "metadata": {
    "collapsed": false,
    "pycharm": {
     "name": "#%% md\n"
    }
   }
  },
  {
   "cell_type": "code",
   "execution_count": 167,
   "outputs": [
    {
     "name": "stdout",
     "output_type": "stream",
     "text": [
      "Length of train strings: 49280\n",
      "Length of test strings: 12321\n",
      "Length of train labels: 49280\n",
      "Length of test labels: 12321\n"
     ]
    }
   ],
   "source": [
    "train_strings, test_strings, train_labels, test_labels = train_test_split(part_name_sentences,assembly_name_sentences, test_size=0.2)\n",
    "print(f\"Length of train strings: {len(train_strings)}\")\n",
    "print(f\"Length of test strings: {len(test_strings)}\")\n",
    "print(f\"Length of train labels: {len(train_labels)}\")\n",
    "print(f\"Length of test labels: {len(test_labels)}\")"
   ],
   "metadata": {
    "collapsed": false,
    "pycharm": {
     "name": "#%%\n"
    }
   }
  },
  {
   "cell_type": "markdown",
   "source": [
    "### Tokenize and create embeddings"
   ],
   "metadata": {
    "collapsed": false,
    "pycharm": {
     "name": "#%% md\n"
    },
    "id": "faKncEtB-7Ex"
   }
  },
  {
   "cell_type": "code",
   "source": [
    "model_checkpoint = 'bert-base-uncased'\n",
    "bert_tokenizer = BertTokenizer.from_pretrained(model_checkpoint)\n",
    "bert_model = TFBertModel.from_pretrained(model_checkpoint)"
   ],
   "metadata": {
    "colab": {
     "base_uri": "https://localhost:8080/"
    },
    "id": "moi0w8isA2ET",
    "outputId": "a067c591-61a6-411e-f8db-54d5f9371aeb",
    "pycharm": {
     "name": "#%%\n"
    }
   },
   "execution_count": 168,
   "outputs": [
    {
     "name": "stderr",
     "output_type": "stream",
     "text": [
      "Some layers from the model checkpoint at bert-base-uncased were not used when initializing TFBertModel: ['mlm___cls', 'nsp___cls']\n",
      "- This IS expected if you are initializing TFBertModel from the checkpoint of a model trained on another task or with another architecture (e.g. initializing a BertForSequenceClassification model from a BertForPreTraining model).\n",
      "- This IS NOT expected if you are initializing TFBertModel from the checkpoint of a model that you expect to be exactly identical (initializing a BertForSequenceClassification model from a BertForSequenceClassification model).\n",
      "All the layers of TFBertModel were initialized from the model checkpoint at bert-base-uncased.\n",
      "If your task is similar to the task the model of the checkpoint was trained on, you can already use TFBertModel for predictions without further training.\n"
     ]
    }
   ]
  },
  {
   "cell_type": "code",
   "execution_count": 169,
   "outputs": [],
   "source": [
    "samples = 100\n",
    "max_length = 128\n",
    "\n",
    "test_strings_token = bert_tokenizer(test_strings[:samples],\n",
    "              max_length=max_length,\n",
    "              truncation=True,\n",
    "              padding=True,\n",
    "              return_tensors='tf')\n",
    "\n",
    "test_labels_tokens = bert_tokenizer(test_labels[:samples],\n",
    "              max_length=max_length,\n",
    "              truncation=True,\n",
    "              padding=True,\n",
    "              return_tensors='tf')"
   ],
   "metadata": {
    "collapsed": false,
    "pycharm": {
     "name": "#%%\n"
    }
   }
  },
  {
   "cell_type": "code",
   "execution_count": 170,
   "outputs": [],
   "source": [
    "test_strings_embeddings = bert_model(test_strings_token)\n",
    "test_labels_embeddings = bert_model(test_labels_tokens)"
   ],
   "metadata": {
    "collapsed": false,
    "pycharm": {
     "name": "#%%\n"
    }
   }
  },
  {
   "cell_type": "code",
   "execution_count": 177,
   "outputs": [],
   "source": [
    "# test_strings_embeddings_pooled = test_strings_embeddings[1]\n",
    "# test_labels_embeddings_pooled = test_labels_embeddings[1]\n",
    "\n",
    "test_strings_embeddings_cls = test_strings_embeddings[0][:, 0, :]\n",
    "test_labels_embeddings_cls = test_labels_embeddings[0][:, 0, :]"
   ],
   "metadata": {
    "collapsed": false,
    "pycharm": {
     "name": "#%%\n"
    }
   }
  },
  {
   "cell_type": "markdown",
   "source": [
    "### Evaluate with cosine similarity and argmax"
   ],
   "metadata": {
    "collapsed": false,
    "pycharm": {
     "name": "#%% md\n"
    }
   }
  },
  {
   "cell_type": "code",
   "execution_count": 184,
   "outputs": [],
   "source": [
    "# test_strings_embeddings_pooled = tf.nn.l2_normalize(test_strings_embeddings_pooled, 0)\n",
    "# test_labels_embeddings_pooled = tf.nn.l2_normalize(test_labels_embeddings_pooled, 0)\n",
    "test_strings_embeddings_cls = tf.nn.l2_normalize(test_strings_embeddings_cls, 0)\n",
    "test_labels_embeddings_cls = tf.nn.l2_normalize(test_labels_embeddings_cls, 0)\n",
    "\n",
    "# similarity = test_strings_embeddings_pooled @ tf.transpose(test_labels_embeddings_pooled)\n",
    "similarity = test_strings_embeddings_cls @ tf.transpose(test_labels_embeddings_cls) #cls seems to work better"
   ],
   "metadata": {
    "collapsed": false,
    "pycharm": {
     "name": "#%%\n"
    }
   }
  },
  {
   "cell_type": "code",
   "execution_count": 185,
   "outputs": [
    {
     "data": {
      "text/plain": "[Text(0.5, 47.24444444444444, 'Part Names'),\n Text(74.44444444444444, 0.5, 'Assembly Names'),\n Text(0.5, 1.0, 'Cosine Similarity Between Assembly Names and Part Names')]"
     },
     "execution_count": 185,
     "metadata": {},
     "output_type": "execute_result"
    },
    {
     "data": {
      "text/plain": "<Figure size 640x480 with 2 Axes>",
      "image/png": "[encoded data removed]"
     },
     "metadata": {},
     "output_type": "display_data"
    }
   ],
   "source": [
    "ax = sns.heatmap(similarity, cmap=\"crest\", xticklabels=False, yticklabels=False) #, annot=True)\n",
    "ax.set(xlabel=\"Part Names\", ylabel=\"Assembly Names\", title=\"Cosine Similarity Between Assembly Names and Part Names\")"
   ],
   "metadata": {
    "collapsed": false,
    "pycharm": {
     "name": "#%%\n"
    }
   }
  },
  {
   "cell_type": "code",
   "execution_count": 186,
   "outputs": [
    {
     "name": "stdout",
     "output_type": "stream",
     "text": [
      "Predicted: 0 | Actual: 0\n",
      "Predicted: 84 | Actual: 1\n",
      "Predicted: 84 | Actual: 2\n",
      "Predicted: 46 | Actual: 3\n",
      "Predicted: 46 | Actual: 4\n",
      "Predicted: 84 | Actual: 5\n",
      "Predicted: 84 | Actual: 6\n",
      "Predicted: 84 | Actual: 7\n",
      "Predicted: 84 | Actual: 8\n",
      "Predicted: 84 | Actual: 9\n"
     ]
    }
   ],
   "source": [
    "pred = []\n",
    "true = []\n",
    "for index, value in enumerate(similarity[:10]):\n",
    "    predicted = np.argmax(value)\n",
    "    actual = index\n",
    "    pred.append(predicted)\n",
    "    true.append(actual)\n",
    "    print(f\"Predicted: {predicted} | Actual: {index}\")"
   ],
   "metadata": {
    "collapsed": false,
    "pycharm": {
     "name": "#%%\n"
    }
   }
  },
  {
   "cell_type": "code",
   "execution_count": 187,
   "outputs": [
    {
     "name": "stdout",
     "output_type": "stream",
     "text": [
      "Top-1 accuracy: 0.09\n",
      "Top-5 accuracy: 0.2\n",
      "Top-10 accuracy: 0.3\n"
     ]
    }
   ],
   "source": [
    "top_ks = [1,5,10]\n",
    "for k in top_ks:\n",
    "    top_k_values = np.argsort(-similarity, axis=1)[:,:k]\n",
    "    correct = 0\n",
    "    for index, row in enumerate(top_k_values):\n",
    "        if index in row:\n",
    "            correct += 1\n",
    "    accuracy = correct / len(similarity)\n",
    "    print(f\"Top-{k} accuracy: {accuracy}\")"
   ],
   "metadata": {
    "collapsed": false,
    "pycharm": {
     "name": "#%%\n"
    }
   }
  },
  {
   "cell_type": "markdown",
   "source": [
    "## Fine-tuned BERT"
   ],
   "metadata": {
    "collapsed": false,
    "pycharm": {
     "name": "#%% md\n"
    }
   }
  },
  {
   "cell_type": "code",
   "execution_count": null,
   "outputs": [],
   "source": [],
   "metadata": {
    "collapsed": false,
    "pycharm": {
     "name": "#%%\n"
    }
   }
  },
  {
   "cell_type": "code",
   "execution_count": null,
   "outputs": [],
   "source": [],
   "metadata": {
    "collapsed": false,
    "pycharm": {
     "name": "#%%\n"
    }
   }
  },
  {
   "cell_type": "code",
   "execution_count": null,
   "outputs": [],
   "source": [],
   "metadata": {
    "collapsed": false,
    "pycharm": {
     "name": "#%%\n"
    }
   }
  },
  {
   "cell_type": "code",
   "execution_count": null,
   "outputs": [],
   "source": [],
   "metadata": {
    "collapsed": false,
    "pycharm": {
     "name": "#%%\n"
    }
   }
  }
 ],
 "metadata": {
  "kernelspec": {
   "display_name": "Python 3",
   "language": "python",
   "name": "python3"
  },
  "language_info": {
   "codemirror_mode": {
    "name": "ipython",
    "version": 2
   },
   "file_extension": ".py",
   "mimetype": "text/x-python",
   "name": "python",
   "nbconvert_exporter": "python",
   "pygments_lexer": "ipython2",
   "version": "2.7.6"
  },
  "colab": {
   "provenance": [],
   "collapsed_sections": [],
   "include_colab_link": true
  },
  "accelerator": "GPU",
  "gpuClass": "standard"
 },
 "nbformat": 4,
 "nbformat_minor": 0
}