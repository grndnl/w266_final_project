{
 "cells": [
  {
   "cell_type": "markdown",
   "source": [
    "# Masked Language Model task for prediction of missing part in assembly"
   ],
   "metadata": {
    "collapsed": false,
    "pycharm": {
     "name": "#%% md\n"
    }
   }
  },
  {
   "cell_type": "code",
   "execution_count": 1,
   "outputs": [
    {
     "name": "stderr",
     "output_type": "stream",
     "text": [
      "[nltk_data] Downloading package averaged_perceptron_tagger to\n",
      "[nltk_data]     C:\\Users\\grandid\\AppData\\Roaming\\nltk_data...\n",
      "[nltk_data]   Package averaged_perceptron_tagger is already up-to-\n",
      "[nltk_data]       date!\n"
     ]
    },
    {
     "data": {
      "text/plain": "True"
     },
     "execution_count": 1,
     "metadata": {},
     "output_type": "execute_result"
    }
   ],
   "source": [
    "import numpy as np\n",
    "import tensorflow as tf\n",
    "from tensorflow import keras\n",
    "import pandas as pd\n",
    "from tqdm import tqdm\n",
    "from collections import Counter\n",
    "import nltk\n",
    "import seaborn as sns\n",
    "import matplotlib.pyplot as plt\n",
    "from sklearn.model_selection import train_test_split\n",
    "from sklearn.metrics import classification_report\n",
    "from transformers import BertTokenizer, TFBertModel, DataCollatorForLanguageModeling\n",
    "import re\n",
    "\n",
    "nltk.download('averaged_perceptron_tagger')"
   ],
   "metadata": {
    "collapsed": false,
    "pycharm": {
     "name": "#%%\n"
    }
   }
  },
  {
   "cell_type": "markdown",
   "source": [
    "### Pre-process data for task"
   ],
   "metadata": {
    "collapsed": false,
    "pycharm": {
     "name": "#%% md\n"
    }
   }
  },
  {
   "cell_type": "code",
   "execution_count": 2,
   "outputs": [],
   "source": [
    "data_path = \"../../data/data_02.feather\"\n",
    "data = pd.read_feather(data_path)"
   ],
   "metadata": {
    "collapsed": false,
    "pycharm": {
     "name": "#%%\n"
    }
   }
  },
  {
   "cell_type": "code",
   "execution_count": 3,
   "outputs": [
    {
     "data": {
      "text/plain": "         assembly_name                                         part_names\n0          Lava Lamp 2                  [Blob3, Blob2, Blob1, Glass, Cap]\n1  Sample - Headphones  [Pivot hinge, Headphone hinge, Telescope hinge...\n4           Coffee Mug                                         [Mug, Lid]\n5  Dave's Handsome Mug                                [Lid, Seal, Vessel]\n9    Mechanical Pencil  [Eraser, Pencil Lead, Rubber Grip, Gripper Rod...",
      "text/html": "<div>\n<style scoped>\n    .dataframe tbody tr th:only-of-type {\n        vertical-align: middle;\n    }\n\n    .dataframe tbody tr th {\n        vertical-align: top;\n    }\n\n    .dataframe thead th {\n        text-align: right;\n    }\n</style>\n<table border=\"1\" class=\"dataframe\">\n  <thead>\n    <tr style=\"text-align: right;\">\n      <th></th>\n      <th>assembly_name</th>\n      <th>part_names</th>\n    </tr>\n  </thead>\n  <tbody>\n    <tr>\n      <th>0</th>\n      <td>Lava Lamp 2</td>\n      <td>[Blob3, Blob2, Blob1, Glass, Cap]</td>\n    </tr>\n    <tr>\n      <th>1</th>\n      <td>Sample - Headphones</td>\n      <td>[Pivot hinge, Headphone hinge, Telescope hinge...</td>\n    </tr>\n    <tr>\n      <th>4</th>\n      <td>Coffee Mug</td>\n      <td>[Mug, Lid]</td>\n    </tr>\n    <tr>\n      <th>5</th>\n      <td>Dave's Handsome Mug</td>\n      <td>[Lid, Seal, Vessel]</td>\n    </tr>\n    <tr>\n      <th>9</th>\n      <td>Mechanical Pencil</td>\n      <td>[Eraser, Pencil Lead, Rubber Grip, Gripper Rod...</td>\n    </tr>\n  </tbody>\n</table>\n</div>"
     },
     "execution_count": 3,
     "metadata": {},
     "output_type": "execute_result"
    }
   ],
   "source": [
    "data = data.dropna(subset=[\"assembly_name\", \"part_names\"])\n",
    "data = data.drop(columns=[\"assembly_id\", 'assembly_description'])\n",
    "data.head()"
   ],
   "metadata": {
    "collapsed": false,
    "pycharm": {
     "name": "#%%\n"
    }
   }
  },
  {
   "cell_type": "code",
   "execution_count": 4,
   "outputs": [
    {
     "name": "stdout",
     "output_type": "stream",
     "text": [
      "Tot: 88886\n",
      "Unique: 67834\n",
      "\n",
      "After dedup: 61725\n",
      "Unique: 54034\n"
     ]
    }
   ],
   "source": [
    "# Deduplicate\n",
    "print(f\"Tot: {len(data)}\")\n",
    "print(f\"Unique: {len(data['assembly_name'].unique())}\")\n",
    "data = data[~data['part_names'].apply(tuple).duplicated()]\n",
    "print(f\"\\nAfter dedup: {len(data)}\")\n",
    "print(f\"Unique: {len(data['assembly_name'].unique())}\")"
   ],
   "metadata": {
    "collapsed": false,
    "pycharm": {
     "name": "#%%\n"
    }
   }
  },
  {
   "cell_type": "markdown",
   "source": [
    "### Clean assembly names"
   ],
   "metadata": {
    "collapsed": false,
    "pycharm": {
     "name": "#%% md\n"
    }
   }
  },
  {
   "cell_type": "code",
   "execution_count": 5,
   "outputs": [],
   "source": [
    "def process_assembly_names(string):\n",
    "    string = string.replace('.x_t', '')\n",
    "    string = string.replace('.stp', '')\n",
    "    string = string.replace('.step', '')\n",
    "    string = string.replace('.zip', '')\n",
    "    string = ' '.join(re.findall('.+?(?:(?<=[a-z])(?=[A-Z])|(?<=[A-Z])(?=[A-Z][a-z])|$)', string))  # splits camelCase into camel case\n",
    "    string = ' '.join(re.split('(\\s+|^)([A-Za-z]+)\\d+(\\s+|$)', string))  # removes number at the end\n",
    "    string = string.lower()\n",
    "    string = string.replace('_', ' ')\n",
    "    string = string.replace('-', ' ')\n",
    "    string = string.replace('[', ' ')\n",
    "    string = string.replace(']', ' ')\n",
    "    string = string.replace('(', ' ')\n",
    "    string = string.replace(')', ' ')\n",
    "    string = string.replace('?', ' ')\n",
    "    string = string.replace('*', ' ')\n",
    "    string = string.replace('copy of', ' ')\n",
    "    string = string.replace('copy', ' ')\n",
    "    string = \" \".join(string.split())\n",
    "\n",
    "    return string\n",
    "\n",
    "\n",
    "data['assembly_name_clean'] = data.apply(lambda row: process_assembly_names(row.assembly_name), axis=1)"
   ],
   "metadata": {
    "collapsed": false,
    "pycharm": {
     "name": "#%%\n"
    }
   }
  },
  {
   "cell_type": "code",
   "execution_count": 6,
   "outputs": [
    {
     "name": "stdout",
     "output_type": "stream",
     "text": [
      "After dedup: 61725\n",
      "Unique: 49601\n"
     ]
    }
   ],
   "source": [
    "print(f\"After dedup: {len(data)}\")\n",
    "print(f\"Unique: {len(data['assembly_name_clean'].unique())}\")"
   ],
   "metadata": {
    "collapsed": false,
    "pycharm": {
     "name": "#%%\n"
    }
   }
  },
  {
   "cell_type": "markdown",
   "source": [
    "### Clean part names"
   ],
   "metadata": {
    "collapsed": false,
    "pycharm": {
     "name": "#%% md\n"
    }
   }
  },
  {
   "cell_type": "code",
   "execution_count": 7,
   "outputs": [],
   "source": [
    "def process_part_names(list):\n",
    "    part_names = []\n",
    "    for string in list:\n",
    "        if \"MANIFOLD_SOLID_BREP\" in string:\n",
    "            return np.nan\n",
    "        string = string.replace('.x_t', '')\n",
    "        string = string.replace('.stp', '')\n",
    "        string = string.replace('.step', '')\n",
    "        string = string.replace('.dwg', '')\n",
    "        string = string.replace('.zip', '')\n",
    "        string = ' '.join(re.findall('.+?(?:(?<=[a-z])(?=[A-Z])|(?<=[A-Z])(?=[A-Z][a-z])|$)', string))  # splits camelCase into camel case\n",
    "        string = ' '.join(re.split('(\\s+|^)([A-Za-z]+)\\d+(\\s+|$)', string))  # removes number at the end\n",
    "        string = string.lower()\n",
    "        string = string.replace('_', ' ')\n",
    "        string = string.replace('-', ' ')\n",
    "        string = string.replace('[', ' ')\n",
    "        string = string.replace(']', ' ')\n",
    "        string = string.replace('(', ' ')\n",
    "        string = string.replace(')', ' ')\n",
    "        string = string.replace('?', ' ')\n",
    "        string = string.replace('*', ' ')\n",
    "        string = string.replace('copy of', ' ')\n",
    "        string = string.replace('copy', ' ')\n",
    "        string = \" \".join(string.split())\n",
    "\n",
    "        part_names.append(string)\n",
    "\n",
    "    return part_names\n",
    "\n",
    "\n",
    "data['part_names_clean'] = data.apply(lambda row: process_part_names(row.part_names), axis=1)\n",
    "data.dropna(subset=['part_names_clean'], inplace=True)\n"
   ],
   "metadata": {
    "collapsed": false,
    "pycharm": {
     "name": "#%%\n"
    }
   }
  },
  {
   "cell_type": "code",
   "execution_count": 8,
   "outputs": [
    {
     "data": {
      "text/plain": "         assembly_name                                         part_names  \\\n0          Lava Lamp 2                  [Blob3, Blob2, Blob1, Glass, Cap]   \n1  Sample - Headphones  [Pivot hinge, Headphone hinge, Telescope hinge...   \n4           Coffee Mug                                         [Mug, Lid]   \n5  Dave's Handsome Mug                                [Lid, Seal, Vessel]   \n9    Mechanical Pencil  [Eraser, Pencil Lead, Rubber Grip, Gripper Rod...   \n\n   assembly_name_clean                                   part_names_clean  \n0          lava lamp 2                     [blob, blob, blob, glass, cap]  \n1    sample headphones  [pivot hinge, headphone hinge, telescope hinge...  \n4           coffee mug                                         [mug, lid]  \n5  dave's handsome mug                                [lid, seal, vessel]  \n9    mechanical pencil  [eraser, pencil lead, rubber grip, gripper rod...  ",
      "text/html": "<div>\n<style scoped>\n    .dataframe tbody tr th:only-of-type {\n        vertical-align: middle;\n    }\n\n    .dataframe tbody tr th {\n        vertical-align: top;\n    }\n\n    .dataframe thead th {\n        text-align: right;\n    }\n</style>\n<table border=\"1\" class=\"dataframe\">\n  <thead>\n    <tr style=\"text-align: right;\">\n      <th></th>\n      <th>assembly_name</th>\n      <th>part_names</th>\n      <th>assembly_name_clean</th>\n      <th>part_names_clean</th>\n    </tr>\n  </thead>\n  <tbody>\n    <tr>\n      <th>0</th>\n      <td>Lava Lamp 2</td>\n      <td>[Blob3, Blob2, Blob1, Glass, Cap]</td>\n      <td>lava lamp 2</td>\n      <td>[blob, blob, blob, glass, cap]</td>\n    </tr>\n    <tr>\n      <th>1</th>\n      <td>Sample - Headphones</td>\n      <td>[Pivot hinge, Headphone hinge, Telescope hinge...</td>\n      <td>sample headphones</td>\n      <td>[pivot hinge, headphone hinge, telescope hinge...</td>\n    </tr>\n    <tr>\n      <th>4</th>\n      <td>Coffee Mug</td>\n      <td>[Mug, Lid]</td>\n      <td>coffee mug</td>\n      <td>[mug, lid]</td>\n    </tr>\n    <tr>\n      <th>5</th>\n      <td>Dave's Handsome Mug</td>\n      <td>[Lid, Seal, Vessel]</td>\n      <td>dave's handsome mug</td>\n      <td>[lid, seal, vessel]</td>\n    </tr>\n    <tr>\n      <th>9</th>\n      <td>Mechanical Pencil</td>\n      <td>[Eraser, Pencil Lead, Rubber Grip, Gripper Rod...</td>\n      <td>mechanical pencil</td>\n      <td>[eraser, pencil lead, rubber grip, gripper rod...</td>\n    </tr>\n  </tbody>\n</table>\n</div>"
     },
     "execution_count": 8,
     "metadata": {},
     "output_type": "execute_result"
    }
   ],
   "source": [
    "data.head()"
   ],
   "metadata": {
    "collapsed": false,
    "pycharm": {
     "name": "#%%\n"
    }
   }
  },
  {
   "cell_type": "markdown",
   "source": [
    "## Create strings for fine-tuning"
   ],
   "metadata": {
    "collapsed": false,
    "pycharm": {
     "name": "#%% md\n"
    }
   }
  },
  {
   "cell_type": "code",
   "execution_count": 9,
   "outputs": [
    {
     "name": "stderr",
     "output_type": "stream",
     "text": [
      "100%|██████████| 61601/61601 [00:04<00:00, 14612.92it/s]\n"
     ]
    }
   ],
   "source": [
    "strings = []\n",
    "for index, row in tqdm(data.iterrows(), total=len(data)):\n",
    "    if len(row['part_names_clean']) > 0:\n",
    "        string = f\"An assembly named '{row['assembly_name']}' containing the following parts: \"\n",
    "        for part_name in row['part_names']:\n",
    "            string += f\"{part_name}, \"\n",
    "        string = string[:-2] + \".\"\n",
    "        strings.append(string)"
   ],
   "metadata": {
    "collapsed": false,
    "pycharm": {
     "name": "#%%\n"
    }
   }
  },
  {
   "cell_type": "code",
   "execution_count": 10,
   "outputs": [
    {
     "data": {
      "text/plain": "[\"An assembly named 'Lava Lamp 2' containing the following parts: Blob3, Blob2, Blob1, Glass, Cap.\",\n \"An assembly named 'Sample - Headphones' containing the following parts: Pivot hinge, Headphone hinge, Telescope hinge, Upper band, Headphone speaker.\",\n \"An assembly named 'Coffee Mug' containing the following parts: Mug, Lid.\",\n \"An assembly named 'Dave's Handsome Mug' containing the following parts: Lid, Seal, Vessel.\",\n \"An assembly named 'Mechanical Pencil' containing the following parts: Eraser, Pencil Lead, Rubber Grip, Gripper Rod, Button Release, Lead Gripper.\",\n \"An assembly named 'OS kinematics' containing the following parts: plate, peg, block, link, link, wheel.\",\n \"An assembly named 'Torch Light For Bike' containing the following parts: Torch Holder, B18.3.5M - 4 x 0.7 x 10 Socket FCHS  -- 10S, Torch Holder, Head, Default.\",\n \"An assembly named 'Bottle' containing the following parts: Cap, Bottle_Base.\",\n \"An assembly named 'Concept Vehicle' containing the following parts: Nose, Seat, Tank, Shock Shaft, hub, Human fore arm, Human upper arm, Human foot, Human shin, Human thigh, Human head, Arm Support, Arm, Main, Arm, Pivot, hydraulic mount, Arm, Motor, Pivot, Steering, Hydraulic Shaft, Symmetry of embout de guidon, embout de guidon, Symmetry of corps mc isr, Symmetry of corps mc isr, Symmetry of supports levier, Symmetry of bras de levier, Symmetry of corps levier, Symmetry of levier, Symmetry of molette levier, Symmetry of axes molette levier, Symmetry of axes molette levier, Symmetry of chape roulement, Symmetry of rouleau, Symmetry of bille mollette corps levier, Symmetry of bille mollette levier, Symmetry of vis m5 rouleau, Symmetry of _X2_00E9_X0_crou vis m5 rouleau, Symmetry of axe levier, Symmetry of goupille axe levier, Symmetry of axe but_X2_00E9_X0_e levier, Symmetry of goupille axe levier, Symmetry of entretoise axe corps levier, Symmetry of bague axe corps levier, Symmetry of bague axe corps levier, Symmetry of btr m6 axe corps levier, Symmetry of _X2_00E9_X0_crou m6 axe corps levier, Symmetry of btr m4 axe levier, Symmetry of ecrou btr m4 axe levier, Symmetry of piston, Symmetry of rondelle clips, Symmetry of clips, Symmetry of bras poussoir, corps mc isr, corps mc isr, supports levier, bras de levier, corps levier, levier, molette levier, axes molette levier, axes molette levier, chape roulement, rouleau, bille mollette corps levier, bille mollette levier, vis m5 rouleau, _X2_00E9_X0_crou vis m5 rouleau, axe levier, goupille axe levier, axe but_X2_00E9_X0_e levier, goupille axe levier, entretoise axe corps levier, bague axe corps levier, bague axe corps levier, btr m6 axe corps levier, _X2_00E9_X0_crou m6 axe corps levier, btr m4 axe levier, ecrou btr m4 axe levier, piston, rondelle clips, clips, bras poussoir, Symmetry of poign_X2_00E9_X0_e gauche, bouton d_X2_00E9_X0_marrage, patte bouton code phare, bouton code phare, bouton on off, poign_X2_00E9_X0_e gauche, Symmetry of bracelet droit, bracelet droit, fond alu ohlins incurv_X2_00E9_X0_, vis bouton gauche, curseur noir, bouton r_X2_00E9_X0_glage gauche, vis r_X2_00E9_X0_glage gauche, vis r_X2_00E9_X0_glage droite, vis de purge, vis r_X2_00E9_X0_glage lat_X2_00E9_X0_ral, axe amorto rotatif, corps amorto rotatif, corps amorto rotatif, t_X2_00E9_X0_ inf_X2_00E9_X0_rieur, Symmetry of btr m8, but_X2_00E9_X0_e, Symmetry of btr m8, Symmetry of but_X2_00E9_X0_e, btr m8, axe t_X2_00E9_X0_s, rondelle, t_X2_00E9_X0_ sup_X2_00E9_X0_rieur, btr m8, btr m8, _X2_00E9_X0_crou colonne, t_X2_00E9_X0_ sup_X2_00E9_X0_rieur bis.\",\n \"An assembly named 'Mounting Arm' containing the following parts: 10000001, BackPlate, Spindle, Bearing Block - Renamed, Roller, Cut-Revolve2, Cut-Sweep1, Mirror2, Chamfer1, HeadFillet, EndChamfer, Boss-Extrude1, Mirror2, Chamfer1, HeadFillet, EndChamfer, Boss-Extrude1, Cut-Extrude2, Boss-Extrude6, Cut-Extrude11[2], Cut-Extrude11[3], Chamfer1, HeadFillet, EndChamfer, Boss-Extrude1, Cut-Extrude2, Boss-Extrude6, Cut-Extrude11[2], Cut-Extrude11[3], Chamfer1, HeadFillet, EndChamfer, Boss-Extrude1, Cut-Extrude1, Boss-Extrude1, Sketched Bend4, Cut-Extrude1, Boss-Extrude1, Sketched Bend4, Cut-Extrude2, Boss-Extrude1, Boss-Extrude1, Base-Flange1, Cut-Extrude2, Cut-Extrude1, Sketched Bend4, Cut-Extrude2, Cut-Extrude1, Sketched Bend4, Cut-Extrude3, Base-Flange1, Boss-Extrude1, Boss-Extrude1, Cut-Extrude2, Cut-Extrude1, Sketched Bend4, Cut-Extrude2, Cut-Extrude1, Sketched Bend4, Cut-Extrude3, Base-Flange1, Boss-Extrude1, Boss-Extrude1, Cut-Extrude2, Fillet2, CirPattern2, Cut-Extrude3, Cut-Extrude3, EndChamfer, EndChamfer, EndChamfer, EndChamfer, EndChamfer, EndChamfer, EndChamfer, EndChamfer, EndChamfer, EndChamfer, EndChamfer, EndChamfer, EndChamfer, EndChamfer, EndChamfer, EndChamfer, HeadChamfer, HeadChamfer, HeadChamfer, HeadChamfer, HeadChamfer, HeadChamfer, HeadChamfer, HeadChamfer, HeadChamfer, HeadChamfer, HeadChamfer, HeadChamfer, HeadChamfer, HeadChamfer, HeadChamfer, HeadChamfer, EndChamfer, EndChamfer, EndChamfer, EndChamfer, EndChamfer, EndChamfer, Base-Revolve, Base-Revolve, Base-Revolve, Base-Revolve, Base-Revolve, Base-Revolve, Hex, Hex, Hex, Hex, Hex, Hex, EndChamfer, EndChamfer, EndChamfer, EndChamfer, EndChamfer, EndChamfer, Chamfer1, Base-Revolve, Base-Revolve, Base-Revolve, Base-Revolve, Base-Revolve, Base-Revolve, Hex, Hex, Hex, Hex, Hex, Hex, Cut-Extrude6, HeadChamfer, EndChamfer, Cut-Extrude2, Cut-Extrude1, Revolve1, Hex, Hex, Hex, Hex, Boss-Extrude1, Cut-Extrude2, Chamfer1, Chamfer1, Cut-Extrude2, Chamfer1, Chamfer1, Cut-Extrude2, Chamfer1, Chamfer1, Cut-Extrude2, Chamfer1, Chamfer1, Cut-Extrude3, Revolve-Thin1, Revolve2, Revolve2, Revolve2, Revolve2, Revolve2, Revolve2, Revolve2, Revolve2, Fillet1, Fillet1, Fillet1, Fillet1, Hex, Hex, Hex, Hex, Hex, Hex, Hex, Hex, CirPattern1, CirPattern1, Fillet1, Revolve2, Revolve2, Revolve2, Revolve2, Chamfer1, Chamfer1, Chamfer1, Chamfer1, Chamfer1, Chamfer1, Fillet5, Hex, Hex, Hex, Hex, Chamfer1, Chamfer1, Cut-Extrude5, Fillet4, Cut-Extrude1, Base-Revolve, Base-Revolve, Cut-Extrude5, Fillet4, Cut-Extrude1, Base-Revolve, Base-Revolve, Fillet3, Fillet4, Cut-Extrude1, Base-Revolve, Base-Revolve, Fillet3, Fillet4, Cut-Extrude1, Base-Revolve, Base-Revolve, F1101, F1114, F1842, F1105, F914, F1131, F1102, F513, F1934, F1113, F1123, F1912, TorqueElement, TorqueElement, TorqueElement, TorqueElement, Chamfer2, Chamfer2, HeadChamfer, HeadChamfer, EndChamfer, EndChamfer, EndChamfer, EndChamfer, Base-Revolve, Base-Revolve, Base-Revolve, Base-Revolve, TorqueElement, TorqueElement, Revolve1, Revolve1, Hex, Hex, Hex, Hex, Sweep-Thin1, Dowel 2, Flange, Handle, Dowel, Tube Lock, Grabber, _Indexing plunger GN 817-5-8-B-NI0, Mounting Surface (Imported).\"]"
     },
     "execution_count": 10,
     "metadata": {},
     "output_type": "execute_result"
    }
   ],
   "source": [
    "strings[:10]"
   ],
   "metadata": {
    "collapsed": false,
    "pycharm": {
     "name": "#%%\n"
    }
   }
  },
  {
   "cell_type": "markdown",
   "source": [
    "### Train test split"
   ],
   "metadata": {
    "collapsed": false,
    "pycharm": {
     "name": "#%% md\n"
    }
   }
  },
  {
   "cell_type": "code",
   "execution_count": 11,
   "outputs": [
    {
     "name": "stdout",
     "output_type": "stream",
     "text": [
      "Length of train: 49280\n",
      "Length of test: 12321\n"
     ]
    }
   ],
   "source": [
    "ids = range(len(strings))\n",
    "train_ids, test_ids = train_test_split(ids, test_size=0.2)\n",
    "print(f\"Length of train: {len(train_ids)}\")\n",
    "print(f\"Length of test: {len(test_ids)}\")"
   ],
   "metadata": {
    "collapsed": false,
    "pycharm": {
     "name": "#%%\n"
    }
   }
  },
  {
   "cell_type": "code",
   "execution_count": 12,
   "outputs": [],
   "source": [
    "data.iloc[train_ids].to_csv('../../data/train.csv')\n",
    "data.iloc[test_ids].to_csv('../../data/test.csv')"
   ],
   "metadata": {
    "collapsed": false,
    "pycharm": {
     "name": "#%%\n"
    }
   }
  },
  {
   "cell_type": "code",
   "execution_count": 19,
   "outputs": [
    {
     "name": "stderr",
     "output_type": "stream",
     "text": [
      "100%|██████████| 1000/1000 [00:00<00:00, 1440.88it/s]"
     ]
    },
    {
     "name": "stdout",
     "output_type": "stream",
     "text": [
      "0\n"
     ]
    },
    {
     "name": "stderr",
     "output_type": "stream",
     "text": [
      "\n"
     ]
    }
   ],
   "source": [
    "errors = 0\n",
    "with open('../../data/fine_tune_train_strings.txt', 'w', encoding='utf-8') as f:\n",
    "    for line in tqdm(np.array(strings)[train_ids[:1000]]):\n",
    "        try:\n",
    "            f.write(f\"{line}\\n\")\n",
    "        except UnicodeEncodeError as E:\n",
    "            errors += 1\n",
    "print(errors)"
   ],
   "metadata": {
    "collapsed": false,
    "pycharm": {
     "name": "#%%\n"
    }
   }
  },
  {
   "cell_type": "code",
   "execution_count": null,
   "outputs": [],
   "source": [],
   "metadata": {
    "collapsed": false,
    "pycharm": {
     "name": "#%%\n"
    }
   }
  }
 ],
 "metadata": {
  "kernelspec": {
   "display_name": "Python 3",
   "language": "python",
   "name": "python3"
  },
  "language_info": {
   "codemirror_mode": {
    "name": "ipython",
    "version": 2
   },
   "file_extension": ".py",
   "mimetype": "text/x-python",
   "name": "python",
   "nbconvert_exporter": "python",
   "pygments_lexer": "ipython2",
   "version": "2.7.6"
  }
 },
 "nbformat": 4,
 "nbformat_minor": 0
}