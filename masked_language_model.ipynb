{
 "cells": [
  {
   "cell_type": "markdown",
   "source": [
    "# Masked Language Model task for prediction of missing part in assembly"
   ],
   "metadata": {
    "collapsed": false,
    "pycharm": {
     "name": "#%% md\n"
    }
   }
  },
  {
   "cell_type": "code",
   "execution_count": 92,
   "outputs": [],
   "source": [
    "import numpy as np\n",
    "import tensorflow as tf\n",
    "from tensorflow import keras\n",
    "import pandas as pd\n",
    "from tqdm import tqdm\n",
    "from collections import Counter\n",
    "\n",
    "import seaborn as sns\n",
    "import matplotlib.pyplot as plt\n",
    "from sklearn.model_selection import train_test_split\n",
    "from sklearn.metrics import classification_report\n",
    "\n",
    "from transformers import BertTokenizer, TFBertModel, DataCollatorForLanguageModeling"
   ],
   "metadata": {
    "collapsed": false,
    "pycharm": {
     "name": "#%%\n"
    }
   }
  },
  {
   "cell_type": "markdown",
   "source": [
    "### Pre-process data for task"
   ],
   "metadata": {
    "collapsed": false,
    "pycharm": {
     "name": "#%% md\n"
    }
   }
  },
  {
   "cell_type": "code",
   "execution_count": 28,
   "outputs": [],
   "source": [
    "data_path = \"data/data.feather\"\n",
    "data = pd.read_feather(data_path)"
   ],
   "metadata": {
    "collapsed": false,
    "pycharm": {
     "name": "#%%\n"
    }
   }
  },
  {
   "cell_type": "code",
   "execution_count": 29,
   "outputs": [
    {
     "data": {
      "text/plain": "         assembly_name                                         part_names\n0          Lava Lamp 2                  [Cap, Blob2, Glass, Blob3, Blob1]\n1  Sample - Headphones  [Pivot hinge, Headphone hinge, Telescope hinge...\n4           Coffee Mug                                         [Mug, Lid]\n5  Dave's Handsome Mug                                [Lid, Seal, Vessel]\n9    Mechanical Pencil  [Eraser, Pencil Lead, Button Release, Rubber G...",
      "text/html": "<div>\n<style scoped>\n    .dataframe tbody tr th:only-of-type {\n        vertical-align: middle;\n    }\n\n    .dataframe tbody tr th {\n        vertical-align: top;\n    }\n\n    .dataframe thead th {\n        text-align: right;\n    }\n</style>\n<table border=\"1\" class=\"dataframe\">\n  <thead>\n    <tr style=\"text-align: right;\">\n      <th></th>\n      <th>assembly_name</th>\n      <th>part_names</th>\n    </tr>\n  </thead>\n  <tbody>\n    <tr>\n      <th>0</th>\n      <td>Lava Lamp 2</td>\n      <td>[Cap, Blob2, Glass, Blob3, Blob1]</td>\n    </tr>\n    <tr>\n      <th>1</th>\n      <td>Sample - Headphones</td>\n      <td>[Pivot hinge, Headphone hinge, Telescope hinge...</td>\n    </tr>\n    <tr>\n      <th>4</th>\n      <td>Coffee Mug</td>\n      <td>[Mug, Lid]</td>\n    </tr>\n    <tr>\n      <th>5</th>\n      <td>Dave's Handsome Mug</td>\n      <td>[Lid, Seal, Vessel]</td>\n    </tr>\n    <tr>\n      <th>9</th>\n      <td>Mechanical Pencil</td>\n      <td>[Eraser, Pencil Lead, Button Release, Rubber G...</td>\n    </tr>\n  </tbody>\n</table>\n</div>"
     },
     "execution_count": 29,
     "metadata": {},
     "output_type": "execute_result"
    }
   ],
   "source": [
    "data = data.dropna(subset=[\"assembly_name\", \"part_names\"])\n",
    "data = data.drop(columns=[\"assembly_id\", 'assembly_description'])\n",
    "data.head()"
   ],
   "metadata": {
    "collapsed": false,
    "pycharm": {
     "name": "#%%\n"
    }
   }
  },
  {
   "cell_type": "code",
   "execution_count": 76,
   "outputs": [
    {
     "data": {
      "text/plain": "[(1, 33589),\n (2, 9522),\n (5, 6686),\n (3, 5960),\n (4, 4765),\n (6, 2926),\n (10, 2664),\n (8, 1992),\n (7, 1989),\n (9, 1403),\n (11, 1060),\n (12, 1016),\n (13, 795),\n (14, 708),\n (15, 701),\n (30, 587),\n (17, 506),\n (16, 479),\n (25, 459),\n (18, 449),\n (41, 419),\n (20, 418),\n (26, 415),\n (22, 395),\n (19, 385),\n (21, 325),\n (23, 278),\n (24, 250),\n (27, 236),\n (31, 234),\n (35, 231),\n (77, 218),\n (32, 216),\n (73, 205),\n (29, 197),\n (84, 186),\n (28, 173),\n (34, 170),\n (202, 149),\n (33, 148),\n (36, 147),\n (40, 142),\n (37, 139),\n (134, 125),\n (44, 124),\n (46, 119),\n (48, 118),\n (39, 111),\n (126, 103),\n (38, 101),\n (45, 96),\n (727, 95),\n (75, 92),\n (43, 89),\n (94, 86),\n (42, 84),\n (64, 80),\n (66, 79),\n (61, 79),\n (50, 78),\n (47, 76),\n (59, 74),\n (49, 72),\n (62, 71),\n (122, 66),\n (63, 66),\n (52, 65),\n (80, 63),\n (60, 63),\n (65, 60),\n (72, 58),\n (54, 57),\n (51, 56),\n (58, 55),\n (55, 55),\n (165, 54),\n (57, 51),\n (101, 48),\n (76, 47),\n (133, 44),\n (53, 44),\n (106, 39),\n (74, 38),\n (78, 38),\n (70, 37),\n (69, 37),\n (67, 34),\n (217, 32),\n (85, 31),\n (88, 30),\n (71, 29),\n (120, 29),\n (194, 29),\n (68, 27),\n (86, 26),\n (98, 26),\n (90, 25),\n (56, 25),\n (81, 23),\n (87, 23),\n (89, 23),\n (180, 22),\n (130, 22),\n (79, 22),\n (113, 22),\n (83, 21),\n (167, 20),\n (82, 20),\n (91, 20),\n (135, 20),\n (112, 19),\n (157, 19),\n (334, 19),\n (104, 18),\n (137, 17),\n (111, 16),\n (117, 16),\n (109, 16),\n (108, 16),\n (119, 15),\n (128, 15),\n (115, 15),\n (92, 15),\n (105, 14),\n (95, 14),\n (97, 14),\n (102, 14),\n (93, 13),\n (172, 13),\n (114, 13),\n (132, 13),\n (99, 12),\n (103, 12),\n (274, 12),\n (333, 12),\n (136, 11),\n (327, 11),\n (116, 11),\n (179, 11),\n (152, 11),\n (121, 11),\n (131, 10),\n (127, 10),\n (382, 9),\n (149, 9),\n (125, 9),\n (186, 9),\n (124, 9),\n (123, 9),\n (118, 9),\n (726, 9),\n (295, 8),\n (96, 8),\n (158, 8),\n (138, 8),\n (129, 8),\n (140, 8),\n (162, 8),\n (195, 8),\n (163, 8),\n (209, 7),\n (100, 7),\n (182, 7),\n (275, 7),\n (249, 7),\n (193, 7),\n (183, 6),\n (329, 6),\n (379, 6),\n (159, 6),\n (170, 6),\n (317, 6),\n (200, 6),\n (336, 6),\n (332, 6),\n (161, 6),\n (139, 6),\n (145, 6),\n (155, 6),\n (245, 6),\n (144, 6),\n (173, 5),\n (168, 5),\n (142, 5),\n (176, 5),\n (160, 5),\n (221, 5),\n (211, 5),\n (107, 5),\n (151, 5),\n (437, 5),\n (263, 5),\n (237, 5),\n (174, 5),\n (218, 5),\n (641, 5),\n (330, 4),\n (154, 4),\n (148, 4),\n (415, 4),\n (199, 4),\n (320, 4),\n (294, 4),\n (279, 4),\n (153, 4),\n (196, 4),\n (110, 4),\n (255, 4),\n (376, 4),\n (277, 4),\n (305, 4),\n (184, 4),\n (171, 4),\n (146, 3),\n (225, 3),\n (251, 3),\n (242, 3),\n (296, 3),\n (197, 3),\n (190, 3),\n (292, 3),\n (150, 3),\n (238, 3),\n (357, 3),\n (269, 3),\n (373, 3),\n (201, 3),\n (233, 3),\n (351, 3),\n (363, 3),\n (551, 3),\n (181, 3),\n (298, 3),\n (260, 3),\n (436, 3),\n (147, 3),\n (793, 3),\n (164, 3),\n (205, 3),\n (291, 3),\n (229, 3),\n (191, 3),\n (223, 3),\n (309, 2),\n (271, 2),\n (554, 2),\n (293, 2),\n (301, 2),\n (230, 2),\n (422, 2),\n (396, 2),\n (213, 2),\n (216, 2),\n (156, 2),\n (185, 2),\n (306, 2),\n (403, 2),\n (380, 2),\n (472, 2),\n (444, 2),\n (254, 2),\n (546, 2),\n (290, 2),\n (2683, 2),\n (281, 2),\n (226, 2),\n (289, 2),\n (192, 2),\n (409, 2),\n (187, 2),\n (420, 2),\n (276, 2),\n (231, 2),\n (484, 2),\n (487, 2),\n (493, 2),\n (319, 2),\n (240, 2),\n (566, 2),\n (239, 2),\n (143, 2),\n (371, 2),\n (166, 2),\n (273, 2),\n (286, 2),\n (381, 2),\n (206, 2),\n (365, 2),\n (188, 2),\n (212, 2),\n (567, 2),\n (256, 2),\n (252, 2),\n (234, 2),\n (264, 2),\n (220, 2),\n (258, 2),\n (335, 1),\n (448, 1),\n (198, 1),\n (480, 1),\n (1369, 1),\n (287, 1),\n (439, 1),\n (499, 1),\n (401, 1),\n (222, 1),\n (2578, 1),\n (574, 1),\n (210, 1),\n (337, 1),\n (588, 1),\n (243, 1),\n (215, 1),\n (703, 1),\n (866, 1),\n (643, 1),\n (477, 1),\n (1709, 1),\n (620, 1),\n (227, 1),\n (882, 1),\n (549, 1),\n (1030, 1),\n (813, 1),\n (861, 1),\n (453, 1),\n (207, 1),\n (1259, 1),\n (728, 1),\n (232, 1),\n (297, 1),\n (278, 1),\n (410, 1),\n (427, 1),\n (608, 1),\n (576, 1),\n (528, 1),\n (1348, 1),\n (204, 1),\n (384, 1),\n (406, 1),\n (308, 1),\n (438, 1),\n (257, 1),\n (314, 1),\n (1761, 1),\n (178, 1),\n (393, 1),\n (586, 1),\n (494, 1),\n (2362, 1),\n (423, 1),\n (584, 1),\n (378, 1),\n (426, 1),\n (389, 1),\n (430, 1),\n (312, 1),\n (344, 1),\n (601, 1),\n (311, 1),\n (581, 1),\n (512, 1),\n (328, 1),\n (687, 1),\n (385, 1),\n (338, 1),\n (508, 1),\n (404, 1),\n (236, 1),\n (412, 1),\n (1832, 1),\n (1035, 1),\n (1109, 1),\n (342, 1),\n (920, 1),\n (459, 1),\n (665, 1),\n (710, 1),\n (284, 1),\n (640, 1),\n (580, 1),\n (479, 1),\n (530, 1),\n (383, 1),\n (421, 1),\n (454, 1),\n (634, 1),\n (302, 1),\n (349, 1),\n (386, 1),\n (572, 1),\n (1195, 1),\n (366, 1),\n (175, 1),\n (348, 1),\n (970, 1),\n (353, 1),\n (265, 1),\n (1220, 1),\n (262, 1),\n (912, 1),\n (272, 1),\n (280, 1),\n (575, 1),\n (368, 1),\n (283, 1),\n (244, 1),\n (1158, 1),\n (1067, 1),\n (1261, 1),\n (442, 1),\n (268, 1),\n (507, 1),\n (670, 1),\n (791, 1),\n (1362, 1),\n (1285, 1),\n (405, 1),\n (4790, 1),\n (450, 1),\n (1921, 1),\n (1484, 1),\n (5134, 1),\n (4624, 1),\n (431, 1),\n (809, 1),\n (807, 1),\n (800, 1),\n (1386, 1),\n (1364, 1),\n (2159, 1),\n (900, 1),\n (648, 1),\n (701, 1),\n (322, 1),\n (647, 1),\n (1034, 1),\n (495, 1),\n (1245, 1),\n (456, 1),\n (565, 1),\n (1187, 1),\n (527, 1),\n (1151, 1),\n (1009, 1),\n (169, 1),\n (1272, 1),\n (515, 1),\n (313, 1),\n (1454, 1),\n (538, 1),\n (189, 1),\n (4303, 1),\n (347, 1),\n (649, 1),\n (563, 1),\n (491, 1),\n (177, 1),\n (858, 1),\n (739, 1),\n (2812, 1),\n (1635, 1),\n (340, 1),\n (267, 1),\n (1880, 1),\n (323, 1),\n (408, 1),\n (141, 1),\n (483, 1),\n (859, 1),\n (672, 1),\n (331, 1),\n (214, 1),\n (203, 1),\n (973, 1),\n (796, 1),\n (3222, 1),\n (729, 1),\n (354, 1),\n (417, 1)]"
     },
     "execution_count": 76,
     "metadata": {},
     "output_type": "execute_result"
    }
   ],
   "source": [
    "lengths = []\n",
    "for index, row in data.iterrows():\n",
    "    lengths.append(len(row['part_names']))\n",
    "\n",
    "Counter(lengths).most_common( )"
   ],
   "metadata": {
    "collapsed": false,
    "pycharm": {
     "name": "#%%\n"
    }
   }
  },
  {
   "cell_type": "markdown",
   "source": [
    "From the raw data only keep assemblies that have more than 1 part, create strings that can be fed into the model, clean up the strings to remove unnecessary characters, and make lowercase."
   ],
   "metadata": {
    "collapsed": false,
    "pycharm": {
     "name": "#%% md\n"
    }
   }
  },
  {
   "cell_type": "code",
   "execution_count": 43,
   "outputs": [
    {
     "name": "stderr",
     "output_type": "stream",
     "text": [
      "100%|██████████| 88886/88886 [00:05<00:00, 16850.43it/s]\n"
     ]
    }
   ],
   "source": [
    "\n",
    "def process_string(string):\n",
    "    string = string.lower()\n",
    "    string = string.replace('_', ' ')\n",
    "    string = string.replace('-', ' ')\n",
    "    string = string.replace('[', ' ')\n",
    "    string = string.replace(']', ' ')\n",
    "    string = string.replace('(', ' ')\n",
    "    string = string.replace(')', ' ')\n",
    "    string = string.replace('?', ' ')\n",
    "    return string\n",
    "\n",
    "strings = []\n",
    "for index, row in tqdm(data.iterrows(), total=len(data)):\n",
    "    if len(row['part_names']) > 1:\n",
    "        string = f\"In an assembly called '{row['assembly_name']}' there are the following parts: \"\n",
    "        for part_name in row['part_names']:\n",
    "            string += f\"{part_name}, \"\n",
    "        string = process_string(string[:-2] + \".\")\n",
    "        strings.append(string)"
   ],
   "metadata": {
    "collapsed": false,
    "pycharm": {
     "name": "#%%\n"
    }
   }
  },
  {
   "cell_type": "code",
   "execution_count": 45,
   "outputs": [
    {
     "name": "stdout",
     "output_type": "stream",
     "text": [
      "55297\n"
     ]
    },
    {
     "data": {
      "text/plain": "[\"in an assembly called 'lava lamp 2' there are the following parts: cap, blob2, glass, blob3, blob1.\",\n \"in an assembly called 'sample   headphones' there are the following parts: pivot hinge, headphone hinge, telescope hinge, upper band, headphone speaker.\",\n \"in an assembly called 'coffee mug' there are the following parts: mug, lid.\",\n \"in an assembly called 'dave's handsome mug' there are the following parts: lid, seal, vessel.\",\n \"in an assembly called 'mechanical pencil' there are the following parts: eraser, pencil lead, button release, rubber grip, lead gripper, gripper rod.\",\n \"in an assembly called 'os kinematics' there are the following parts: plate, block, peg, link, wheel.\",\n \"in an assembly called 'torch light for bike' there are the following parts: torch holder, b18.3.5m   4 x 0.7 x 10 socket fchs     10s, head, torch holder, default.\",\n \"in an assembly called 'bottle' there are the following parts: cap, bottle base.\",\n \"in an assembly called 'concept vehicle' there are the following parts: seat, nose, tank, shock shaft, hub, human shin, human thigh, human foot, human fore arm, human head, human upper arm, arm, arm, main, motor, arm support, hydraulic mount, pivot, steering, arm, pivot, hydraulic shaft, symmetry of axe levier, curseur noir, symmetry of bague axe corps levier, symmetry of rouleau, symmetry of poign x2 00e9 x0 e gauche, corps amorto rotatif, symmetry of vis m5 rouleau, symmetry of ecrou btr m4 axe levier, symmetry of supports levier, corps levier,  x2 00e9 x0 crou colonne, molette levier, bracelet droit, rondelle, bouton d x2 00e9 x0 marrage, symmetry of btr m4 axe levier, symmetry of  x2 00e9 x0 crou m6 axe corps levier, t x2 00e9 x0  inf x2 00e9 x0 rieur, chape roulement, symmetry of bracelet droit, clips, btr m4 axe levier, piston, rondelle clips, bras de levier, embout de guidon, rouleau, symmetry of levier, symmetry of but x2 00e9 x0 e, axes molette levier, bille mollette levier, symmetry of bras poussoir, bouton code phare, btr m8, bouton on off, symmetry of bille mollette levier, symmetry of axe but x2 00e9 x0 e levier, symmetry of bille mollette corps levier, fond alu ohlins incurv x2 00e9 x0 , bille mollette corps levier, btr m6 axe corps levier, vis de purge, t x2 00e9 x0  sup x2 00e9 x0 rieur, symmetry of bras de levier, symmetry of clips, axe t x2 00e9 x0 s, patte bouton code phare, symmetry of chape roulement, axe amorto rotatif, bras poussoir, axe levier, corps mc isr, goupille axe levier, supports levier, bouton r x2 00e9 x0 glage gauche, symmetry of corps levier, ecrou btr m4 axe levier, entretoise axe corps levier, symmetry of  x2 00e9 x0 crou vis m5 rouleau, but x2 00e9 x0 e, vis r x2 00e9 x0 glage droite, vis r x2 00e9 x0 glage gauche, symmetry of corps mc isr, symmetry of entretoise axe corps levier, symmetry of piston, symmetry of embout de guidon, symmetry of molette levier, symmetry of rondelle clips, levier, vis m5 rouleau,  x2 00e9 x0 crou vis m5 rouleau, vis r x2 00e9 x0 glage lat x2 00e9 x0 ral, symmetry of axes molette levier, symmetry of btr m6 axe corps levier, t x2 00e9 x0  sup x2 00e9 x0 rieur bis,  x2 00e9 x0 crou m6 axe corps levier, bague axe corps levier, poign x2 00e9 x0 e gauche, symmetry of btr m8, symmetry of goupille axe levier, vis bouton gauche, axe but x2 00e9 x0 e levier.\",\n \"in an assembly called 'mounting arm' there are the following parts: roller, spindle, backplate, bearing block   renamed, 10000001, cut sweep1, cut revolve2, chamfer2, endchamfer, cut extrude3, cut extrude11 2 , fillet5, f1114, headchamfer, fillet3, boss extrude6, cut extrude2, f1113, cirpattern1, cut extrude1, headfillet, revolve thin1, f1102, f1101, cut extrude11 3 , sketched bend4, cut extrude5, f513, f1912, sweep thin1, f914, base revolve, revolve1, cirpattern2, fillet2, base flange1, f1842, f1105, mirror2, f1131, cut extrude6, f1934, hex, revolve2, torqueelement, fillet4, fillet1, boss extrude1, f1123, chamfer1, handle, dowel, tube lock, flange, grabber, dowel 2,  indexing plunger gn 817 5 8 b ni0, mounting surface  imported .\"]"
     },
     "execution_count": 45,
     "metadata": {},
     "output_type": "execute_result"
    }
   ],
   "source": [
    "print(len(strings))\n",
    "strings[:10]"
   ],
   "metadata": {
    "collapsed": false,
    "pycharm": {
     "name": "#%%\n"
    }
   }
  },
  {
   "cell_type": "code",
   "execution_count": 49,
   "outputs": [
    {
     "name": "stdout",
     "output_type": "stream",
     "text": [
      "Length of train: 44237\n",
      "Length of test: 11060\n"
     ]
    }
   ],
   "source": [
    "train_strings, test_strings = train_test_split(strings, test_size=0.2)\n",
    "print(f\"Length of train: {len(train_strings)}\")\n",
    "print(f\"Length of test: {len(test_strings)}\")"
   ],
   "metadata": {
    "collapsed": false,
    "pycharm": {
     "name": "#%%\n"
    }
   }
  },
  {
   "cell_type": "code",
   "execution_count": 51,
   "outputs": [
    {
     "name": "stdout",
     "output_type": "stream",
     "text": [
      "0\n",
      "1\n",
      "6\n",
      "8\n",
      "73\n",
      "74\n",
      "106\n",
      "112\n",
      "594\n",
      "886\n",
      "2230\n",
      "36475\n",
      "37169\n",
      "138858\n"
     ]
    }
   ],
   "source": [
    "length = 0\n",
    "for i, string in enumerate(strings):\n",
    "    if len(string) > length:\n",
    "        length = len(string)\n",
    "        print(i)\n",
    "print(length)"
   ],
   "metadata": {
    "collapsed": false,
    "pycharm": {
     "name": "#%%\n"
    }
   }
  },
  {
   "cell_type": "code",
   "execution_count": 61,
   "outputs": [
    {
     "data": {
      "text/plain": "\"in an assembly called 'redback spyder' there are the following parts: filter, gudeon pin, floor pan side, straight pipe, nut : standard   0.3125 x 6.7469 16, nut : standard   0.5 x 7.9375, nut : standard   m14.0 x 201.6125, rear hinge support top plate, bolt : hex   0.3125 x 1.25 29, cr 09, co 06, part34, muffler, part33, gear shift housing, part10, bolt : hex   0.3125 x 1.25 27, part61 3, wheel front inner rim, nut : standard   0.3125 x 6.7469 27, part21, wheel spinner, gear box mount plate, part38 3, swivel, floor pan, part32, co 21, part61, spring, nut : standard   0.3125 x 6.7469 19, air conditioning unit, cc 01, dash support joiner 19, sheet metal part27 1, anti rollbar blade, nut : self locking   m12.0 x 268.859, drive pin 2, nut : standard   0.3125 x 6.7469 1, cr 30, part17 2, cr 20, nut : standard   0.3125 x 6.7469 11, dash support joiner 3, steering wheel gear paddle microswitch, panel light, fan, bolt : hex   0.3125 x 1.25 23, cc 23, nut : standard   m6.0 x 77.47, floor pan rear, part11 1, bolt : hex   0.3125 x 1.25 18, cf 03, aluminium suspension carrier 1, sheet metal part116, nut : standard   m6.0 x 128.27 3, cd 02, selection switch one, screw : socket   0.375 x 4.25, part49, co 12, pulley template 1, co 20, pushrod, fuel tank air cylinder mount support plate, front hinge support mid plate, boss, wheel center, nut : standard   0.3125 x 6.7469, tube 3, cr 10, dash support rear, cr 18, sheet metal part110, dash support joiner 18 , floor pan base, cf 05, rear hinge cross plate, air shock, cr 19, part31, nut : standard   0.3125 x 6.7469 26, part45, bolt : hex   0.3125 x 1.25 17, nut : standard   0.3125 x 6.7469 4, 35 12 41 30x, water inlet, aluminium suspension carrier 3, mounting, screw : socket   m12.0 x 45.0, mp112 solid rotots, seal, steering wheel gear paddle right, fuel tank, part61 2, adjuster, screw : socket   m10.0 x 50.0, gear shift  plate, part34 1, rear firewall lower, screw : hex   m12.0 x 80.0, cylinder, crank pulley, bolt : hex   0.3125 x 1.25 26, nut : standard   0.3125 x 6.7469 18, steering wheel gear paddle left, cf 08, nut : standard   0.3125 x 6.7469 2, fitting 999 6d, elbow 45deg 102 6, nut : standard   0.3125 x 6.7469 23, rear shock support bracket   side plate, part17 1, cylinder head, nut : standard   0.25 x 3.9688, part96 4, rear hub, cr 01, cf 12, ground effects tray, 35 20 43 010 filled2, cr 04, screw : socket   m12.0 x 60.0, conrodtop, sheet metal part115, rack adaptor, nut : standard   m6.0 x 128.27 1, elbow 90deg 103 6, sheet metal part118, part42, part98, part29 1, part96, needle 1, cf 10, 35 15 01 005, co 14, drive shaft, co 08, drive pin 3, upper, rear hinge gear box mount plate, condensor to dryer piping, nut : standard   0.3125 x 6.7469 15, pedal, part28, dash support joiner 10, cr 05, sheet metal part22, insert, engine block, co 03, steering wheel gear paddle microswitch angle, cr 03, sheet metal part7, nut : standard   0.3125 x 6.7469 29, part46, dash support joiner 12, screw : socket   m12.0 x 50.0, nut : standard   0.3125 x 6.7469 10, dash face, pipe bracket, windscreen wiper motor, part106, nut : standard   0.3125 x 6.7469 5, steering wheel column, bolt : hex   0.3125 x 1.25 6, bolt : hex   0.3125 x 1.25 7, bolt : hex   0.3125 x 1.25 10, collector, cr 12, nut : self locking   m6.0 x 77.47, air duct, mount, nut : standard   0.3125 x 6.7469 22, bolt : hex   0.3125 x 1.25 24, cylinders, cr 25, nut : standard   0.3125 x 6.7469 25, screw : socket   m6.0 x 35.0, volume knob, bolt : hex   0.3125 x 1.25 8, co 10, cr 14, sheet metal part27, dryer to evap piping, control panel, dash support joiner 5, brake pad, part96 1, drive pin 4, screw : socket   m12.0 x 75.0, cc 07, cr 21, part29 3, part61 1, co 19, nut : standard   0.3125 x 6.7469 12, dash support joiner 15, sheet metal part7 1, cc 12, cc 05, bolt : hex   0.3125 x 1.25 25, dryer, nut : washer face   m24.0 x 529.59, air comp, logo, bolt : hex   0.3125 x 1.25 21, dash support fwd, cf 11, sheet metal part23, co 18, ring : internal   m73.0 x 2.4, cr 07, part17, part38 1, top air vent, nut : standard   0.3125 x 6.7469 13, front brake disc caliper, part37, tee piece, anti rollbar knife 1, 34 12 41 000, needle 3, head, air defrost grill, front hinge support side plate, engine adapter plate, wheel rear outer rim, bolt : hex   0.3125 x 1.25 9, cr 31, part19, front shock support bracket   back plate, part37 3, cr 26, box, sheet metal part111, rod 1, nut : standard   0.3125 x 6.7469 28, cr 06, sheet metal part50, dash support joiner 20, part35 1, dash, elbow 90deg 103 4, bolt : hex   0.3125 x 1.25 2, nut : standard   0.3125 x 6.7469 7, co 17, button, elbow, reducer, lower, part95, pipe, cr 17, screw : socket   m10.0 x 40.0, fuel tank support beam1 3, rear tyre, cr 28, option screen, support plate, lhs rear piping, ball, rear shock support bracket   back plate, co 09, part9, co 13, nut : self locking   m10.0 x 208.788, part96 3, dash support joiner top, cc 14, pin, nut : standard   0.3125 x 6.7469 24, glass, screw : socket   m6.0 x 35.0 1, brake disc carrier, tube 1, belt, part37 2, handbrake carrier, yoke, rear hinge support bottom plate, button pad two, sheet metal part18, dash support joiner 9, angle bracket, part74, core, cr 08, mp90 112 bearing plate profile, joiner, rear brake disc caliper, co 23, belt tensioner, part36, dash support joiner 11, fuel tank support beam2 3, steering wheel gear paddle microswitch block, cd 04, mount plate, screw : socket   m10.0 x 60.0, part96 5, rear shock support bracket   top plate, anti rollbar knife, flange, dash support joiner 13, part50, rear shock support bracket   front plate, sheet metal part106, part121, air mass, indicators, center console panel, cr 29, nut : self locking   m8.0 x 168.148, lower inlet, cr 11, dash support joiner 16, aluminium suspension carrier, rod, brake disc, cf 06, screw : socket   m6.0 x 35.0 2, car seat bottom, part67, drive pin, cr 24, cf 07, tube 2, part35, decal, 45 01 41 102, horn cap, part38, gearbox, bellcrank, co 05, part17 3, steering column base plate, sheet metal part107, bolt : hex   0.3125 x 1.25 12, transition, part11, center console, co 11, gear box mount, nut : standard   0.3125 x 6.7469 20, bolt : hex   0.3125 x 1.25 15, cc 18, cr 15, co 15, part27, wheel front outer rim, horn, blade, car seat top, part37 1, rear hinge base plate, sheet metal part50 1, interior panel rhs, bolt : hex   0.3125 x 1.25 22, steering wheel gear paddle mounting plate, co 22, cc 11, end, nut : standard   0.3125 x 6.7469 14, rear hinge gusset, front firewall lower, part51, screw : socket   m6.0 x 35.0 3, cd 03, bolt : hex   m8.0 x 50.0, front firewall access panel, idler, center lower panel, co 07, cc 16, nut : standard   0.3125 x 6.7469 17, front shock support bracket   top plate, name badge, part96 2, sheet metal part19, gearbox adapter plate, bolt : hex   0.3125 x 1.25 20, sheet metal part21, inside ring, coil, part23, aluminium suspension carrier 2, bearing, air box, part38 2, bolt : hex   0.3125 x 1.25 14, cr 13, cc 13, cr 02, needle large, crankshaft, nut : standard   0.3125 x 6.7469 9, part41, frame, rear piping, co 24, cd screen, 380 pipe, bolt : hex   0.3125 x 1.25 16, part24, sheet metal part108, 35 12 41 36x blank lid, sheet metal part29 1, sheet metal part112, bolt : hex   0.3125 x 1.25 13, needle, motor, engine sump, screw : socket   0.375 x 4.25 1, cr 23, co 02, dash support joiner 17, needle 4, part89, fuel pump, nut : standard   0.3125 x 6.7469 6, ring : internal   m75.0 x 2.4, upper inlet, spider, nut : standard   0.5 x 7.9375 1, rear upright, cf 09, cap, rear hinge support side plate, part29 2, elbow 150deg 103 6, part57, part49 1, dash support joiner 1, part30, glove box door, steering column upper plate, tube, screw : socket   m8.0 x 25.0, nut : standard   0.3125 x 6.7469 21, bolt : hex   0.3125 x 1.25 1, part39, rocket cover, piston , cd player, thermo housing, nut : standard   0.375 x 8.3344 1, cr 22, alternator, steering rack, cr 27, part40, bolt : hex   0.3125 x 1.25 5, dash support joiner 6, part53, sheet metal part109, nut : standard   m10.0 x 123.19, screw : socket   m6.0 x 20.0, drive pin 1, bolt : hex   0.3125 x 1.25 19, dash support joiner 7, nut : standard   0.75 x 10.7156, wheel rear inner rim, bolt : hex   0.3125 x 1.25 11, front shock support bracket   front plate, throttle, cr 28 1, outside ring, button pad one, bolt : hex   0.3125 x 1.25, dash support joiner 2, bolt : hex   0.3125 x 1.25 28, front hinge support top plate, button feature 1, sheet metal part20, screw : socket   m8.0 x 30.0, co 01, bolt : hex   0.3125 x 1.25 3, water pump, nut : standard   m6.0 x 128.27 2, nut : standard   0.3125 x 6.7469 3, fan cover, stereo face one, nut : standard   0.3125 x 6.7469 8, dash support joiner 21, part29, wheel nut, cr 32, sheet metal part29, intercooler, nut : standard   0.375 x 8.3344, 35 15 01 205, co 16, rhs rear piping, cd 01, nut : standard   m8.0 x 168.148, dash support joiner 22, cc 15, stub, dash support joiner 14, cc 17, needle 2, intake duct, bolt : hex   0.3125 x 1.25 4, dash support joiner 8, cr 16, nut : standard   m6.0 x 128.27, dash support joiner 4, co 04, front light holder plate rhs, lense, air scoop rear, screw, part41, headlight holder plate fwd lhs, part32 1, wing support, screw 2, part32, part45, headlight holder plate rear lhs, plug, rear light pod, reverse, adjuster 2, air scoop front, door, glass, adjuster, part37, window, part36 1, headlight holder plate fwd rhs, headlight holder plate rear rhs, lamp, globe, part30 1, end plate 1, screw 1, reverse 1, headlight plate joiner, rear glass, part30, part36, end plate, rear wing, pressed fins, reflector, adjuster 1, trim, housing.\""
     },
     "execution_count": 61,
     "metadata": {},
     "output_type": "execute_result"
    }
   ],
   "source": [
    "strings[594]"
   ],
   "metadata": {
    "collapsed": false,
    "pycharm": {
     "name": "#%%\n"
    }
   }
  },
  {
   "cell_type": "markdown",
   "source": [
    "Tokenize the data."
   ],
   "metadata": {
    "collapsed": false,
    "pycharm": {
     "name": "#%% md\n"
    }
   }
  },
  {
   "cell_type": "code",
   "execution_count": 81,
   "outputs": [
    {
     "data": {
      "text/plain": "Downloading:   0%|          | 0.00/232k [00:00<?, ?B/s]",
      "application/vnd.jupyter.widget-view+json": {
       "version_major": 2,
       "version_minor": 0,
       "model_id": "af6aed1ae8964b0995ea3f1f69b61b98"
      }
     },
     "metadata": {},
     "output_type": "display_data"
    },
    {
     "data": {
      "text/plain": "Downloading:   0%|          | 0.00/536M [00:00<?, ?B/s]",
      "application/vnd.jupyter.widget-view+json": {
       "version_major": 2,
       "version_minor": 0,
       "model_id": "2801d6ed5c014fe192f48a9aeb762ce8"
      }
     },
     "metadata": {},
     "output_type": "display_data"
    },
    {
     "name": "stderr",
     "output_type": "stream",
     "text": [
      "Some layers from the model checkpoint at bert-base-uncased were not used when initializing TFBertModel: ['nsp___cls', 'mlm___cls']\n",
      "- This IS expected if you are initializing TFBertModel from the checkpoint of a model trained on another task or with another architecture (e.g. initializing a BertForSequenceClassification model from a BertForPreTraining model).\n",
      "- This IS NOT expected if you are initializing TFBertModel from the checkpoint of a model that you expect to be exactly identical (initializing a BertForSequenceClassification model from a BertForSequenceClassification model).\n",
      "All the layers of TFBertModel were initialized from the model checkpoint at bert-base-uncased.\n",
      "If your task is similar to the task the model of the checkpoint was trained on, you can already use TFBertModel for predictions without further training.\n"
     ]
    }
   ],
   "source": [
    "max_length = 128\n",
    "\n",
    "model_checkpoint = 'bert-base-uncased'\n",
    "bert_tokenizer = BertTokenizer.from_pretrained(model_checkpoint)\n",
    "bert_model = TFBertModel.from_pretrained(model_checkpoint)"
   ],
   "metadata": {
    "collapsed": false,
    "pycharm": {
     "name": "#%%\n"
    }
   }
  },
  {
   "cell_type": "code",
   "execution_count": 90,
   "outputs": [],
   "source": [
    "train_encodings = bert_tokenizer(train_strings, truncation=True, padding=True, max_length=max_length, return_tensors='tf', return_special_tokens_mask=True)\n",
    "test_encodings = bert_tokenizer(test_strings, truncation=True, padding=True, max_length=max_length, return_tensors='tf', return_special_tokens_mask=True)"
   ],
   "metadata": {
    "collapsed": false,
    "pycharm": {
     "name": "#%%\n"
    }
   }
  },
  {
   "cell_type": "code",
   "execution_count": 85,
   "outputs": [
    {
     "data": {
      "text/plain": "<tf.Tensor: shape=(2, 128), dtype=int32, numpy=\narray([[  101,  1999,  2019,  3320,  2170,  1005, 15333,  2226,  2139,\n         2810,  4241,  6948,  2475,  2072,  6100,  1005,  2045,  2024,\n         1996,  2206,  3033,  1024, 23189,  2015,  1010, 23189,  1010,\n         2490,  1016,  5013,  1032,  1060,  2475,  1032,  4002,  2063,\n         2683,  1032,  1060,  2692,  1032, 23245, 11236,  1010, 23189,\n         1009, 12528,  1010, 23189,  1009, 12528,  1010, 23189,  1010,\n        23189,  1010, 23189,  1009, 12528,  1010, 23189,  1010, 23189,\n         2015,  1010, 23189,  1009, 12528,  1010, 23189,  1010,  1043,\n         6856,  5332,  2128,  1009, 12528,  1010,  1016, 23189,  2015,\n         1009, 12528,  1010, 23189,  1009, 12528,  1010, 23189,  1009,\n        12528,  1010, 12946,  9587,  2618,  3126,  1010, 12528,  1010,\n        23189,  1010, 12528,  1012,   102,     0,     0,     0,     0,\n            0,     0,     0,     0,     0,     0,     0,     0,     0,\n            0,     0,     0,     0,     0,     0,     0,     0,     0,\n            0,     0],\n       [  101,  1999,  2019,  3320,  2170,  1005,  8301,  2094,  5880,\n        11215,  1012,  2358,  2361,  1005,  2045,  2024,  1996,  2206,\n         3033,  1024,  5018,  1010,  1022,  1010,  6036,  1010,  3438,\n         1010, 16345,  1010,  6146,  1010, 19410,  1010,  2676,  1010,\n         4724,  1010, 16666,  1010,  6421,  1010,  3590,  1010, 18914,\n         1010, 19936,  1010, 19984,  1010, 18225,  1010,  7287,  1010,\n        16734,  1010, 12457,  1010, 17943,  1010,  6391,  1010,  4029,\n         1010, 17832,  1010,  3429,  1010, 13138,  1010,  2603,  1010,\n        10630,  1010, 16621,  1010,  4805,  1010, 16327,  1010,  6282,\n         1010, 17613,  1010,  6535,  1010, 18164,  1010, 19627,  1010,\n         5786,  1010,  7886,  1010, 13092,  1010, 18744,  1010, 17867,\n         1010,  2484,  1010,  3515,  1010,  4008,  1010, 18677,  1010,\n        17405,  1010,  8574,  1010,  4293,  1010,  6365,  1010,  2531,\n         1010,  8380,  1010, 10550,  1010,  2423,  1010, 14748,  1010,\n         1017,   102]])>"
     },
     "execution_count": 85,
     "metadata": {},
     "output_type": "execute_result"
    }
   ],
   "source": [
    "train_encodings.input_ids[:2]"
   ],
   "metadata": {
    "collapsed": false,
    "pycharm": {
     "name": "#%%\n"
    }
   }
  },
  {
   "cell_type": "code",
   "execution_count": 100,
   "outputs": [
    {
     "data": {
      "text/plain": "\"[CLS] in an assembly called'skidwaterair. stp'there are the following parts : 150, 8, 120, 60, 201, 76, 173, 27, 43, 154, 73, 32, 159, 214, 193, 171, 110, 156, 114, 164, 84, 36, 162, 45, 123, 23, 115, 139, 46, 205, 81, 192, 79, 212, 204, 62, 101, 122, 206, 163, 24, 65, 44, 183, 215, 140, 75, 94, 100, 180, 107, 25, 144, 3 [SEP]\""
     },
     "execution_count": 100,
     "metadata": {},
     "output_type": "execute_result"
    }
   ],
   "source": [
    "bert_tokenizer.decode(train_encodings['input_ids'][1])"
   ],
   "metadata": {
    "collapsed": false,
    "pycharm": {
     "name": "#%%\n"
    }
   }
  },
  {
   "cell_type": "markdown",
   "source": [
    "Next, we will mask the data randomly."
   ],
   "metadata": {
    "collapsed": false,
    "pycharm": {
     "name": "#%% md\n"
    }
   }
  },
  {
   "cell_type": "code",
   "execution_count": 129,
   "outputs": [],
   "source": [
    "data_collator = DataCollatorForLanguageModeling(tokenizer=bert_tokenizer, mlm_probability=0.15)\n",
    "# TODO: modify the data collator to avoid the words that are always the same in the input sentences"
   ],
   "metadata": {
    "collapsed": false,
    "pycharm": {
     "name": "#%%\n"
    }
   }
  },
  {
   "cell_type": "code",
   "execution_count": 132,
   "outputs": [
    {
     "name": "stdout",
     "output_type": "stream",
     "text": [
      "\n",
      "'>>> [CLS] in an assembly called'je [MASK] de construction du lp2i edo'there are the [MASK] parts : barres, barre, support 2 motor \\ [MASK]2 \\ 00e [MASK] \\ x0 \\ [MASK]eur [MASK] barre + clip, barre + clip, barre, barre [MASK] barre + [MASK], barre, barres [MASK] barre + clip, barre [MASK] glissi re + clip, 2 barres + clip, barre + clip, [MASK] + clip, axe moteur, clip [MASK] barre, clip [MASK] [SEP] [PAD] [PAD] [PAD] [PAD] [PAD] [PAD] [PAD] [PAD] [PAD] [PAD] [PAD] [PAD] [PAD] [PAD] [PAD] [PAD] [PAD] [PAD] [PAD] [PAD] [PAD] [PAD] [PAD] [PAD]'\n",
      "\n",
      "'>>> [CLS] in an assembly called [MASK] skidwaterair. stp'[MASK] are the following parts chatting 150, 8 [MASK] 120, 60, 201, [MASK] [MASK] 173, 27, 43 [MASK] 154, 73, 32, 159, 214, 193, [MASK], 110, [MASK], 114, 164 [MASK] 84, 36, 162, 45, [MASK], 23, 115, 139 [MASK] 46, 205, 81, [MASK], 79, 212 [MASK] 204, [MASK], 101, 122, 206 [MASK] 163, 24, 65, 44, [MASK], 215, [MASK], 75, 94, 100, 180, 107, 25, 144, 3 [SEP]'\n"
     ]
    }
   ],
   "source": [
    "samples = [train_encodings['input_ids'][i] for i in range(2)]\n",
    "\n",
    "\n",
    "for chunk in data_collator(samples, return_tensors='tf')[\"input_ids\"]:\n",
    "    print(f\"\\n'>>> {bert_tokenizer.decode(chunk)}'\")"
   ],
   "metadata": {
    "collapsed": false,
    "pycharm": {
     "name": "#%%\n"
    }
   }
  },
  {
   "cell_type": "code",
   "execution_count": null,
   "outputs": [],
   "source": [],
   "metadata": {
    "collapsed": false,
    "pycharm": {
     "name": "#%%\n"
    }
   }
  },
  {
   "cell_type": "code",
   "execution_count": null,
   "outputs": [],
   "source": [],
   "metadata": {
    "collapsed": false,
    "pycharm": {
     "name": "#%%\n"
    }
   }
  },
  {
   "cell_type": "code",
   "execution_count": null,
   "outputs": [],
   "source": [],
   "metadata": {
    "collapsed": false,
    "pycharm": {
     "name": "#%%\n"
    }
   }
  },
  {
   "cell_type": "code",
   "execution_count": null,
   "outputs": [],
   "source": [],
   "metadata": {
    "collapsed": false,
    "pycharm": {
     "name": "#%%\n"
    }
   }
  },
  {
   "cell_type": "code",
   "execution_count": null,
   "outputs": [],
   "source": [],
   "metadata": {
    "collapsed": false,
    "pycharm": {
     "name": "#%%\n"
    }
   }
  },
  {
   "cell_type": "code",
   "execution_count": null,
   "outputs": [],
   "source": [],
   "metadata": {
    "collapsed": false,
    "pycharm": {
     "name": "#%%\n"
    }
   }
  }
 ],
 "metadata": {
  "kernelspec": {
   "display_name": "Python 3",
   "language": "python",
   "name": "python3"
  },
  "language_info": {
   "codemirror_mode": {
    "name": "ipython",
    "version": 2
   },
   "file_extension": ".py",
   "mimetype": "text/x-python",
   "name": "python",
   "nbconvert_exporter": "python",
   "pygments_lexer": "ipython2",
   "version": "2.7.6"
  }
 },
 "nbformat": 4,
 "nbformat_minor": 0
}