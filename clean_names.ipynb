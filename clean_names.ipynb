{
 "cells": [
  {
   "cell_type": "markdown",
   "source": [
    "# Clean assembly names in an attempt to reduce unique names"
   ],
   "metadata": {
    "collapsed": false,
    "pycharm": {
     "name": "#%% md\n"
    }
   }
  },
  {
   "cell_type": "code",
   "execution_count": 174,
   "outputs": [],
   "source": [
    "import pandas as pd\n",
    "from collections import Counter\n",
    "import re\n",
    "from tqdm import tqdm\n",
    "from transformers import BertTokenizer, TFBertModel\n",
    "from pprint import pprint"
   ],
   "metadata": {
    "collapsed": false,
    "pycharm": {
     "name": "#%%\n"
    }
   }
  },
  {
   "cell_type": "markdown",
   "source": [
    "### Pre-process data for task"
   ],
   "metadata": {
    "collapsed": false,
    "pycharm": {
     "name": "#%% md\n"
    }
   }
  },
  {
   "cell_type": "code",
   "execution_count": 175,
   "outputs": [],
   "source": [
    "data_path = \"data/data_02.feather\"\n",
    "data = pd.read_feather(data_path)"
   ],
   "metadata": {
    "collapsed": false,
    "pycharm": {
     "name": "#%%\n"
    }
   }
  },
  {
   "cell_type": "code",
   "execution_count": 176,
   "outputs": [
    {
     "data": {
      "text/plain": "         assembly_name                                         part_names\n0          Lava Lamp 2                  [Blob3, Blob2, Blob1, Glass, Cap]\n1  Sample - Headphones  [Pivot hinge, Headphone hinge, Telescope hinge...\n4           Coffee Mug                                         [Mug, Lid]\n5  Dave's Handsome Mug                                [Lid, Seal, Vessel]\n9    Mechanical Pencil  [Eraser, Pencil Lead, Rubber Grip, Gripper Rod...",
      "text/html": "<div>\n<style scoped>\n    .dataframe tbody tr th:only-of-type {\n        vertical-align: middle;\n    }\n\n    .dataframe tbody tr th {\n        vertical-align: top;\n    }\n\n    .dataframe thead th {\n        text-align: right;\n    }\n</style>\n<table border=\"1\" class=\"dataframe\">\n  <thead>\n    <tr style=\"text-align: right;\">\n      <th></th>\n      <th>assembly_name</th>\n      <th>part_names</th>\n    </tr>\n  </thead>\n  <tbody>\n    <tr>\n      <th>0</th>\n      <td>Lava Lamp 2</td>\n      <td>[Blob3, Blob2, Blob1, Glass, Cap]</td>\n    </tr>\n    <tr>\n      <th>1</th>\n      <td>Sample - Headphones</td>\n      <td>[Pivot hinge, Headphone hinge, Telescope hinge...</td>\n    </tr>\n    <tr>\n      <th>4</th>\n      <td>Coffee Mug</td>\n      <td>[Mug, Lid]</td>\n    </tr>\n    <tr>\n      <th>5</th>\n      <td>Dave's Handsome Mug</td>\n      <td>[Lid, Seal, Vessel]</td>\n    </tr>\n    <tr>\n      <th>9</th>\n      <td>Mechanical Pencil</td>\n      <td>[Eraser, Pencil Lead, Rubber Grip, Gripper Rod...</td>\n    </tr>\n  </tbody>\n</table>\n</div>"
     },
     "execution_count": 176,
     "metadata": {},
     "output_type": "execute_result"
    }
   ],
   "source": [
    "data = data.dropna(subset=[\"assembly_name\", \"part_names\"])\n",
    "data = data.drop(columns=[\"assembly_id\", 'assembly_description']) #, 'part_names'])\n",
    "data.head()"
   ],
   "metadata": {
    "collapsed": false,
    "pycharm": {
     "name": "#%%\n"
    }
   }
  },
  {
   "cell_type": "code",
   "execution_count": 177,
   "outputs": [
    {
     "name": "stdout",
     "output_type": "stream",
     "text": [
      "Tot: 88886\n",
      "Unique: 67834\n"
     ]
    }
   ],
   "source": [
    "print(f\"Tot: {len(data)}\")\n",
    "print(f\"Unique: {len(data['assembly_name'].unique())}\")"
   ],
   "metadata": {
    "collapsed": false,
    "pycharm": {
     "name": "#%%\n"
    }
   }
  },
  {
   "cell_type": "code",
   "execution_count": 178,
   "outputs": [
    {
     "name": "stdout",
     "output_type": "stream",
     "text": [
      "After dedup: 61725\n",
      "Unique: 54034\n"
     ]
    }
   ],
   "source": [
    "# Deduplicate\n",
    "data = data[~data['part_names'].apply(tuple).duplicated()]\n",
    "print(f\"After dedup: {len(data)}\")\n",
    "print(f\"Unique: {len(data['assembly_name'].unique())}\")"
   ],
   "metadata": {
    "collapsed": false,
    "pycharm": {
     "name": "#%%\n"
    }
   }
  },
  {
   "cell_type": "code",
   "execution_count": 179,
   "outputs": [
    {
     "data": {
      "text/plain": "[('Untitled document', 1052),\n ('FarmBot Genesis - Copy', 256),\n ('Onshape Instructor Kit - 4.2.2 - Creating and Adding Subassemblies - Copy',\n  174),\n ('EEZYbotARM_MK2 - Copy', 158),\n ('Test', 126),\n ('test', 119),\n ('PERRINN F1 aero - Copy', 114),\n ('Tutorial 1 - Onshape Tour - Copy', 82),\n ('SmartrapCoreBASE - Smartfriendz - Copy', 82),\n ('PERRINN LMP1 - Copy', 61),\n ('Box', 40),\n ('College - Week 4 - Copy', 39),\n ('Violin - Copy', 38),\n ('Poppy humanoid v1.0.1 - Copy', 36),\n ('EVEZOR Robotic Arm - Copy', 35),\n ('Aerofoil Script - Copy', 34),\n ('Prusa i3 MK2 by TOTO-G - Copy', 34),\n ('Robot', 31),\n ('My Mechanical Project', 31),\n ('Desk', 30),\n ('CNC', 28),\n ('3D Printer', 28),\n ('Wheel Grinder - Copy', 28),\n ('DrawingMachine - Copy', 28),\n ('Table', 27),\n ('Spool Holder', 25),\n ('Bullet Feeder - Copy', 25),\n ('Copy of Tutorial 1 - Onshape Tour', 23),\n ('Lulzbot Taz 6 Stock - Copy', 23),\n ('House', 22),\n ('Concept Vehicle - Copy', 22),\n ('spinner', 22),\n ('Workbench', 21),\n ('G2 Helmet Electronics Mount - Public copy - Copy', 21),\n ('*OFFICIAL* - SmartrapCore - Smartfriendz - Copy', 21),\n ('PERRINN F1 2016 - Copy', 21),\n ('box', 20),\n ('Scooter', 20),\n ('Tutorial 2 - Build a Part - Copy', 19),\n ('Lynda-SkateBoard - Copy', 19),\n ('Spinner', 19),\n ('Frame', 18),\n ('test1', 18),\n ('ENIAC40 - Copy', 18),\n ('Untitled document - Copy', 17),\n ('Clock', 16),\n ('ROBOTIS TurtleBot3 Burger - Copy', 16),\n ('Garage', 15),\n ('Test1', 15),\n ('case', 15),\n ('Assembly1.stp', 15),\n ('*OFFICIAL* - SmartrapCoreXL300 - Smartfriendz - Copy', 15),\n ('table', 14),\n ('Gear', 14),\n ('Case', 14),\n ('Sample - Engine - Copy', 14),\n ('Tutorial 3 - Make an Assembly - Copy', 14),\n ('PERRINN F1 - Copy', 14),\n ('Assem1.zip', 14),\n ('Bed', 13),\n ('robot', 13),\n ('Kitchen', 13),\n ('ROBOTIS TurtleBot3 Waffle - Copy', 13),\n ('Model Rocket Starter Document', 13),\n ('Onshape Instructor Kit - 4.2.2 - Creating and Adding Subassemblies', 12),\n ('TEST', 12),\n ('1', 12),\n ('Parts', 12),\n ('Misc', 12),\n ('Gears', 12),\n ('Lamp', 12),\n ('house', 11),\n ('Tutorials - Draft, Shell and Direct Editing - Copy', 11),\n ('test2', 11),\n ('Wheel', 11),\n ('Engine', 11),\n ('Onshape Instructor Kit - 4.2.1 - Assembling In-Context Parts - Copy', 11),\n ('PERRINN F1 - Copy - Copy', 11),\n ('Onshape Instructor Kit - 4.2.2 - Creating and Adding Subassemblies - Copy - Copy',\n  11),\n ('Enclosure', 11),\n ('Lynda-SkateBoard - StartFile - Copy', 11),\n ('Printer', 10),\n ('Cube', 10),\n ('Shelf', 10),\n ('Rocket', 10),\n ('Testing', 10),\n ('Shed', 10),\n ('Home', 10),\n ('Extruder', 10),\n ('Copy of Concept Vehicle', 10),\n ('Sample - Bike Frame - Copy', 10),\n ('Sample - Lightweight CNC - Copy', 10),\n ('Robot Arm', 10),\n ('frame', 10),\n ('3D Printed Peristaltic Pump - Copy', 10),\n ('stand', 10),\n ('Extruder 1.75 Bowden Blocks one - Copy', 10),\n ('3D Printer - Copy', 10),\n ('Fidget Spinner', 10),\n ('car', 10)]"
     },
     "execution_count": 179,
     "metadata": {},
     "output_type": "execute_result"
    }
   ],
   "source": [
    "counts = Counter(data['assembly_name'])\n",
    "counts.most_common()[:100]"
   ],
   "metadata": {
    "collapsed": false,
    "pycharm": {
     "name": "#%%\n"
    }
   }
  },
  {
   "cell_type": "code",
   "execution_count": 184,
   "outputs": [],
   "source": [
    "def process_string(string):\n",
    "\n",
    "    string = ' '.join(re.findall('.+?(?:(?<=[a-z])(?=[A-Z])|(?<=[A-Z])(?=[A-Z][a-z])|$)', string))  # splits camelCase into camel case\n",
    "    string = ' '.join(re.split('(\\s+|^)([A-Za-z]+)\\d+(\\s+|$)', string))  # removes number at the end\n",
    "    string = string.lower()\n",
    "    string = string.replace('.x_t', '')\n",
    "    string = string.replace('.stp', '')\n",
    "    string = string.replace('.step', '')\n",
    "    string = string.replace('.zip', '')\n",
    "    string = string.replace('.dwg', '')\n",
    "    string = string.replace('_', ' ')\n",
    "    string = string.replace('-', ' ')\n",
    "    string = string.replace('[', ' ')\n",
    "    string = string.replace(']', ' ')\n",
    "    string = string.replace('(', ' ')\n",
    "    string = string.replace(')', ' ')\n",
    "    string = string.replace('?', ' ')\n",
    "    string = string.replace('*', ' ')\n",
    "    string = string.replace('copy of', ' ')\n",
    "    string = string.replace('copy', ' ')\n",
    "    string = \" \".join(string.split())\n",
    "\n",
    "    return string\n",
    "\n",
    "\n",
    "data['assembly_name_clean'] = data.apply(lambda row: process_string(row.assembly_name), axis=1)"
   ],
   "metadata": {
    "collapsed": false,
    "pycharm": {
     "name": "#%%\n"
    }
   }
  },
  {
   "cell_type": "code",
   "execution_count": 185,
   "outputs": [
    {
     "name": "stdout",
     "output_type": "stream",
     "text": [
      "After dedup: 61725\n",
      "Unique: 49644\n"
     ]
    },
    {
     "data": {
      "text/plain": "[('untitled document', 1094),\n ('test', 353),\n ('farm bot genesis', 277),\n ('onshape instructor kit 4.2.2 creating and adding subassemblies', 197),\n ('eez ybot arm mk2', 169),\n ('perrinn f aero', 135),\n ('tutorial 1 onshape tour', 110),\n ('smartrap core base smartfriendz', 87),\n ('perrinn lmp', 82),\n ('box', 78),\n ('robot', 66),\n ('3d printer', 57),\n ('p', 50),\n ('cnc', 49),\n ('violin', 48),\n ('table', 45),\n ('college week 4', 45),\n ('spinner', 45),\n ('house', 44),\n ('spool holder', 42),\n ('desk', 41),\n ('poppy humanoid v1.0.1', 41),\n ('wheel grinder', 39),\n ('prusa i mk2 by toto g', 39),\n ('aerofoil script', 39),\n ('my mechanical project', 39),\n ('concept vehicle', 38),\n ('frame', 37),\n ('evezor robotic arm', 36),\n ('case', 34),\n ('drawing machine', 32),\n ('workbench', 31),\n ('clock', 29),\n ('scooter', 29),\n ('perrinn f 2016', 28),\n ('perrinn f', 28),\n ('m', 27),\n ('gear', 27),\n ('official smartrap core smartfriendz', 27),\n ('bullet feeder', 27),\n ('sample engine', 25),\n ('assembly', 25),\n ('g helmet electronics mount public', 24),\n ('gears', 24),\n ('assem1', 24),\n ('lulzbot taz 6 stock', 24),\n ('go pro mounts', 23),\n ('lamp', 23),\n ('tutorial 2 build a part', 23),\n ('lynda skate board', 23),\n ('robotis turtle bot waffle', 23),\n ('bed', 22),\n ('sample bike frame', 21),\n ('printer', 21),\n ('base', 21),\n ('fidget spinner', 21),\n ('robotis turtle bot burger', 21),\n ('bracket', 20),\n ('pulley', 20),\n ('mount', 20),\n ('eniac', 20),\n ('car', 19),\n ('engine', 19),\n ('robot arm', 19),\n ('e3d v hotend', 19),\n ('kitchen', 19),\n ('stand', 19),\n ('lynda skate board start file', 19),\n ('shed', 18),\n ('assembly 1', 18),\n ('1', 18),\n ('enclosure', 18),\n ('wheel', 18),\n ('official smartrap core xl smartfriendz', 18),\n ('pco', 18),\n ('v', 17),\n ('garage', 17),\n ('misc', 17),\n ('extruder 1.75 bowden blocks one', 17),\n ('bench', 17),\n ('hinge', 17),\n ('a', 17),\n ('project', 17),\n ('arm', 17),\n ('pump', 17),\n ('cnc router', 16),\n ('3d printer parts', 16),\n ('chassis', 16),\n ('deck', 16),\n ('tutorial 3 make an assembly', 16),\n ('model rocket starter document', 16),\n ('marshmallow blaster starter document', 16),\n ('tutorials draft, shell and direct editing', 15),\n ('testing', 15),\n ('shelf', 15),\n ('onshape instructor kit 4.2.1 assembling in context parts', 15),\n ('robotic arm', 15),\n ('extruder', 15),\n ('parts', 15),\n ('motor mount', 15)]"
     },
     "execution_count": 185,
     "metadata": {},
     "output_type": "execute_result"
    }
   ],
   "source": [
    "print(f\"After dedup: {len(data)}\")\n",
    "print(f\"Unique: {len(data['assembly_name_clean'].unique())}\")\n",
    "\n",
    "counts = Counter(data['assembly_name_clean'])\n",
    "counts.most_common()[:100]"
   ],
   "metadata": {
    "collapsed": false,
    "pycharm": {
     "name": "#%%\n"
    }
   }
  },
  {
   "cell_type": "markdown",
   "source": [
    "# Clean Part Names"
   ],
   "metadata": {
    "collapsed": false,
    "pycharm": {
     "name": "#%% md\n"
    }
   }
  },
  {
   "cell_type": "code",
   "execution_count": 117,
   "outputs": [],
   "source": [
    "part_names = data.explode('part_names')"
   ],
   "metadata": {
    "collapsed": false,
    "pycharm": {
     "name": "#%%\n"
    }
   }
  },
  {
   "cell_type": "code",
   "execution_count": 119,
   "outputs": [
    {
     "name": "stdout",
     "output_type": "stream",
     "text": [
      "Tot: 1598870\n",
      "Unique: 405136\n"
     ]
    }
   ],
   "source": [
    "print(f\"Tot: {len(part_names)}\")\n",
    "print(f\"Unique: {len(part_names['part_names'].unique())}\")"
   ],
   "metadata": {
    "collapsed": false,
    "pycharm": {
     "name": "#%%\n"
    }
   }
  },
  {
   "cell_type": "code",
   "execution_count": 120,
   "outputs": [
    {
     "data": {
      "text/plain": "[('MANIFOLD_SOLID_BREP #15', 30019),\n ('P-08-001-A Fuel tank', 23920),\n ('Document', 7943),\n ('1', 6592),\n ('MANIFOLD_SOLID_BREP #323757', 5956),\n ('Extruded', 5822),\n ('Open-CR TP2.0', 4867),\n ('MANIFOLD_SOLID_BREP #268734', 4516),\n ('P-09-001-A Engine', 4515),\n ('MANIFOLD_SOLID_BREP #199421', 4272),\n ('PCB', 3677),\n ('MANIFOLD_SOLID_BREP #18492', 3540),\n ('MANIFOLD_SOLID_BREP #525570', 3444),\n ('1P65fa', 3393),\n ('MANIFOLD_SOLID_BREP_202_1_5_1', 3384),\n ('53.8169.00_1_1\\\\53.1368.00_1_1\\\\KT.53.1368_03.00_1\\\\MANIFOLD_SOLID_BREP #125345',\n  3214),\n ('53.8169.00_1_1\\\\53.1368.00_1_1\\\\KT.53.1368_03.00_2\\\\MANIFOLD_SOLID_BREP #125345',\n  3214),\n ('PDP_rev_1.0', 3135),\n ('MANIFOLD_SOLID_BREP #73620', 2830),\n ('ramps-1.4', 2804),\n ('None', 2759),\n ('    MSBR', 2692),\n ('Shikari', 2481),\n ('PartBody', 2472),\n ('MANIFOLD_SOLID_BREP #9766', 2466),\n ('MANIFOLD_SOLID_BREP #219', 2448),\n ('MANIFOLD_SOLID_BREP #221', 2366),\n ('MANIFOLD_SOLID_BREP #34654', 2088),\n ('MANIFOLD_SOLID_BREP #149055', 2088),\n ('you08747E893bn9', 2022),\n ('4Duino-Picaso-REV1.2_Pcb_SubPart', 1984),\n ('Extruded_1', 1924),\n ('P-09-006-A Exhaust left', 1890),\n ('P-09-007-A Exhaust right', 1890),\n ('Raspberry Pi 3', 1813),\n ('MANIFOLD_SOLID_BREP_202_1_5_1_1', 1692),\n ('4DCAPE-70-REV1.00_Outline', 1688),\n ('MANIFOLD_SOLID_BREP #277', 1677),\n ('MANIFOLD_SOLID_BREP #99459', 1637),\n ('tire marking', 1608),\n ('302-1260 wiper_stp_curved_scaled', 1605),\n ('NUCLEO-F411RE_PCB_TOP_Designators_Varsay\\\\X2\\\\008D\\\\X0\\\\lan', 1596),\n ('MANIFOLD_SOLID_BREP #220', 1592),\n ('   Shell', 1547),\n ('Treppenstufe', 1542),\n ('MANIFOLD_SOLID_BREP #25313', 1501),\n ('Open CASCADE STEP translator 6.8 1.4', 1428),\n ('5972K222', 1392),\n ('Tire rear', 1360),\n ('CX5P_AllCATPart', 1356),\n ('81167 - SWM - FELT SECTION ASSEMBLY', 1352),\n ('Extruded_2', 1316),\n ('53.4551._1_1\\\\53.0533.04_1\\\\MANIFOLD_SOLID_BREP #315336', 1311),\n ('P-01-017-A-sub Brace back', 1308),\n ('P-11-036-A-sub Floor main', 1273),\n ('Shaft', 1238),\n ('FD0860708027qr', 1205),\n ('PERRINN', 1204),\n ('Extruded_3', 1201),\n ('MANIFOLD_SOLID_BREP #606758', 1179),\n ('TAZ4_assembly_STEP', 1159),\n ('P-11-071-A Crash box rear', 1158),\n ('Cart(Default<As Machined>)', 1154),\n ('Citezen Eco-Drive Case', 1138),\n ('MANIFOLD_SOLID_BREP #9335', 1131),\n ('uLCD-43-REV7OutLine', 1129),\n ('strake', 1116),\n ('P-01-077-A Firewall_MODEL', 1080),\n ('vane', 1066),\n ('walc14FCAD60b1mb', 1062),\n ('Solid1', 1053),\n ('P-11-073-A Flap rear_MODEL', 1050),\n ('P-11-072-A Main plane rear_MODEL', 1049),\n ('MANIFOLD_SOLID_BREP #326', 1044),\n ('Boardlevelkamera mit M12-Objektivhalter_USB3-LE-R2_def', 996),\n ('you0EAC0C60hvet', 992),\n ('Board', 988),\n ('IngApple-Hub_Base_Variant_-170619', 981),\n ('Extruded_4', 962),\n ('P-01-001-A Crash box', 955),\n ('NUCLEO-F411RE_PCB_BOTTOM_Overlay_Varsay\\\\X2\\\\008D\\\\X0\\\\lan', 954),\n ('Scroll', 917),\n ('you0304A0DD5cdz', 913),\n ('MANIFOLD_SOLID_BREP #503316', 912),\n ('Bearing', 903),\n ('\\\\X2\\\\00F100E000E900E400E800ED00E3\\\\X0\\\\^\\\\X2\\\\00C300E000F000E000E6\\\\X0\\\\-\\\\X2\\\\00F100E000F000E000E9\\\\X0\\\\(\\\\X2\\\\00CF00EE\\\\X0\\\\ \\\\X2\\\\00F300EC00EE00EB00F700E000ED00E800FE\\\\X0\\\\<\\\\X2\\\\00CA00E000EA\\\\X0\\\\ \\\\X2\\\\00EE00E100F000E000E100EE00F200E000ED00ED00FB00E9\\\\X0\\\\>)',\n  896),\n ('don0924F53E1v9s', 894),\n ('Extruded_5', 885),\n ('MANIFOLD_SOLID_BREP #222', 854),\n ('PART-MANIFOLD_SOLID_BREP_202_1_5_1-DESC', 846),\n ('Admi69E4rauz', 843),\n ('P-11-074-A Pillar rear wing_MODEL', 840),\n ('1091-B1P-B', 836),\n ('truenew (1)_15158.STEP', 824),\n ('element', 820),\n ('Camera single', 812),\n ('end plate', 811),\n ('Extruded_6', 810),\n ('ATMEL328P', 805),\n ('R75 box 2017', 805)]"
     },
     "execution_count": 120,
     "metadata": {},
     "output_type": "execute_result"
    }
   ],
   "source": [
    "counts = Counter(part_names['part_names'])\n",
    "counts.most_common()[:100]"
   ],
   "metadata": {
    "collapsed": false,
    "pycharm": {
     "name": "#%%\n"
    }
   }
  },
  {
   "cell_type": "code",
   "execution_count": 124,
   "outputs": [],
   "source": [
    "def process_string(string):\n",
    "    if \"MANIFOLD_SOLID_BREP\" in string:\n",
    "        return \"MANIFOLD_SOLID_BREP\"\n",
    "    string = string.replace('.x_t', '')\n",
    "    string = string.replace('.stp', '')\n",
    "    string = string.replace('.step', '')\n",
    "    string = string.replace('.zip', '')\n",
    "    string = ' '.join(re.findall('.+?(?:(?<=[a-z])(?=[A-Z])|(?<=[A-Z])(?=[A-Z][a-z])|$)', string))  # splits camelCase into camel case\n",
    "    string = ' '.join(re.split('(\\s+|^)([A-Za-z]+)\\d+(\\s+|$)', string))  # removes number at the end\n",
    "    string = string.lower()\n",
    "    string = string.replace('_', ' ')\n",
    "    string = string.replace('-', ' ')\n",
    "    string = string.replace('[', ' ')\n",
    "    string = string.replace(']', ' ')\n",
    "    string = string.replace('(', ' ')\n",
    "    string = string.replace(')', ' ')\n",
    "    string = string.replace('?', ' ')\n",
    "    string = string.replace('*', ' ')\n",
    "    string = string.replace('copy of', ' ')\n",
    "    string = string.replace('copy', ' ')\n",
    "    string = \" \".join(string.split())\n",
    "\n",
    "    return string\n",
    "\n",
    "\n",
    "part_names['part_names_clean'] = part_names.apply(lambda row: process_string(row.part_names), axis=1)"
   ],
   "metadata": {
    "collapsed": false,
    "pycharm": {
     "name": "#%%\n"
    }
   }
  },
  {
   "cell_type": "code",
   "execution_count": 143,
   "outputs": [
    {
     "name": "stdout",
     "output_type": "stream",
     "text": [
      "Tot: 1598870\n",
      "Unique: 365088\n",
      "[('MANIFOLD_SOLID_BREP', 179109),\n",
      " ('p 08 001 a fuel tank', 23920),\n",
      " ('document', 7943),\n",
      " ('1', 6699),\n",
      " ('extruded', 5867),\n",
      " ('open cr tp2.0', 4867),\n",
      " ('solid', 4606),\n",
      " ('p 09 001 a engine', 4515),\n",
      " ('pcb', 3840),\n",
      " ('1p65fa', 3663),\n",
      " ('pdp rev 1.0', 3135),\n",
      " ('part', 3055),\n",
      " ('ramps 1.4', 2805),\n",
      " ('none', 2759),\n",
      " ('msbr', 2719),\n",
      " ('pin', 2690),\n",
      " ('shikari', 2481),\n",
      " ('part body', 2472),\n",
      " ('you08747e893bn9', 2022),\n",
      " ('4duino picaso rev1.2 pcb sub part', 1984),\n",
      " ('shell', 1968),\n",
      " ('extruded 1', 1936),\n",
      " ('raspberry pi 3', 1902),\n",
      " ('p 09 006 a exhaust left', 1890),\n",
      " ('p 09 007 a exhaust right', 1890),\n",
      " ('c', 1717),\n",
      " ('4dcape 70 rev1.00 outline', 1688),\n",
      " ('tire marking', 1608),\n",
      " ('tire rear', 1606),\n",
      " ('302 1260 wiper stp curved scaled', 1605),\n",
      " ('nucleo f411re pcb top designators varsay\\\\x2\\\\008d\\\\x0\\\\lan', 1596),\n",
      " ('treppenstufe', 1542),\n",
      " ('shaft', 1509),\n",
      " ('open cascade step translator 6.8 1.4', 1432),\n",
      " ('vane', 1428),\n",
      " ('5972k222', 1392),\n",
      " ('cx5p all cat part', 1356),\n",
      " ('81167 swm felt section assembly', 1352),\n",
      " ('extruded 2', 1327),\n",
      " ('p 01 017 a sub brace back', 1308),\n",
      " ('p 11 036 a sub floor main', 1273),\n",
      " ('extruded 3', 1211),\n",
      " ('fd0860708027qr', 1205),\n",
      " ('bearing', 1204),\n",
      " ('perrinn', 1204),\n",
      " ('m nut', 1203),\n",
      " ('chip', 1165),\n",
      " ('taz4 assembly step', 1159),\n",
      " ('p 11 071 a crash box rear', 1158),\n",
      " ('cart default<as machined>', 1154),\n",
      " ('citezen eco drive case', 1138),\n",
      " ('spacer', 1137),\n",
      " ('u lcd 43 rev7out line', 1129),\n",
      " ('handle', 1120),\n",
      " ('strake', 1117),\n",
      " ('mirror', 1105),\n",
      " ('board', 1095),\n",
      " ('p 01 077 a firewall model', 1080),\n",
      " ('walc14fcad60b1mb', 1062),\n",
      " ('component', 1059),\n",
      " ('trm srf', 1058),\n",
      " ('m x 16mm screw', 1056),\n",
      " ('wheel', 1051),\n",
      " ('p 11 073 a flap rear model', 1050),\n",
      " ('p 11 072 a main plane rear model', 1049),\n",
      " ('boardlevelkamera mit m12 objektivhalter usb3 le r2 def', 996),\n",
      " ('you0eac0c60hvet', 992),\n",
      " ('cover', 983),\n",
      " ('ing apple hub base variant 170619', 981),\n",
      " ('m socket head cap screw', 972),\n",
      " ('extruded 4', 967),\n",
      " ('p 01 001 a crash box', 955),\n",
      " ('nucleo f411re pcb bottom overlay varsay\\\\x2\\\\008d\\\\x0\\\\lan', 954),\n",
      " ('m washer', 939),\n",
      " ('scroll', 921),\n",
      " ('r', 914),\n",
      " ('you0304a0dd5cdz', 913),\n",
      " ('motor', 907),\n",
      " ('floor', 906),\n",
      " ('\\\\x2\\\\00f100e000e900e400e800ed00e3\\\\x0\\\\^\\\\x2\\\\00c300e000f000e000e6\\\\x0\\\\ '\n",
      "  '\\\\x2\\\\00f100e000f000e000e9\\\\x0\\\\ \\\\x2\\\\00cf00ee\\\\x0\\\\ '\n",
      "  '\\\\x2\\\\00f300ec00ee00eb00f700e000ed00e800fe\\\\x0\\\\<\\\\x2\\\\00ca00e000ea\\\\x0\\\\ '\n",
      "  '\\\\x2\\\\00ee00e100f000e000e100ee00f200e000ed00ed00fb00e9\\\\x0\\\\>',\n",
      "  896),\n",
      " ('don0924f53e1v9s', 894),\n",
      " ('extruded 5', 890),\n",
      " ('end plate', 879),\n",
      " ('cylinder', 851),\n",
      " ('cap', 845),\n",
      " ('admi69e4rauz', 843),\n",
      " ('p 11 074 a pillar rear wing model', 840),\n",
      " ('case', 838),\n",
      " ('element', 837),\n",
      " ('1091 b1p b', 836),\n",
      " ('truenew 1 15158.step', 824),\n",
      " ('extruded 6', 814),\n",
      " ('m locknut', 812),\n",
      " ('camera single', 812),\n",
      " ('frame', 808),\n",
      " ('atmel328p', 805),\n",
      " ('r box 2017', 805),\n",
      " ('bushing', 804),\n",
      " ('stp ck00903 ui 324x le c 0130 0002 volumenk\\\\x2\\\\00f6\\\\x0\\\\rper', 799),\n",
      " ('user library raspberry pi 3 2', 797)]\n"
     ]
    }
   ],
   "source": [
    "print(f\"Tot: {len(part_names)}\")\n",
    "print(f\"Unique: {len(part_names['part_names_clean'].unique())}\")\n",
    "\n",
    "counts = Counter(part_names['part_names_clean'])\n",
    "most_common_part_names = counts.most_common()[:100]\n",
    "pprint(most_common_part_names)"
   ],
   "metadata": {
    "collapsed": false,
    "pycharm": {
     "name": "#%%\n"
    }
   }
  },
  {
   "cell_type": "markdown",
   "source": [
    "### BERT Tokenizer Stats"
   ],
   "metadata": {
    "collapsed": false,
    "pycharm": {
     "name": "#%% md\n"
    }
   }
  },
  {
   "cell_type": "code",
   "execution_count": 134,
   "outputs": [
    {
     "name": "stderr",
     "output_type": "stream",
     "text": [
      "1598870it [01:03, 25325.52it/s]\n"
     ]
    }
   ],
   "source": [
    "vocab = []\n",
    "for index, row in tqdm(part_names.iterrows(), total=len(part_names)):\n",
    "    vocab.append(row['part_names_clean'])"
   ],
   "metadata": {
    "collapsed": false,
    "pycharm": {
     "name": "#%%\n"
    }
   }
  },
  {
   "cell_type": "code",
   "execution_count": 128,
   "outputs": [
    {
     "name": "stderr",
     "output_type": "stream",
     "text": [
      "Some layers from the model checkpoint at bert-base-uncased were not used when initializing TFBertModel: ['nsp___cls', 'mlm___cls']\n",
      "- This IS expected if you are initializing TFBertModel from the checkpoint of a model trained on another task or with another architecture (e.g. initializing a BertForSequenceClassification model from a BertForPreTraining model).\n",
      "- This IS NOT expected if you are initializing TFBertModel from the checkpoint of a model that you expect to be exactly identical (initializing a BertForSequenceClassification model from a BertForSequenceClassification model).\n",
      "All the layers of TFBertModel were initialized from the model checkpoint at bert-base-uncased.\n",
      "If your task is similar to the task the model of the checkpoint was trained on, you can already use TFBertModel for predictions without further training.\n"
     ]
    }
   ],
   "source": [
    "model_checkpoint = 'bert-base-uncased'\n",
    "bert_tokenizer = BertTokenizer.from_pretrained(model_checkpoint)\n",
    "bert_model = TFBertModel.from_pretrained(model_checkpoint)"
   ],
   "metadata": {
    "collapsed": false,
    "pycharm": {
     "name": "#%%\n"
    }
   }
  },
  {
   "cell_type": "code",
   "execution_count": null,
   "outputs": [],
   "source": [
    "part_names_encoded = bert_tokenizer(vocab)"
   ],
   "metadata": {
    "collapsed": false,
    "pycharm": {
     "name": "#%%\n"
    }
   }
  },
  {
   "cell_type": "code",
   "execution_count": 148,
   "outputs": [
    {
     "name": "stdout",
     "output_type": "stream",
     "text": [
      "vocab size: 1598870\n",
      "tot number of unique tokens: 11466\n",
      "number of [CLS]: 1598870\n",
      "number of [SEP]: 1598870\n",
      "number of [PAD]: 0\n",
      "number of [UNK]: 1\n"
     ]
    }
   ],
   "source": [
    "counts = Counter([item for sublist in part_names_encoded.input_ids for item in sublist])\n",
    "print(f\"vocab size: {len(vocab)}\")\n",
    "print(f\"tot number of unique tokens: {len(counts)}\")\n",
    "print(f\"number of [CLS]: {counts[101]}\")\n",
    "print(f\"number of [SEP]: {counts[102]}\")\n",
    "print(f\"number of [PAD]: {counts[0]}\")\n",
    "print(f\"number of [UNK]: {counts[100]}\")"
   ],
   "metadata": {
    "collapsed": false,
    "pycharm": {
     "name": "#%%\n"
    }
   }
  },
  {
   "cell_type": "code",
   "execution_count": 149,
   "outputs": [
    {
     "data": {
      "text/plain": "[(101, 1598870),\n (102, 1598870),\n (1035, 358218),\n (2692, 296572),\n (1032, 290185),\n (1060, 199377),\n (5024, 188959),\n (7987, 181799),\n (13699, 180983),\n (19726, 179661),\n (2475, 177633),\n (1037, 161834),\n (8889, 159446),\n (1012, 152652),\n (1015, 149923),\n (1052, 146870),\n (2595, 116468),\n (2063, 107025),\n (4002, 103071),\n (2620, 95072),\n (2487, 94270),\n (1016, 84785),\n (2575, 78576),\n (2509, 77260),\n (2629, 74507),\n (2683, 72736),\n (2546, 67722),\n (2581, 66519),\n (2549, 63903),\n (5890, 62980),\n (2361, 59082),\n (1049, 58515),\n (2497, 54092),\n (2094, 53290),\n (1017, 53129),\n (1018, 48058),\n (25604, 47576),\n (2099, 46486),\n (2050, 45927),\n (6185, 43669),\n (1019, 43406),\n (2278, 42307),\n (7382, 39391),\n (1022, 39049),\n (4654, 38687),\n (1020, 38147),\n (16344, 37396),\n (2213, 34670),\n (1014, 34335),\n (1054, 33331),\n (2121, 32496),\n (2340, 32259),\n (5511, 32079),\n (14142, 31141),\n (13936, 30009),\n (11224, 29737),\n (6021, 28904),\n (2102, 28700),\n (1038, 28223),\n (4762, 25946),\n (17914, 25593),\n (4951, 25067),\n (1058, 24310),\n (7065, 24294),\n (4942, 24218),\n (2112, 23916),\n (5757, 23725),\n (5127, 23323),\n (1039, 23087),\n (9231, 23045),\n (1048, 22996),\n (2015, 22729),\n (5840, 22706),\n (2140, 22638),\n (2199, 22347),\n (2187, 21997),\n (2078, 20824),\n (2184, 20727),\n (16086, 20610),\n (14255, 20480),\n (1062, 20180),\n (2330, 20176),\n (4373, 20170),\n (2157, 20149),\n (2243, 19915),\n (3357, 19775),\n (1040, 19562),\n (17490, 19495),\n (1042, 19417),\n (2322, 19406),\n (10790, 19122),\n (18613, 19003),\n (11387, 18761),\n (7473, 18574),\n (1010, 18387),\n (1056, 18206),\n (2098, 18018),\n (1044, 17944),\n (16048, 17517),\n (1021, 17460),\n (6178, 17218),\n (5013, 17102),\n (20710, 16895),\n (2260, 16802),\n (4402, 16772),\n (9766, 16625),\n (2327, 16549),\n (24096, 16225),\n (5718, 16183),\n (2944, 16182),\n (4057, 15826),\n (12521, 15458),\n (2290, 15253),\n (20335, 15220),\n (2385, 14975),\n (1028, 14958),\n (2615, 14884),\n (2080, 14884),\n (7682, 14861),\n (16690, 14535),\n (11403, 14531),\n (2232, 14508),\n (5310, 14507),\n (3075, 14498),\n (2860, 14421),\n (2423, 14297),\n (5709, 14263),\n (5641, 14234),\n (1026, 14108),\n (2203, 13774),\n (2004, 13436),\n (5217, 13363),\n (1013, 13240),\n (2303, 12932),\n (1023, 12884),\n (2075, 12846),\n (21605, 12818),\n (5830, 12782),\n (2132, 12777),\n (2100, 12638),\n (2392, 12354),\n (1050, 12326),\n (17788, 12223),\n (28332, 12192),\n (1041, 12124),\n (21057, 12058),\n (2490, 11752),\n (2226, 11511),\n (19841, 11509),\n (11163, 11491),\n (2480, 11415),\n (12740, 11172),\n (5997, 11168),\n (2321, 11087),\n (1034, 11038),\n (4215, 10985),\n (2686, 10978),\n (12398, 10909),\n (3482, 10861),\n (9378, 10776),\n (2358, 10662),\n (2002, 10610),\n (13109, 10524),\n (11586, 10343),\n (2217, 10079),\n (3698, 9987),\n (2918, 9944),\n (1055, 9940),\n (2953, 9907),\n (24943, 9881),\n (16068, 9838),\n (23777, 9794),\n (12376, 9727),\n (2364, 9703),\n (29061, 9687),\n (18856, 9627),\n (3953, 9584),\n (1047, 9478),\n (23632, 9470),\n (1043, 9279),\n (16932, 9168),\n (22278, 9136),\n (2382, 9123),\n (9093, 9082),\n (5747, 8962),\n (6718, 8792),\n (11832, 8666),\n (3847, 8653),\n (19274, 8653),\n (29345, 8617),\n (20348, 8601),\n (5243, 8437),\n (14526, 8412),\n (3104, 8367),\n (3356, 8330),\n (2403, 8313),\n (2896, 8302),\n (6254, 8302),\n (2871, 8273),\n (2373, 8265),\n (1061, 8257),\n (1059, 8211),\n (2849, 8123),\n (1000, 8115),\n (3590, 8048),\n (4853, 8022),\n (6131, 8004),\n (16703, 8000),\n (9111, 7983),\n (2890, 7944),\n (5843, 7927),\n (3438, 7826),\n (2410, 7741),\n (3156, 7669),\n (16054, 7629),\n (18827, 7610),\n (17134, 7591),\n (23290, 7514),\n (27717, 7476),\n (26187, 7459),\n (25430, 7448),\n (15878, 7369),\n (19961, 7338),\n (1009, 7328),\n (19317, 7290),\n (1053, 7107),\n (19481, 7079),\n (11687, 7002),\n (12098, 6922),\n (3207, 6905),\n (8123, 6870),\n (1001, 6824),\n (22932, 6812),\n (8566, 6811),\n (13675, 6810),\n (1051, 6796),\n (3194, 6793),\n (8473, 6763),\n (29537, 6716),\n (17465, 6709),\n (8915, 6692),\n (2067, 6627),\n (6205, 6622),\n (3796, 6585),\n (2531, 6562),\n (3334, 6553),\n (21926, 6464),\n (14021, 6442),\n (10053, 6440),\n (3614, 6428),\n (5740, 6407),\n (7011, 6321),\n (1057, 6271),\n (17595, 6260),\n (13075, 6223),\n (2324, 6203),\n (2061, 6085),\n (2753, 6078),\n (2572, 6064),\n (2459, 6054),\n (4720, 6046),\n (24322, 6033),\n (3938, 5980),\n (3608, 5967),\n (8040, 5938),\n (2884, 5924),\n (2378, 5924),\n (24857, 5918),\n (29097, 5908),\n (22043, 5897),\n (16216, 5868),\n (3501, 5803),\n (9594, 5665),\n (2072, 5632),\n (20346, 5630),\n (4257, 5593),\n (7605, 5544),\n (2310, 5523),\n (7270, 5512),\n (24501, 5511),\n (16613, 5497),\n (3963, 5481),\n (22407, 5447),\n (2723, 5439),\n (21792, 5434),\n (1045, 5421),\n (11895, 5409),\n (3540, 5404),\n (4160, 5382),\n (18833, 5283),\n (4293, 5225),\n (23245, 5178),\n (1064, 5172),\n (1999, 5134),\n (2604, 5133),\n (22907, 5106),\n (16371, 5087),\n (6169, 5052),\n (29491, 5044),\n (12824, 5041),\n (5583, 5038),\n (8586, 5034),\n (21084, 5021),\n (2484, 4999),\n (5796, 4991),\n (3384, 4923),\n (1024, 4911),\n (10424, 4906),\n (11329, 4906),\n (15136, 4900),\n (22610, 4899),\n (21486, 4893),\n (22394, 4881),\n (15457, 4846),\n (7632, 4832),\n (6365, 4830),\n (11867, 4816),\n (4632, 4815),\n (5259, 4779),\n (3500, 4777),\n (16147, 4736),\n (15488, 4694),\n (14321, 4692),\n (2632, 4686),\n (3347, 4679),\n (17290, 4673),\n (5470, 4661),\n (4139, 4638),\n (3653, 4635),\n (2570, 4633),\n (4190, 4627),\n (2538, 4625),\n (24594, 4612),\n (25525, 4600),\n (19400, 4597),\n (7959, 4551),\n (22851, 4513),\n (10764, 4510),\n (2341, 4498),\n (16576, 4487),\n (13617, 4458),\n (7358, 4451),\n (10507, 4436),\n (4334, 4419),\n (2863, 4418),\n (3240, 4415),\n (4957, 4399),\n (11265, 4397),\n (2005, 4384),\n (19817, 4351),\n (17180, 4348),\n (9507, 4333),\n (7956, 4304),\n (3420, 4286),\n (4013, 4274),\n (2553, 4266),\n (20958, 4253),\n (6462, 4251),\n (4950, 4231),\n (2419, 4224),\n (11113, 4208),\n (23352, 4192),\n (3527, 4180),\n (5354, 4178),\n (6305, 4171),\n (2146, 4163),\n (2539, 4162),\n (4029, 4161),\n (13866, 4156),\n (3320, 4144),\n (2892, 4139),\n (22203, 4137),\n (2818, 4098),\n (7020, 4081),\n (4372, 4077),\n (26337, 4075),\n (2930, 4040),\n (21619, 4032),\n (15095, 4026),\n (2861, 3987),\n (3233, 3949),\n (15581, 3940),\n (2017, 3927),\n (4413, 3899),\n (20842, 3899),\n (6058, 3879),\n (22311, 3811),\n (14181, 3810),\n (22025, 3793),\n (4724, 3783),\n (4859, 3767),\n (11220, 3739),\n (15465, 3726),\n (8827, 3718),\n (12528, 3707),\n (3486, 3698),\n (4960, 3675),\n (2007, 3671),\n (2603, 3661),\n (2813, 3607),\n (2483, 3594),\n (2053, 3589),\n (6767, 3584),\n (12609, 3581),\n (1046, 3569),\n (7898, 3566),\n (9402, 3524),\n (5139, 3521),\n (4700, 3520),\n (5009, 3494),\n (8148, 3470),\n (3429, 3422),\n (22275, 3422),\n (20228, 3418),\n (11518, 3413),\n (4090, 3391),\n (22022, 3387),\n (2571, 3365),\n (17317, 3349),\n (3388, 3348),\n (2239, 3344),\n (6679, 3344),\n (23499, 3329),\n (16409, 3316),\n (10975, 3305),\n (4563, 3291),\n (5047, 3287),\n (6036, 3285),\n (24434, 3285),\n (5806, 3267),\n (21472, 3251),\n (3358, 3244),\n (18139, 3242),\n (6777, 3240),\n (2235, 3232),\n (10453, 3230),\n (23833, 3214),\n (23616, 3175),\n (5308, 3161),\n (6199, 3120),\n (3258, 3119),\n (18373, 3110),\n (8732, 3104),\n (2618, 3100),\n (3022, 3100),\n (8873, 3099),\n (3393, 3097),\n (26677, 3086),\n (21724, 3072),\n (3298, 3069),\n (5385, 3068),\n (9353, 3066),\n (26976, 3064),\n (5823, 3062),\n (3770, 3057),\n (6140, 3051),\n (2000, 3048),\n (10216, 3045),\n (11338, 3040),\n (3367, 3036),\n (6191, 3025),\n (27814, 3021),\n (6994, 3021),\n (19892, 3015),\n (6583, 3009),\n (6839, 3002),\n (6046, 2987),\n (13164, 2968),\n (15929, 2960),\n (5989, 2941),\n (7504, 2918),\n (2793, 2912),\n (14262, 2911),\n (3115, 2905),\n (12702, 2903),\n (10250, 2894),\n (2139, 2893),\n (5110, 2893),\n (4101, 2887),\n (14127, 2872),\n (6421, 2871),\n (27662, 2870),\n (14417, 2870),\n (6079, 2867),\n (3904, 2867),\n (4466, 2856),\n (4328, 2852),\n (3630, 2848),\n (22649, 2838),\n (8091, 2813),\n (27009, 2804),\n (2022, 2792),\n (4487, 2789),\n (25022, 2788),\n (13433, 2774),\n (3461, 2756),\n (9468, 2756),\n (26224, 2753),\n (10014, 2748),\n (5034, 2740),\n (2654, 2739),\n (6396, 2733),\n (27531, 2728),\n (9686, 2725),\n (6227, 2712),\n (6277, 2702),\n (16233, 2697),\n (13354, 2681),\n (4748, 2677),\n (6273, 2675),\n (24779, 2675),\n (13213, 2673),\n (2640, 2663),\n (5187, 2655),\n (6694, 2646),\n (25746, 2635),\n (7318, 2630),\n (8950, 2630),\n (2368, 2621),\n (14809, 2620),\n (25957, 2615),\n (5179, 2614),\n (9033, 2603),\n (24087, 2597),\n (6282, 2578),\n (2638, 2571),\n (11129, 2559),\n (4842, 2555),\n (28315, 2542),\n (14010, 2541),\n (18034, 2534),\n (4135, 2533),\n (7245, 2530),\n (11641, 2528),\n (28756, 2528),\n (12399, 2527),\n (25416, 2521),\n (3287, 2518),\n (20916, 2513),\n (16215, 2511),\n (5887, 2506),\n (18684, 2505),\n (20224, 2503),\n (22994, 2480),\n (8667, 2479),\n (2058, 2475),\n (29096, 2454),\n (4895, 2454),\n (2659, 2437),\n (24665, 2434),\n (6942, 2434),\n (23334, 2434),\n (2676, 2419),\n (13428, 2416),\n (9602, 2415),\n (3593, 2414),\n (29190, 2408),\n (11118, 2407),\n (7878, 2401),\n (7471, 2400),\n (6109, 2394),\n (5018, 2389),\n (26876, 2381),\n (2852, 2380),\n (8909, 2378),\n (10768, 2373),\n (2656, 2370),\n (11868, 2363),\n (4946, 2356),\n (4229, 2355),\n (1025, 2353),\n (9700, 2351),\n (19510, 2350),\n (10958, 2345),\n (1997, 2330),\n (2415, 2328),\n (12685, 2323),\n (2828, 2312),\n (4246, 2310),\n (10620, 2308),\n (27263, 2304),\n (7399, 2300),\n (14399, 2294),\n (6090, 2292),\n (3329, 2289),\n (3270, 2289),\n (4601, 2281),\n (4937, 2278),\n (10114, 2277),\n (6337, 2275),\n (11721, 2271),\n (8485, 2271),\n (5539, 2258),\n (14163, 2256),\n (24700, 2254),\n (26236, 2250),\n (7082, 2249),\n (4261, 2248),\n (4464, 2247),\n (22975, 2243),\n (13387, 2239),\n (5388, 2235),\n (7446, 2234),\n (5401, 2228),\n (2019, 2228),\n (10051, 2223),\n (9876, 2218),\n (8460, 2216),\n (15986, 2211),\n (5245, 2211),\n (15544, 2196),\n (3998, 2195),\n (2309, 2188),\n (3886, 2185),\n (2980, 2182),\n (27723, 2182),\n (2650, 2179),\n (19098, 2178),\n (2250, 2177),\n (2527, 2177),\n (10556, 2167),\n (7287, 2161),\n (11502, 2156),\n (9530, 2155),\n (4185, 2153),\n (4031, 2151),\n (11876, 2140),\n (25113, 2135),\n (2460, 2133),\n (28311, 2118),\n (6466, 2114),\n (7886, 2113),\n (3054, 2101),\n (2312, 2097),\n (14513, 2096),\n (9118, 2088),\n (10964, 2076),\n (6633, 2075),\n (25610, 2057),\n (2035, 2053),\n (2422, 2052),\n (3676, 2052),\n (22060, 2051),\n (2304, 2046),\n (11937, 2039),\n (25269, 2032),\n (4299, 2020),\n (4974, 2019),\n (22889, 2014),\n (5800, 2009),\n (15868, 2008),\n (27885, 2007),\n (14719, 2006),\n (2869, 2006),\n (9800, 2005),\n (16093, 2003),\n (16748, 2000),\n (2039, 2000),\n (6922, 2000),\n (3366, 1993),\n (11300, 1984),\n (3351, 1974),\n (19586, 1970),\n (6460, 1969),\n (3684, 1968),\n (21183, 1955),\n (28106, 1953),\n (21572, 1951),\n (2175, 1934),\n (18133, 1934),\n (21512, 1926),\n (12849, 1925),\n (4008, 1923),\n (12667, 1918),\n (10630, 1916),\n (3967, 1910),\n (12879, 1909),\n (10751, 1905),\n (9203, 1904),\n (23268, 1903),\n (8945, 1902),\n (2679, 1899),\n (3239, 1896),\n (5244, 1889),\n (7558, 1859),\n (4263, 1857),\n (2262, 1851),\n (3515, 1845),\n (28714, 1844),\n (19797, 1840),\n (24398, 1839),\n (3040, 1837),\n (4805, 1835),\n (22540, 1833),\n (8713, 1831),\n (11336, 1828),\n (2240, 1823),\n (2912, 1822),\n (8139, 1819),\n (5575, 1817),\n (3490, 1816),\n (18168, 1816),\n (10210, 1815),\n (26339, 1815),\n (24582, 1805),\n (5786, 1804),\n (10514, 1801),\n (5594, 1801),\n (4014, 1801),\n (11851, 1801),\n (10131, 1798),\n (14499, 1793),\n (9587, 1789),\n (2850, 1789),\n (11176, 1786),\n (6260, 1785),\n (7163, 1785),\n (24759, 1785),\n (2695, 1779),\n (2431, 1777),\n (10354, 1777),\n (3332, 1775),\n (7570, 1774),\n (29215, 1774),\n (4677, 1760),\n (6948, 1758),\n (2171, 1757),\n (11122, 1756),\n (17365, 1755),\n (2033, 1741),\n (29461, 1737),\n (6904, 1736),\n (3217, 1735),\n (1027, 1734),\n (25292, 1733),\n (2227, 1733),\n (4904, 1727),\n (1998, 1723),\n (4868, 1722),\n (2128, 1722),\n (24065, 1721),\n (11057, 1717),\n (4515, 1715),\n (3145, 1714),\n (11039, 1708),\n (16044, 1706),\n (3694, 1704),\n (5860, 1703),\n (22038, 1702),\n (8865, 1698),\n (3943, 1695),\n (17644, 1693),\n (3520, 1693),\n (6510, 1687),\n (2271, 1686),\n (8574, 1685),\n (6640, 1683),\n (9127, 1672),\n (4583, 1671),\n (28667, 1670),\n (3401, 1669),\n (6714, 1666),\n (19395, 1665),\n (3016, 1664),\n (23808, 1664),\n (24072, 1662),\n (2193, 1659),\n (23951, 1658),\n (18953, 1658),\n (9090, 1658),\n (12606, 1654),\n (4783, 1654),\n (2795, 1654),\n (14366, 1651),\n (6535, 1650),\n (13088, 1645),\n (4168, 1644),\n (2543, 1637),\n (5833, 1635),\n (28203, 1633),\n (17539, 1629),\n (10060, 1624),\n (2300, 1619),\n (9818, 1619),\n (13412, 1618),\n (7875, 1615),\n (10715, 1614),\n (28601, 1613),\n (26419, 1611),\n (8154, 1611),\n (23561, 1610),\n (12904, 1608),\n (4425, 1606),\n (2417, 1602),\n (10322, 1601),\n (2418, 1597),\n (18926, 1596),\n (11902, 1591),\n (18559, 1589),\n (2696, 1584),\n (10550, 1582),\n (11418, 1580),\n (14141, 1580),\n (16528, 1577),\n (18118, 1575),\n (13138, 1567),\n (10545, 1567),\n (3417, 1556),\n (5725, 1554),\n (10894, 1551),\n (7367, 1549),\n (2756, 1545),\n (5536, 1542),\n (21358, 1542),\n (6099, 1541),\n (6081, 1541),\n (8758, 1537),\n (20116, 1536),\n (5818, 1535),\n (14905, 1531),\n (3597, 1530),\n (6218, 1529),\n (13061, 1527),\n (22091, 1525),\n (6392, 1524),\n (11142, 1520),\n (17350, 1520),\n (12395, 1512),\n (18411, 1504),\n (14210, 1503),\n (3489, 1496),\n (14991, 1492),\n (3070, 1492),\n (3221, 1486),\n (5622, 1484),\n (6039, 1483),\n (20996, 1481),\n (2644, 1480),\n (2041, 1474),\n (3729, 1472),\n (2931, 1468),\n (15020, 1467),\n (6255, 1466),\n (10343, 1461),\n (4451, 1460),\n (19839, 1457),\n (11503, 1457),\n (5339, 1456),\n (2047, 1455),\n (6887, 1454),\n (8670, 1454),\n (4522, 1454),\n (4248, 1453),\n (11460, 1453),\n (2345, 1449),\n (6351, 1448),\n (26583, 1443),\n (16300, 1443),\n (22441, 1443),\n (3363, 1441),\n (26557, 1436),\n (21950, 1431),\n (28154, 1430),\n (2474, 1428),\n (16257, 1428),\n (3263, 1426),\n (6584, 1422),\n (9785, 1418),\n (13876, 1418),\n (5332, 1417),\n (9932, 1415),\n (10179, 1413),\n (3033, 1412),\n (6085, 1411),\n (5877, 1406),\n (15536, 1403),\n (6279, 1396),\n (28516, 1396),\n (3722, 1394),\n (3806, 1390),\n (9645, 1388),\n (22227, 1388),\n (3126, 1384),\n (4747, 1384),\n (6293, 1384),\n (1004, 1375),\n (21714, 1371),\n (11320, 1370),\n (12083, 1369),\n (7123, 1368),\n (15660, 1368),\n (10431, 1368),\n (2371, 1368),\n (15775, 1363),\n (4344, 1351),\n (2057, 1349),\n (2491, 1347),\n (20952, 1347),\n (8746, 1346),\n (3872, 1343),\n (2599, 1336),\n (5986, 1334),\n (8737, 1330),\n (16853, 1327),\n (3013, 1325),\n (16733, 1321),\n (22810, 1320),\n (11601, 1320),\n (10346, 1314),\n (8966, 1314),\n (28290, 1309),\n (16555, 1306),\n (17186, 1306),\n (12638, 1301),\n (17637, 1300),\n (5585, 1299),\n (3012, 1294),\n (9628, 1290),\n (24529, 1289),\n (24454, 1287),\n (15725, 1285),\n (24420, 1284),\n (6522, 1283),\n (6906, 1281),\n (6390, 1278),\n (19780, 1273),\n (5174, 1273),\n (2492, 1273),\n (7744, 1270),\n (6391, 1269),\n (8380, 1268),\n (7706, 1265),\n (3372, 1261),\n (21461, 1260),\n (5104, 1259),\n (3406, 1257),\n (20704, 1257),\n (2594, 1255),\n (12672, 1254),\n (2835, 1252),\n (4278, 1252),\n (11689, 1252),\n (13669, 1250),\n (3423, 1250),\n (26257, 1250),\n (21342, 1246),\n (12946, 1242),\n (16709, 1241),\n (2532, 1241),\n (4897, 1239),\n (17085, 1239),\n (8934, 1238),\n (29184, 1237),\n (5345, 1231),\n (28816, 1229),\n (4181, 1223),\n (7716, 1213),\n (3435, 1212),\n (27427, 1207),\n (3622, 1206),\n (2675, 1204),\n (21628, 1200),\n (17338, 1200),\n (3654, 1198),\n (3536, 1195),\n (2462, 1191),\n (2853, 1189),\n (22431, 1185),\n (6534, 1182),\n (15315, 1179),\n (4590, 1177),\n (6207, 1177),\n (17491, 1175),\n (2275, 1174),\n (5764, 1173),\n (21893, 1166),\n (3726, 1165),\n (2690, 1165),\n (7630, 1164),\n (13749, 1164),\n (24000, 1159),\n (27987, 1153),\n (4877, 1150),\n (7905, 1150),\n (8093, 1147),\n (17371, 1145),\n (2819, 1144),\n (6163, 1141),\n (9331, 1141),\n (6356, 1140),\n (3313, 1139),\n (27421, 1139),\n (24426, 1139),\n (2995, 1139),\n (3695, 1138),\n (15749, 1134),\n (10143, 1133),\n (17170, 1128),\n (9706, 1128),\n (8349, 1123),\n ...]"
     },
     "execution_count": 149,
     "metadata": {},
     "output_type": "execute_result"
    }
   ],
   "source": [
    "counts.most_common()"
   ],
   "metadata": {
    "collapsed": false,
    "pycharm": {
     "name": "#%%\n"
    }
   }
  },
  {
   "cell_type": "code",
   "execution_count": 150,
   "outputs": [
    {
     "name": "stdout",
     "output_type": "stream",
     "text": [
      "[ C L S ]\n",
      "[ S E P ]\n",
      "_\n",
      "# # 0\n",
      "\\\n",
      "x\n",
      "s o l i d\n",
      "b r\n",
      "# # e p\n",
      "m a n i f o l d\n",
      "# # 2\n",
      "a\n",
      "# # 0 0\n",
      ".\n",
      "1\n",
      "p\n",
      "# # x\n",
      "# # e\n",
      "0 0\n",
      "# # 8\n",
      "# # 1\n",
      "2\n",
      "# # 6\n",
      "# # 3\n",
      "# # 5\n",
      "# # 9\n",
      "# # f\n",
      "# # 7\n",
      "# # 4\n",
      "0 1\n",
      "# # p\n",
      "m\n",
      "# # b\n",
      "# # d\n",
      "3\n",
      "4\n",
      "0 0 1\n",
      "# # r\n",
      "# # a\n",
      "0 2\n",
      "5\n",
      "# # c\n",
      "# # m m\n",
      "8\n",
      "e x\n",
      "6\n",
      "# # t r\n",
      "# # m\n",
      "0\n",
      "r\n",
      "# # e r\n",
      "1 1\n",
      "0 8\n",
      "# # 3 0\n",
      "# # u d e d\n",
      "s c r e w\n",
      "0 3\n",
      "# # t\n",
      "b\n",
      "f u e l\n",
      "# # 8 0\n",
      "t a n k\n",
      "v\n",
      "r e v\n",
      "s u b\n",
      "p a r t\n",
      "0 6\n",
      "p l a t e\n",
      "c\n",
      "p i n\n",
      "l\n",
      "# # s\n",
      "0 4\n",
      "# # l\n",
      "0 0 0\n",
      "l e f t\n",
      "# # n\n",
      "1 0\n",
      "# # 6 0\n",
      "p i\n",
      "z\n",
      "o p e n\n",
      "r e a r\n",
      "r i g h t\n",
      "# # k\n",
      "s t e p\n",
      "d\n",
      "n u t\n",
      "f\n",
      "2 0\n",
      "# # 1 0\n",
      "# # 1 0 0\n",
      "# # 2 0\n",
      "p c\n",
      ",\n",
      "t\n",
      "# # e d\n",
      "h\n",
      "# # 1 6\n",
      "7\n"
     ]
    }
   ],
   "source": [
    "for token_id in [i[0] for i in counts.most_common()[:100]]:\n",
    "    print(bert_tokenizer.decode(token_id))"
   ],
   "metadata": {
    "collapsed": false,
    "pycharm": {
     "name": "#%%\n"
    }
   }
  },
  {
   "cell_type": "code",
   "execution_count": 158,
   "outputs": [],
   "source": [
    "most_common_part_names_encoded = bert_tokenizer([item[0] for item in most_common_part_names])"
   ],
   "metadata": {
    "collapsed": false,
    "pycharm": {
     "name": "#%%\n"
    }
   }
  },
  {
   "cell_type": "code",
   "execution_count": 160,
   "outputs": [
    {
     "ename": "TypeError",
     "evalue": "int() argument must be a string, a bytes-like object or a real number, not 'list'",
     "output_type": "error",
     "traceback": [
      "\u001B[1;31m---------------------------------------------------------------------------\u001B[0m",
      "\u001B[1;31mTypeError\u001B[0m                                 Traceback (most recent call last)",
      "Input \u001B[1;32mIn [160]\u001B[0m, in \u001B[0;36m<cell line: 1>\u001B[1;34m()\u001B[0m\n\u001B[1;32m----> 1\u001B[0m \u001B[43mbert_tokenizer\u001B[49m\u001B[38;5;241;43m.\u001B[39;49m\u001B[43mdecode\u001B[49m\u001B[43m(\u001B[49m\u001B[43mmost_common_part_names_encoded\u001B[49m\u001B[43m[\u001B[49m\u001B[38;5;124;43m'\u001B[39;49m\u001B[38;5;124;43minput_ids\u001B[39;49m\u001B[38;5;124;43m'\u001B[39;49m\u001B[43m]\u001B[49m\u001B[43m)\u001B[49m\n",
      "File \u001B[1;32m~\\miniconda3\\envs\\w266_final_project\\lib\\site-packages\\transformers\\tokenization_utils_base.py:3432\u001B[0m, in \u001B[0;36mPreTrainedTokenizerBase.decode\u001B[1;34m(self, token_ids, skip_special_tokens, clean_up_tokenization_spaces, **kwargs)\u001B[0m\n\u001B[0;32m   3429\u001B[0m \u001B[38;5;66;03m# Convert inputs to python lists\u001B[39;00m\n\u001B[0;32m   3430\u001B[0m token_ids \u001B[38;5;241m=\u001B[39m to_py_obj(token_ids)\n\u001B[1;32m-> 3432\u001B[0m \u001B[38;5;28;01mreturn\u001B[39;00m \u001B[38;5;28mself\u001B[39m\u001B[38;5;241m.\u001B[39m_decode(\n\u001B[0;32m   3433\u001B[0m     token_ids\u001B[38;5;241m=\u001B[39mtoken_ids,\n\u001B[0;32m   3434\u001B[0m     skip_special_tokens\u001B[38;5;241m=\u001B[39mskip_special_tokens,\n\u001B[0;32m   3435\u001B[0m     clean_up_tokenization_spaces\u001B[38;5;241m=\u001B[39mclean_up_tokenization_spaces,\n\u001B[0;32m   3436\u001B[0m     \u001B[38;5;241m*\u001B[39m\u001B[38;5;241m*\u001B[39mkwargs,\n\u001B[0;32m   3437\u001B[0m )\n",
      "File \u001B[1;32m~\\miniconda3\\envs\\w266_final_project\\lib\\site-packages\\transformers\\tokenization_utils.py:931\u001B[0m, in \u001B[0;36mPreTrainedTokenizer._decode\u001B[1;34m(self, token_ids, skip_special_tokens, clean_up_tokenization_spaces, spaces_between_special_tokens, **kwargs)\u001B[0m\n\u001B[0;32m    921\u001B[0m \u001B[38;5;28;01mdef\u001B[39;00m \u001B[38;5;21m_decode\u001B[39m(\n\u001B[0;32m    922\u001B[0m     \u001B[38;5;28mself\u001B[39m,\n\u001B[0;32m    923\u001B[0m     token_ids: List[\u001B[38;5;28mint\u001B[39m],\n\u001B[1;32m   (...)\u001B[0m\n\u001B[0;32m    927\u001B[0m     \u001B[38;5;241m*\u001B[39m\u001B[38;5;241m*\u001B[39mkwargs\n\u001B[0;32m    928\u001B[0m ) \u001B[38;5;241m-\u001B[39m\u001B[38;5;241m>\u001B[39m \u001B[38;5;28mstr\u001B[39m:\n\u001B[0;32m    929\u001B[0m     \u001B[38;5;28mself\u001B[39m\u001B[38;5;241m.\u001B[39m_decode_use_source_tokenizer \u001B[38;5;241m=\u001B[39m kwargs\u001B[38;5;241m.\u001B[39mpop(\u001B[38;5;124m\"\u001B[39m\u001B[38;5;124muse_source_tokenizer\u001B[39m\u001B[38;5;124m\"\u001B[39m, \u001B[38;5;28;01mFalse\u001B[39;00m)\n\u001B[1;32m--> 931\u001B[0m     filtered_tokens \u001B[38;5;241m=\u001B[39m \u001B[38;5;28;43mself\u001B[39;49m\u001B[38;5;241;43m.\u001B[39;49m\u001B[43mconvert_ids_to_tokens\u001B[49m\u001B[43m(\u001B[49m\u001B[43mtoken_ids\u001B[49m\u001B[43m,\u001B[49m\u001B[43m \u001B[49m\u001B[43mskip_special_tokens\u001B[49m\u001B[38;5;241;43m=\u001B[39;49m\u001B[43mskip_special_tokens\u001B[49m\u001B[43m)\u001B[49m\n\u001B[0;32m    933\u001B[0m     \u001B[38;5;66;03m# To avoid mixing byte-level and unicode for byte-level BPT\u001B[39;00m\n\u001B[0;32m    934\u001B[0m     \u001B[38;5;66;03m# we need to build string separately for added tokens and byte-level tokens\u001B[39;00m\n\u001B[0;32m    935\u001B[0m     \u001B[38;5;66;03m# cf. https://github.com/huggingface/transformers/issues/1133\u001B[39;00m\n\u001B[0;32m    936\u001B[0m     sub_texts \u001B[38;5;241m=\u001B[39m []\n",
      "File \u001B[1;32m~\\miniconda3\\envs\\w266_final_project\\lib\\site-packages\\transformers\\tokenization_utils.py:906\u001B[0m, in \u001B[0;36mPreTrainedTokenizer.convert_ids_to_tokens\u001B[1;34m(self, ids, skip_special_tokens)\u001B[0m\n\u001B[0;32m    904\u001B[0m tokens \u001B[38;5;241m=\u001B[39m []\n\u001B[0;32m    905\u001B[0m \u001B[38;5;28;01mfor\u001B[39;00m index \u001B[38;5;129;01min\u001B[39;00m ids:\n\u001B[1;32m--> 906\u001B[0m     index \u001B[38;5;241m=\u001B[39m \u001B[38;5;28;43mint\u001B[39;49m\u001B[43m(\u001B[49m\u001B[43mindex\u001B[49m\u001B[43m)\u001B[49m\n\u001B[0;32m    907\u001B[0m     \u001B[38;5;28;01mif\u001B[39;00m skip_special_tokens \u001B[38;5;129;01mand\u001B[39;00m index \u001B[38;5;129;01min\u001B[39;00m \u001B[38;5;28mself\u001B[39m\u001B[38;5;241m.\u001B[39mall_special_ids:\n\u001B[0;32m    908\u001B[0m         \u001B[38;5;28;01mcontinue\u001B[39;00m\n",
      "\u001B[1;31mTypeError\u001B[0m: int() argument must be a string, a bytes-like object or a real number, not 'list'"
     ]
    }
   ],
   "source": [
    "bert_tokenizer.decode(most_common_part_names_encoded['input_ids'])"
   ],
   "metadata": {
    "collapsed": false,
    "pycharm": {
     "name": "#%%\n"
    }
   }
  },
  {
   "cell_type": "code",
   "execution_count": 172,
   "outputs": [
    {
     "name": "stdout",
     "output_type": "stream",
     "text": [
      "original: ('MANIFOLD_SOLID_BREP', 179109) | encoded: [19726, 1035, 5024, 1035, 7987, 13699] | decoded: 'manifold _ solid _ brep'\n",
      "original: ('p 08 001 a fuel tank', 23920) | encoded: [1052, 5511, 25604, 1037, 4762, 4951] | decoded: 'p 08 001 a fuel tank'\n",
      "original: ('document', 7943) | encoded: [6254] | decoded: 'document'\n",
      "original: ('1', 6699) | encoded: [1015] | decoded: '1'\n",
      "original: ('extruded', 5867) | encoded: [4654, 16344, 13936] | decoded: 'extruded'\n",
      "original: ('open cr tp2.0', 4867) | encoded: [2330, 13675, 1056, 2361, 2475, 1012, 1014] | decoded: 'open cr tp2. 0'\n",
      "original: ('solid', 4606) | encoded: [5024] | decoded: 'solid'\n",
      "original: ('p 09 001 a engine', 4515) | encoded: [1052, 5641, 25604, 1037, 3194] | decoded: 'p 09 001 a engine'\n",
      "original: ('pcb', 3840) | encoded: [7473, 2497] | decoded: 'pcb'\n",
      "original: ('1p65fa', 3663) | encoded: [1015, 2361, 26187, 7011] | decoded: '1p65fa'\n",
      "original: ('pdp rev 1.0', 3135) | encoded: [22851, 2361, 7065, 1015, 1012, 1014] | decoded: 'pdp rev 1. 0'\n",
      "original: ('part', 3055) | encoded: [2112] | decoded: 'part'\n",
      "original: ('ramps 1.4', 2805) | encoded: [24943, 1015, 1012, 1018] | decoded: 'ramps 1. 4'\n",
      "original: ('none', 2759) | encoded: [3904] | decoded: 'none'\n",
      "original: ('msbr', 2719) | encoded: [5796, 19892] | decoded: 'msbr'\n",
      "original: ('pin', 2690) | encoded: [9231] | decoded: 'pin'\n",
      "original: ('shikari', 2481) | encoded: [11895, 20224] | decoded: 'shikari'\n",
      "original: ('part body', 2472) | encoded: [2112, 2303] | decoded: 'part body'\n",
      "original: ('you08747e893bn9', 2022) | encoded: [2017, 2692, 2620, 2581, 22610, 2063, 2620, 2683, 2509, 24700, 2683] | decoded: 'you08747e893bn9'\n",
      "original: ('4duino picaso rev1.2 pcb sub part', 1984) | encoded: [1018, 8566, 5740, 27263, 3022, 2080, 7065, 2487, 1012, 1016, 7473, 2497, 4942, 2112] | decoded: '4duino picaso rev1. 2 pcb sub part'\n",
      "original: ('shell', 1968) | encoded: [5806] | decoded: 'shell'\n",
      "original: ('extruded 1', 1936) | encoded: [4654, 16344, 13936, 1015] | decoded: 'extruded 1'\n",
      "original: ('raspberry pi 3', 1902) | encoded: [20710, 2361, 9766, 14255, 1017] | decoded: 'raspberry pi 3'\n",
      "original: ('p 09 006 a exhaust left', 1890) | encoded: [1052, 5641, 4002, 2575, 1037, 15095, 2187] | decoded: 'p 09 006 a exhaust left'\n",
      "original: ('p 09 007 a exhaust right', 1890) | encoded: [1052, 5641, 4002, 2581, 1037, 15095, 2157] | decoded: 'p 09 007 a exhaust right'\n",
      "original: ('c', 1717) | encoded: [1039] | decoded: 'c'\n",
      "original: ('4dcape 70 rev1.00 outline', 1688) | encoded: [1018, 16409, 24065, 3963, 7065, 2487, 1012, 4002, 12685] | decoded: '4dcape 70 rev1. 00 outline'\n",
      "original: ('tire marking', 1608) | encoded: [12824, 10060] | decoded: 'tire marking'\n",
      "original: ('tire rear', 1606) | encoded: [12824, 4373] | decoded: 'tire rear'\n",
      "original: ('302 1260 wiper stp curved scaled', 1605) | encoded: [22060, 14010, 2692, 13387, 2099, 2358, 2361, 9203, 18953] | decoded: '302 1260 wiper stp curved scaled'\n",
      "original: ('nucleo f411re pcb top designators varsay\\\\x2\\\\008d\\\\x0\\\\lan', 1596) | encoded: [16371, 14321, 2080, 1042, 23632, 2487, 2890, 7473, 2497, 2327, 2640, 18926, 13075, 24322, 1032, 1060, 2475, 1032, 4002, 2620, 2094, 1032, 1060, 2692, 1032, 17595] | decoded: 'nucleo f411re pcb top designators varsay \\ x2 \\ 008d \\ x0 \\ lan'\n",
      "original: ('treppenstufe', 1542) | encoded: [29461, 21512, 23808, 16093, 2063] | decoded: 'treppenstufe'\n",
      "original: ('shaft', 1509) | encoded: [9093] | decoded: 'shaft'\n",
      "original: ('open cascade step translator 6.8 1.4', 1432) | encoded: [2330, 16690, 3357, 11403, 1020, 1012, 1022, 1015, 1012, 1018] | decoded: 'open cascade step translator 6. 8 1. 4'\n",
      "original: ('vane', 1428) | encoded: [23334] | decoded: 'vane'\n",
      "original: ('5972k222', 1392) | encoded: [5354, 2581, 2475, 2243, 19317, 2475] | decoded: '5972k222'\n",
      "original: ('cx5p all cat part', 1356) | encoded: [1039, 2595, 2629, 2361, 2035, 4937, 2112] | decoded: 'cx5p all cat part'\n",
      "original: ('81167 swm felt section assembly', 1352) | encoded: [6282, 16048, 2581, 25430, 2213, 2371, 2930, 3320] | decoded: '81167 swm felt section assembly'\n",
      "original: ('extruded 2', 1327) | encoded: [4654, 16344, 13936, 1016] | decoded: 'extruded 2'\n",
      "original: ('p 01 017 a sub brace back', 1308) | encoded: [1052, 5890, 5890, 2581, 1037, 4942, 17180, 2067] | decoded: 'p 01 017 a sub brace back'\n",
      "original: ('p 11 036 a sub floor main', 1273) | encoded: [1052, 2340, 6021, 2575, 1037, 4942, 2723, 2364] | decoded: 'p 11 036 a sub floor main'\n",
      "original: ('extruded 3', 1211) | encoded: [4654, 16344, 13936, 1017] | decoded: 'extruded 3'\n",
      "original: ('fd0860708027qr', 1205) | encoded: [1042, 2094, 2692, 20842, 2692, 19841, 17914, 22907, 4160, 2099] | decoded: 'fd0860708027qr'\n",
      "original: ('bearing', 1204) | encoded: [7682] | decoded: 'bearing'\n",
      "original: ('perrinn', 1204) | encoded: [28106, 2078] | decoded: 'perrinn'\n",
      "original: ('m nut', 1203) | encoded: [1049, 17490] | decoded: 'm nut'\n",
      "original: ('chip', 1165) | encoded: [9090] | decoded: 'chip'\n",
      "original: ('taz4 assembly step', 1159) | encoded: [11937, 2480, 2549, 3320, 3357] | decoded: 'taz4 assembly step'\n",
      "original: ('p 11 071 a crash box rear', 1158) | encoded: [1052, 2340, 5718, 2487, 1037, 5823, 3482, 4373] | decoded: 'p 11 071 a crash box rear'\n",
      "original: ('cart default<as machined>', 1154) | encoded: [11122, 12398, 1026, 2004, 3698, 2094, 1028] | decoded: 'cart default < as machined >'\n",
      "original: ('citezen eco drive case', 1138) | encoded: [21893, 10431, 17338, 3298, 2553] | decoded: 'citezen eco drive case'\n",
      "original: ('spacer', 1137) | encoded: [2686, 2099] | decoded: 'spacer'\n",
      "original: ('u lcd 43 rev7out line', 1129) | encoded: [1057, 27662, 4724, 7065, 2581, 5833, 2240] | decoded: 'u lcd 43 rev7out line'\n",
      "original: ('handle', 1120) | encoded: [5047] | decoded: 'handle'\n",
      "original: ('strake', 1117) | encoded: [2358, 16555, 2063] | decoded: 'strake'\n",
      "original: ('mirror', 1105) | encoded: [5259] | decoded: 'mirror'\n",
      "original: ('board', 1095) | encoded: [2604] | decoded: 'board'\n",
      "original: ('p 01 077 a firewall model', 1080) | encoded: [1052, 5890, 5718, 2581, 1037, 2543, 9628, 2944] | decoded: 'p 01 077 a firewall model'\n",
      "original: ('walc14fcad60b1mb', 1062) | encoded: [24547, 2278, 16932, 11329, 4215, 16086, 2497, 2487, 14905] | decoded: 'walc14fcad60b1mb'\n",
      "original: ('component', 1059) | encoded: [6922] | decoded: 'component'\n",
      "original: ('trm srf', 1058) | encoded: [19817, 2213, 5034, 2546] | decoded: 'trm srf'\n",
      "original: ('m x 16mm screw', 1056) | encoded: [1049, 1060, 2385, 7382, 11224] | decoded: 'm x 16mm screw'\n",
      "original: ('wheel', 1051) | encoded: [5217] | decoded: 'wheel'\n",
      "original: ('p 11 073 a flap rear model', 1050) | encoded: [1052, 2340, 5718, 2509, 1037, 20916, 4373, 2944] | decoded: 'p 11 073 a flap rear model'\n",
      "original: ('p 11 072 a main plane rear model', 1049) | encoded: [1052, 2340, 5718, 2475, 1037, 2364, 4946, 4373, 2944] | decoded: 'p 11 072 a main plane rear model'\n",
      "original: ('boardlevelkamera mit m12 objektivhalter usb3 le r2 def', 996) | encoded: [2604, 20414, 2884, 27052, 6906, 10210, 23290, 2475, 27885, 6460, 22462, 2615, 8865, 3334, 18833, 2509, 3393, 1054, 2475, 13366] | decoded: 'boardlevelkamera mit m12 objektivhalter usb3 le r2 def'\n",
      "original: ('you0eac0c60hvet', 992) | encoded: [2017, 2692, 5243, 2278, 2692, 2278, 16086, 2232, 19510] | decoded: 'you0eac0c60hvet'\n",
      "original: ('cover', 983) | encoded: [3104] | decoded: 'cover'\n",
      "original: ('ing apple hub base variant 170619', 981) | encoded: [13749, 6207, 9594, 2918, 8349, 10894, 2575, 16147] | decoded: 'ing apple hub base variant 170619'\n",
      "original: ('m socket head cap screw', 972) | encoded: [1049, 22278, 2132, 6178, 11224] | decoded: 'm socket head cap screw'\n",
      "original: ('extruded 4', 967) | encoded: [4654, 16344, 13936, 1018] | decoded: 'extruded 4'\n",
      "original: ('p 01 001 a crash box', 955) | encoded: [1052, 5890, 25604, 1037, 5823, 3482] | decoded: 'p 01 001 a crash box'\n",
      "original: ('nucleo f411re pcb bottom overlay varsay\\\\x2\\\\008d\\\\x0\\\\lan', 954) | encoded: [16371, 14321, 2080, 1042, 23632, 2487, 2890, 7473, 2497, 3953, 2058, 8485, 13075, 24322, 1032, 1060, 2475, 1032, 4002, 2620, 2094, 1032, 1060, 2692, 1032, 17595] | decoded: 'nucleo f411re pcb bottom overlay varsay \\ x2 \\ 008d \\ x0 \\ lan'\n",
      "original: ('m washer', 939) | encoded: [1049, 9378, 2121] | decoded: 'm washer'\n",
      "original: ('scroll', 921) | encoded: [17186] | decoded: 'scroll'\n",
      "original: ('r', 914) | encoded: [1054] | decoded: 'r'\n",
      "original: ('you0304a0dd5cdz', 913) | encoded: [2017, 2692, 14142, 2549, 2050, 2692, 14141, 2629, 19797, 2480] | decoded: 'you0304a0dd5cdz'\n",
      "original: ('motor', 907) | encoded: [5013] | decoded: 'motor'\n",
      "original: ('floor', 906) | encoded: [2723] | decoded: 'floor'\n",
      "original: ('\\\\x2\\\\00f100e000e900e400e800ed00e3\\\\x0\\\\^\\\\x2\\\\00c300e000f000e000e6\\\\x0\\\\ \\\\x2\\\\00f100e000f000e000e9\\\\x0\\\\ \\\\x2\\\\00cf00ee\\\\x0\\\\ \\\\x2\\\\00f300ec00ee00eb00f700e000ed00e800fe\\\\x0\\\\<\\\\x2\\\\00ca00e000ea\\\\x0\\\\ \\\\x2\\\\00ee00e100f000e000e100ee00f200e000ed00ed00fb00e9\\\\x0\\\\>', 896) | encoded: [1032, 1060, 2475, 1032, 4002, 2546, 18613, 2063, 8889, 2692, 2063, 21057, 2692, 2063, 29537, 2063, 17914, 2692, 2098, 8889, 2063, 2509, 1032, 1060, 2692, 1032, 1034, 1032, 1060, 2475, 1032, 4002, 2278, 14142, 2692, 2063, 8889, 2692, 2546, 8889, 2692, 2063, 8889, 2692, 2063, 2575, 1032, 1060, 2692, 1032, 1032, 1060, 2475, 1032, 4002, 2546, 18613, 2063, 8889, 2692, 2546, 8889, 2692, 2063, 8889, 2692, 2063, 2683, 1032, 1060, 2692, 1032, 1032, 1060, 2475, 1032, 4002, 2278, 2546, 8889, 4402, 1032, 1060, 2692, 1032, 1032, 1060, 2475, 1032, 4002, 2546, 14142, 2692, 8586, 8889, 4402, 8889, 15878, 8889, 2546, 19841, 2692, 2063, 8889, 2692, 2098, 8889, 2063, 17914, 2692, 7959, 1032, 1060, 2692, 1032, 1026, 1032, 1060, 2475, 1032, 4002, 3540, 8889, 2063, 8889, 2692, 5243, 1032, 1060, 2692, 1032, 1032, 1060, 2475, 1032, 4002, 4402, 8889, 2063, 18613, 2546, 8889, 2692, 2063, 8889, 2692, 2063, 18613, 4402, 8889, 2546, 28332, 2063, 8889, 2692, 2098, 8889, 2098, 8889, 26337, 8889, 2063, 2683, 1032, 1060, 2692, 1032, 1028] | decoded: '\\ x2 \\ 00f100e000e900e400e800ed00e3 \\ x0 \\ ^ \\ x2 \\ 00c300e000f000e000e6 \\ x0 \\ \\ x2 \\ 00f100e000f000e000e9 \\ x0 \\ \\ x2 \\ 00cf00ee \\ x0 \\ \\ x2 \\ 00f300ec00ee00eb00f700e000ed00e800fe \\ x0 \\ < \\ x2 \\ 00ca00e000ea \\ x0 \\ \\ x2 \\ 00ee00e100f000e000e100ee00f200e000ed00ed00fb00e9 \\ x0 \\ >'\n",
      "original: ('don0924f53e1v9s', 894) | encoded: [2123, 2692, 2683, 18827, 2546, 22275, 2063, 2487, 2615, 2683, 2015] | decoded: 'don0924f53e1v9s'\n",
      "original: ('extruded 5', 890) | encoded: [4654, 16344, 13936, 1019] | decoded: 'extruded 5'\n",
      "original: ('end plate', 879) | encoded: [2203, 5127] | decoded: 'end plate'\n",
      "original: ('cylinder', 851) | encoded: [7956] | decoded: 'cylinder'\n",
      "original: ('cap', 845) | encoded: [6178] | decoded: 'cap'\n",
      "original: ('admi69e4rauz', 843) | encoded: [4748, 4328, 2575, 2683, 2063, 2549, 2527, 17040] | decoded: 'admi69e4rauz'\n",
      "original: ('p 11 074 a pillar rear wing model', 840) | encoded: [1052, 2340, 5718, 2549, 1037, 14809, 4373, 3358, 2944] | decoded: 'p 11 074 a pillar rear wing model'\n",
      "original: ('case', 838) | encoded: [2553] | decoded: 'case'\n",
      "original: ('element', 837) | encoded: [5783] | decoded: 'element'\n",
      "original: ('1091 b1p b', 836) | encoded: [11518, 2487, 29491, 2361, 1038] | decoded: '1091 b1p b'\n",
      "original: ('truenew 1 15158.step', 824) | encoded: [2995, 2638, 2860, 1015, 16528, 27814, 1012, 3357] | decoded: 'truenew 1 15158. step'\n",
      "original: ('extruded 6', 814) | encoded: [4654, 16344, 13936, 1020] | decoded: 'extruded 6'\n",
      "original: ('m locknut', 812) | encoded: [1049, 5843, 24072] | decoded: 'm locknut'\n",
      "original: ('camera single', 812) | encoded: [4950, 2309] | decoded: 'camera single'\n",
      "original: ('frame', 808) | encoded: [4853] | decoded: 'frame'\n",
      "original: ('atmel328p', 805) | encoded: [27218, 2884, 16703, 2620, 2361] | decoded: 'atmel328p'\n",
      "original: ('r box 2017', 805) | encoded: [1054, 3482, 2418] | decoded: 'r box 2017'\n",
      "original: ('bushing', 804) | encoded: [5747, 2075] | decoded: 'bushing'\n",
      "original: ('stp ck00903 ui 324x le c 0130 0002 volumenk\\\\x2\\\\00f6\\\\x0\\\\rper', 799) | encoded: [2358, 2361, 23616, 8889, 21057, 2509, 21318, 27234, 2595, 3393, 1039, 5890, 14142, 2199, 2475, 3872, 8950, 1032, 1060, 2475, 1032, 4002, 2546, 2575, 1032, 1060, 2692, 1032, 1054, 4842] | decoded: 'stp ck00903 ui 324x le c 0130 0002 volumenk \\ x2 \\ 00f6 \\ x0 \\ rper'\n",
      "original: ('user library raspberry pi 3 2', 797) | encoded: [5310, 3075, 20710, 2361, 9766, 14255, 1017, 1016] | decoded: 'user library raspberry pi 3 2'\n"
     ]
    }
   ],
   "source": [
    "for i, part_name_encoded in enumerate(most_common_part_names_encoded['input_ids']):\n",
    "    print(f\"original: {most_common_part_names[i]} | encoded: {most_common_part_names_encoded['input_ids'][i][1:-1]} | decoded: '{bert_tokenizer.decode(part_name_encoded)[6:-6]}'\")"
   ],
   "metadata": {
    "collapsed": false,
    "pycharm": {
     "name": "#%%\n"
    }
   }
  },
  {
   "cell_type": "code",
   "execution_count": 151,
   "outputs": [
    {
     "name": "stdout",
     "output_type": "stream",
     "text": [
      "vocab size: 1598870\n",
      "tot number of unique tokens: 285\n",
      "number of [CLS]: 100\n",
      "number of [SEP]: 100\n",
      "number of [PAD]: 0\n",
      "number of [UNK]: 0\n"
     ]
    }
   ],
   "source": [
    "counts = Counter([item for sublist in most_common_part_names_encoded.input_ids for item in sublist])\n",
    "print(f\"vocab size: {len(vocab)}\")\n",
    "print(f\"tot number of unique tokens: {len(counts)}\")\n",
    "print(f\"number of [CLS]: {counts[101]}\")\n",
    "print(f\"number of [SEP]: {counts[102]}\")\n",
    "print(f\"number of [PAD]: {counts[0]}\")\n",
    "print(f\"number of [UNK]: {counts[100]}\")"
   ],
   "metadata": {
    "collapsed": false,
    "pycharm": {
     "name": "#%%\n"
    }
   }
  },
  {
   "cell_type": "code",
   "execution_count": 173,
   "outputs": [
    {
     "data": {
      "text/plain": "['this', 'tree', 'is', '125', '##3', 'years', 'old', '.']"
     },
     "execution_count": 173,
     "metadata": {},
     "output_type": "execute_result"
    }
   ],
   "source": [
    "# TODO: Look at word frequency, not just part names\n",
    "# TODO: see whether MINFORLD_BREP_OBDY shows up with custom names, otherwise drop.\n",
    "\n",
    "bert_tokenizer.tokenize('This tree is 1253 years old.')\n"
   ],
   "metadata": {
    "collapsed": false,
    "pycharm": {
     "name": "#%%\n"
    }
   }
  },
  {
   "cell_type": "code",
   "execution_count": null,
   "outputs": [],
   "source": [],
   "metadata": {
    "collapsed": false,
    "pycharm": {
     "name": "#%%\n"
    }
   }
  },
  {
   "cell_type": "code",
   "execution_count": null,
   "outputs": [],
   "source": [],
   "metadata": {
    "collapsed": false,
    "pycharm": {
     "name": "#%%\n"
    }
   }
  },
  {
   "cell_type": "code",
   "execution_count": null,
   "outputs": [],
   "source": [],
   "metadata": {
    "collapsed": false,
    "pycharm": {
     "name": "#%%\n"
    }
   }
  }
 ],
 "metadata": {
  "kernelspec": {
   "display_name": "Python 3",
   "language": "python",
   "name": "python3"
  },
  "language_info": {
   "codemirror_mode": {
    "name": "ipython",
    "version": 2
   },
   "file_extension": ".py",
   "mimetype": "text/x-python",
   "name": "python",
   "nbconvert_exporter": "python",
   "pygments_lexer": "ipython2",
   "version": "2.7.6"
  }
 },
 "nbformat": 4,
 "nbformat_minor": 0
}