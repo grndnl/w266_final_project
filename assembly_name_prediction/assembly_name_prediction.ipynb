{
 "cells": [
  {
   "cell_type": "markdown",
   "source": [
    "# Assembly name prediction"
   ],
   "metadata": {
    "collapsed": false,
    "pycharm": {
     "name": "#%% md\n"
    },
    "id": "axJffiPf-7EV"
   }
  },
  {
   "cell_type": "code",
   "execution_count": 32,
   "outputs": [],
   "source": [
    "import numpy as np\n",
    "import tensorflow as tf\n",
    "from tensorflow import keras\n",
    "import pandas as pd\n",
    "from tqdm import tqdm\n",
    "from collections import Counter\n",
    "import re\n",
    "import seaborn as sns\n",
    "import matplotlib.pyplot as plt\n",
    "from sklearn.model_selection import train_test_split\n",
    "from sklearn.metrics import classification_report\n",
    "from numpy.linalg import norm\n",
    "from transformers import BertTokenizer, TFBertModel, TFAutoModel\n",
    "import tensorflow_addons as tfa"
   ],
   "metadata": {
    "pycharm": {
     "name": "#%%\n"
    },
    "id": "pzj8gsei-7Eg",
    "outputId": "78cee69e-5a2b-4412-a1c8-b418a829452a",
    "colab": {
     "base_uri": "https://localhost:8080/"
    }
   }
  },
  {
   "cell_type": "markdown",
   "source": [
    "## Simple baseline with BERT and cosine similarity"
   ],
   "metadata": {
    "collapsed": false,
    "pycharm": {
     "name": "#%% md\n"
    }
   }
  },
  {
   "cell_type": "markdown",
   "source": [
    "### Pre-process data for task"
   ],
   "metadata": {
    "collapsed": false,
    "pycharm": {
     "name": "#%% md\n"
    },
    "id": "GATzDiPc-7Ek"
   }
  },
  {
   "cell_type": "code",
   "execution_count": 4,
   "outputs": [],
   "source": [
    "data_path = \"../data/data_02.feather\"\n",
    "data = pd.read_feather(data_path)"
   ],
   "metadata": {
    "collapsed": false,
    "pycharm": {
     "name": "#%%\n"
    }
   }
  },
  {
   "cell_type": "code",
   "execution_count": 5,
   "outputs": [
    {
     "data": {
      "text/plain": "         assembly_name                                         part_names\n0          Lava Lamp 2                  [Blob3, Blob2, Blob1, Glass, Cap]\n1  Sample - Headphones  [Pivot hinge, Headphone hinge, Telescope hinge...\n4           Coffee Mug                                         [Mug, Lid]\n5  Dave's Handsome Mug                                [Lid, Seal, Vessel]\n9    Mechanical Pencil  [Eraser, Pencil Lead, Rubber Grip, Gripper Rod...",
      "text/html": "<div>\n<style scoped>\n    .dataframe tbody tr th:only-of-type {\n        vertical-align: middle;\n    }\n\n    .dataframe tbody tr th {\n        vertical-align: top;\n    }\n\n    .dataframe thead th {\n        text-align: right;\n    }\n</style>\n<table border=\"1\" class=\"dataframe\">\n  <thead>\n    <tr style=\"text-align: right;\">\n      <th></th>\n      <th>assembly_name</th>\n      <th>part_names</th>\n    </tr>\n  </thead>\n  <tbody>\n    <tr>\n      <th>0</th>\n      <td>Lava Lamp 2</td>\n      <td>[Blob3, Blob2, Blob1, Glass, Cap]</td>\n    </tr>\n    <tr>\n      <th>1</th>\n      <td>Sample - Headphones</td>\n      <td>[Pivot hinge, Headphone hinge, Telescope hinge...</td>\n    </tr>\n    <tr>\n      <th>4</th>\n      <td>Coffee Mug</td>\n      <td>[Mug, Lid]</td>\n    </tr>\n    <tr>\n      <th>5</th>\n      <td>Dave's Handsome Mug</td>\n      <td>[Lid, Seal, Vessel]</td>\n    </tr>\n    <tr>\n      <th>9</th>\n      <td>Mechanical Pencil</td>\n      <td>[Eraser, Pencil Lead, Rubber Grip, Gripper Rod...</td>\n    </tr>\n  </tbody>\n</table>\n</div>"
     },
     "execution_count": 5,
     "metadata": {},
     "output_type": "execute_result"
    }
   ],
   "source": [
    "data = data.dropna(subset=[\"assembly_name\", \"part_names\"])\n",
    "data = data.drop(columns=[\"assembly_id\", 'assembly_description'])\n",
    "data.head()"
   ],
   "metadata": {
    "collapsed": false,
    "pycharm": {
     "name": "#%%\n"
    }
   }
  },
  {
   "cell_type": "code",
   "execution_count": 6,
   "outputs": [
    {
     "name": "stdout",
     "output_type": "stream",
     "text": [
      "Tot: 88886\n",
      "Unique: 67834\n",
      "\n",
      "After dedup: 61725\n",
      "Unique: 54034\n"
     ]
    }
   ],
   "source": [
    "# Deduplicate\n",
    "print(f\"Tot: {len(data)}\")\n",
    "print(f\"Unique: {len(data['assembly_name'].unique())}\")\n",
    "data = data[~data['part_names'].apply(tuple).duplicated()]\n",
    "print(f\"\\nAfter dedup: {len(data)}\")\n",
    "print(f\"Unique: {len(data['assembly_name'].unique())}\")"
   ],
   "metadata": {
    "collapsed": false,
    "pycharm": {
     "name": "#%%\n"
    }
   }
  },
  {
   "cell_type": "markdown",
   "source": [
    "### Clean assembly names"
   ],
   "metadata": {
    "collapsed": false,
    "pycharm": {
     "name": "#%% md\n"
    }
   }
  },
  {
   "cell_type": "code",
   "execution_count": 7,
   "outputs": [],
   "source": [
    "def process_assembly_names(string):\n",
    "    string = string.replace('.x_t', '')\n",
    "    string = string.replace('.stp', '')\n",
    "    string = string.replace('.step', '')\n",
    "    string = string.replace('.zip', '')\n",
    "    string = ' '.join(re.findall('.+?(?:(?<=[a-z])(?=[A-Z])|(?<=[A-Z])(?=[A-Z][a-z])|$)', string))  # splits camelCase into camel case\n",
    "    string = ' '.join(re.split('(\\s+|^)([A-Za-z]+)\\d+(\\s+|$)', string))  # removes number at the end\n",
    "    string = string.lower()\n",
    "    string = string.replace('_', ' ')\n",
    "    string = string.replace('-', ' ')\n",
    "    string = string.replace('[', ' ')\n",
    "    string = string.replace(']', ' ')\n",
    "    string = string.replace('(', ' ')\n",
    "    string = string.replace(')', ' ')\n",
    "    string = string.replace('?', ' ')\n",
    "    string = string.replace('*', ' ')\n",
    "    string = string.replace('copy of', ' ')\n",
    "    string = string.replace('copy', ' ')\n",
    "    string = \" \".join(string.split())\n",
    "\n",
    "    return string\n",
    "\n",
    "\n",
    "data['assembly_name_clean'] = data.apply(lambda row: process_assembly_names(row.assembly_name), axis=1)"
   ],
   "metadata": {
    "collapsed": false,
    "pycharm": {
     "name": "#%%\n"
    }
   }
  },
  {
   "cell_type": "code",
   "execution_count": 8,
   "outputs": [
    {
     "name": "stdout",
     "output_type": "stream",
     "text": [
      "After dedup: 61725\n",
      "Unique: 49601\n"
     ]
    }
   ],
   "source": [
    "print(f\"After dedup: {len(data)}\")\n",
    "print(f\"Unique: {len(data['assembly_name_clean'].unique())}\")"
   ],
   "metadata": {
    "collapsed": false,
    "pycharm": {
     "name": "#%%\n"
    }
   }
  },
  {
   "cell_type": "markdown",
   "source": [
    "### Clean part names"
   ],
   "metadata": {
    "collapsed": false,
    "pycharm": {
     "name": "#%% md\n"
    }
   }
  },
  {
   "cell_type": "code",
   "execution_count": 9,
   "outputs": [],
   "source": [
    "def process_part_names(list):\n",
    "    part_names = []\n",
    "    for string in list:\n",
    "        if \"MANIFOLD_SOLID_BREP\" in string:\n",
    "            return np.nan\n",
    "        string = string.replace('.x_t', '')\n",
    "        string = string.replace('.stp', '')\n",
    "        string = string.replace('.step', '')\n",
    "        string = string.replace('.dwg', '')\n",
    "        string = string.replace('.zip', '')\n",
    "        string = ' '.join(re.findall('.+?(?:(?<=[a-z])(?=[A-Z])|(?<=[A-Z])(?=[A-Z][a-z])|$)', string))  # splits camelCase into camel case\n",
    "        string = ' '.join(re.split('(\\s+|^)([A-Za-z]+)\\d+(\\s+|$)', string))  # removes number at the end\n",
    "        string = string.lower()\n",
    "        string = string.replace('_', ' ')\n",
    "        string = string.replace('-', ' ')\n",
    "        string = string.replace('[', ' ')\n",
    "        string = string.replace(']', ' ')\n",
    "        string = string.replace('(', ' ')\n",
    "        string = string.replace(')', ' ')\n",
    "        string = string.replace('?', ' ')\n",
    "        string = string.replace('*', ' ')\n",
    "        string = string.replace('copy of', ' ')\n",
    "        string = string.replace('copy', ' ')\n",
    "        string = \" \".join(string.split())\n",
    "\n",
    "        part_names.append(string)\n",
    "\n",
    "    return part_names\n",
    "\n",
    "\n",
    "data['part_names_clean'] = data.apply(lambda row: process_part_names(row.part_names), axis=1)\n",
    "data.dropna(subset=['part_names_clean'], inplace=True)\n"
   ],
   "metadata": {
    "collapsed": false,
    "pycharm": {
     "name": "#%%\n"
    }
   }
  },
  {
   "cell_type": "code",
   "execution_count": 10,
   "outputs": [
    {
     "data": {
      "text/plain": "         assembly_name                                         part_names  \\\n0          Lava Lamp 2                  [Blob3, Blob2, Blob1, Glass, Cap]   \n1  Sample - Headphones  [Pivot hinge, Headphone hinge, Telescope hinge...   \n4           Coffee Mug                                         [Mug, Lid]   \n5  Dave's Handsome Mug                                [Lid, Seal, Vessel]   \n9    Mechanical Pencil  [Eraser, Pencil Lead, Rubber Grip, Gripper Rod...   \n\n   assembly_name_clean                                   part_names_clean  \n0          lava lamp 2                     [blob, blob, blob, glass, cap]  \n1    sample headphones  [pivot hinge, headphone hinge, telescope hinge...  \n4           coffee mug                                         [mug, lid]  \n5  dave's handsome mug                                [lid, seal, vessel]  \n9    mechanical pencil  [eraser, pencil lead, rubber grip, gripper rod...  ",
      "text/html": "<div>\n<style scoped>\n    .dataframe tbody tr th:only-of-type {\n        vertical-align: middle;\n    }\n\n    .dataframe tbody tr th {\n        vertical-align: top;\n    }\n\n    .dataframe thead th {\n        text-align: right;\n    }\n</style>\n<table border=\"1\" class=\"dataframe\">\n  <thead>\n    <tr style=\"text-align: right;\">\n      <th></th>\n      <th>assembly_name</th>\n      <th>part_names</th>\n      <th>assembly_name_clean</th>\n      <th>part_names_clean</th>\n    </tr>\n  </thead>\n  <tbody>\n    <tr>\n      <th>0</th>\n      <td>Lava Lamp 2</td>\n      <td>[Blob3, Blob2, Blob1, Glass, Cap]</td>\n      <td>lava lamp 2</td>\n      <td>[blob, blob, blob, glass, cap]</td>\n    </tr>\n    <tr>\n      <th>1</th>\n      <td>Sample - Headphones</td>\n      <td>[Pivot hinge, Headphone hinge, Telescope hinge...</td>\n      <td>sample headphones</td>\n      <td>[pivot hinge, headphone hinge, telescope hinge...</td>\n    </tr>\n    <tr>\n      <th>4</th>\n      <td>Coffee Mug</td>\n      <td>[Mug, Lid]</td>\n      <td>coffee mug</td>\n      <td>[mug, lid]</td>\n    </tr>\n    <tr>\n      <th>5</th>\n      <td>Dave's Handsome Mug</td>\n      <td>[Lid, Seal, Vessel]</td>\n      <td>dave's handsome mug</td>\n      <td>[lid, seal, vessel]</td>\n    </tr>\n    <tr>\n      <th>9</th>\n      <td>Mechanical Pencil</td>\n      <td>[Eraser, Pencil Lead, Rubber Grip, Gripper Rod...</td>\n      <td>mechanical pencil</td>\n      <td>[eraser, pencil lead, rubber grip, gripper rod...</td>\n    </tr>\n  </tbody>\n</table>\n</div>"
     },
     "execution_count": 10,
     "metadata": {},
     "output_type": "execute_result"
    }
   ],
   "source": [
    "data.head()"
   ],
   "metadata": {
    "collapsed": false,
    "pycharm": {
     "name": "#%%\n"
    }
   }
  },
  {
   "cell_type": "markdown",
   "source": [
    "### Create sentences for BERT"
   ],
   "metadata": {
    "collapsed": false,
    "pycharm": {
     "name": "#%% md\n"
    }
   }
  },
  {
   "cell_type": "code",
   "execution_count": 11,
   "outputs": [],
   "source": [
    "def create_sentences(data_df, deduplicate_part_names=True):\n",
    "    part_name_sentences = []\n",
    "    assembly_name_sentences = []\n",
    "\n",
    "    for index, row in tqdm(data_df.iterrows(), total=len(data_df)):\n",
    "        # if len(row['part_names_clean']) > 1:\n",
    "        # build single part name sentence\n",
    "        part_name_sentence = \"An assembly containing the following parts: \"\n",
    "        if deduplicate_part_names:\n",
    "            part_names = set(row['part_names_clean'])\n",
    "        else:\n",
    "            part_names = row['part_names_clean']\n",
    "        for part_name in part_names:\n",
    "            part_name_sentence +=  f\"{part_name}, \"\n",
    "        part_name_sentence = part_name_sentence[:-2] + \".\"\n",
    "        part_name_sentences.append(part_name_sentence)\n",
    "\n",
    "        # build single assembly name sentence\n",
    "        assembly_name_sentence = f\"An assembly with the name '{row['assembly_name_clean']}'\"\n",
    "        assembly_name_sentences.append(assembly_name_sentence)\n",
    "    return part_name_sentences, assembly_name_sentences"
   ],
   "metadata": {
    "collapsed": false,
    "pycharm": {
     "name": "#%%\n"
    }
   }
  },
  {
   "cell_type": "code",
   "execution_count": 12,
   "outputs": [
    {
     "name": "stderr",
     "output_type": "stream",
     "text": [
      "100%|██████████| 61601/61601 [00:03<00:00, 18712.15it/s]\n"
     ]
    }
   ],
   "source": [
    "part_name_sentences, assembly_name_sentences = create_sentences(data)"
   ],
   "metadata": {
    "collapsed": false,
    "pycharm": {
     "name": "#%%\n"
    }
   }
  },
  {
   "cell_type": "code",
   "execution_count": 13,
   "outputs": [
    {
     "name": "stdout",
     "output_type": "stream",
     "text": [
      "61601\n"
     ]
    },
    {
     "data": {
      "text/plain": "['An assembly containing the following parts: blob, glass, cap.',\n 'An assembly containing the following parts: headphone hinge, headphone speaker, upper band, pivot hinge, telescope hinge.',\n 'An assembly containing the following parts: mug, lid.',\n 'An assembly containing the following parts: vessel, lid, seal.',\n 'An assembly containing the following parts: gripper rod, button release, eraser, rubber grip, pencil lead, lead gripper.',\n 'An assembly containing the following parts: plate, link, wheel, peg, block.',\n 'An assembly containing the following parts: default, torch holder, head, b18.3.5m 4 x 0.7 x 10 socket fchs 10s.',\n 'An assembly containing the following parts: bottle base, cap.',\n 'An assembly containing the following parts: symmetry of supports levier, corps amorto rotatif, arm, main, symmetry of clips, t x2 00e9 x0 inf x2 00e9 x0 rieur, human shin, supports levier, patte bouton code phare, corps mc isr, bras de levier, axes molette levier, symmetry of bille mollette corps levier, axe levier, arm support, symmetry of ecrou btr m axe levier, axe t x2 00e9 x0 s, arm, symmetry of poign x2 00e9 x0 e gauche, human fore arm, symmetry of rondelle clips, piston, nose, bague axe corps levier, human foot, pivot, steering, hub, symmetry of btr m axe corps levier, human head, hydraulic shaft, symmetry of corps levier, bouton code phare, axe but x2 00e9 x0 e levier, clips, shock shaft, motor, tank, symmetry of molette levier, bille mollette corps levier, symmetry of axes molette levier, symmetry of vis m rouleau, entretoise axe corps levier, symmetry of levier, bracelet droit, axe amorto rotatif, levier, x2 00e9 x0 crou m axe corps levier, symmetry of bille mollette levier, fond alu ohlins incurv x2 00e9 x0, vis de purge, vis r x2 00e9 x0 glage droite, bras poussoir, symmetry of btr m, symmetry of embout de guidon, x2 00e9 x0 crou vis m rouleau, bouton r x2 00e9 x0 glage gauche, curseur noir, embout de guidon, poign x2 00e9 x0 e gauche, symmetry of bague axe corps levier, x2 00e9 x0 crou colonne, btr m axe levier, symmetry of piston, molette levier, symmetry of bras poussoir, symmetry of btr m axe levier, vis m rouleau, rondelle clips, goupille axe levier, symmetry of but x2 00e9 x0 e, but x2 00e9 x0 e, symmetry of bracelet droit, symmetry of axe but x2 00e9 x0 e levier, symmetry of entretoise axe corps levier, symmetry of chape roulement, ecrou btr m axe levier, symmetry of axe levier, symmetry of corps mc isr, vis r x2 00e9 x0 glage lat x2 00e9 x0 ral, vis bouton gauche, btr m axe corps levier, human upper arm, symmetry of x2 00e9 x0 crou m axe corps levier, corps levier, symmetry of rouleau, t x2 00e9 x0 sup x2 00e9 x0 rieur bis, t x2 00e9 x0 sup x2 00e9 x0 rieur, rondelle, btr m, chape roulement, seat, human thigh, symmetry of bras de levier, symmetry of goupille axe levier, vis r x2 00e9 x0 glage gauche, arm, pivot, hydraulic mount, rouleau, bouton on off, bille mollette levier, symmetry of x2 00e9 x0 crou vis m rouleau, bouton d x2 00e9 x0 marrage.',\n 'An assembly containing the following parts: cut extrude11 3, revolve, torque element, flange, back plate, roller, mounting surface imported, cut revolve2, grabber, dowel 2, cut extrude3, chamfer, dowel, head chamfer, cir pattern, base revolve, cut extrude1, head fillet, revolve thin1, 10000001, handle, fillet, spindle, cut extrude2, hex, sketched bend, bearing block renamed, f, base flange1, cut extrude5, cut sweep1, boss extrude6, end chamfer, sweep thin1, mirror, cut extrude6, boss extrude1, cut extrude11 2, indexing plunger gn 817 5 8 b ni0, tube lock.']"
     },
     "execution_count": 13,
     "metadata": {},
     "output_type": "execute_result"
    }
   ],
   "source": [
    "print(len(part_name_sentences))\n",
    "part_name_sentences[:10]"
   ],
   "metadata": {
    "collapsed": false,
    "pycharm": {
     "name": "#%%\n"
    }
   }
  },
  {
   "cell_type": "code",
   "execution_count": 14,
   "outputs": [
    {
     "name": "stdout",
     "output_type": "stream",
     "text": [
      "61601\n"
     ]
    },
    {
     "data": {
      "text/plain": "[\"An assembly with the name 'lava lamp 2'\",\n \"An assembly with the name 'sample headphones'\",\n \"An assembly with the name 'coffee mug'\",\n \"An assembly with the name 'dave's handsome mug'\",\n \"An assembly with the name 'mechanical pencil'\",\n \"An assembly with the name 'os kinematics'\",\n \"An assembly with the name 'torch light for bike'\",\n \"An assembly with the name 'bottle'\",\n \"An assembly with the name 'concept vehicle'\",\n \"An assembly with the name 'mounting arm'\"]"
     },
     "execution_count": 14,
     "metadata": {},
     "output_type": "execute_result"
    }
   ],
   "source": [
    "print(len(assembly_name_sentences))\n",
    "assembly_name_sentences[:10]"
   ],
   "metadata": {
    "collapsed": false,
    "pycharm": {
     "name": "#%%\n"
    }
   }
  },
  {
   "cell_type": "markdown",
   "source": [
    "### Train test split"
   ],
   "metadata": {
    "collapsed": false,
    "pycharm": {
     "name": "#%% md\n"
    }
   }
  },
  {
   "cell_type": "code",
   "execution_count": 15,
   "outputs": [
    {
     "name": "stdout",
     "output_type": "stream",
     "text": [
      "Length of train strings: 49280\n",
      "Length of test strings: 12321\n",
      "Length of train labels: 49280\n",
      "Length of test labels: 12321\n"
     ]
    }
   ],
   "source": [
    "train_strings, test_strings, train_labels, test_labels = train_test_split(part_name_sentences,assembly_name_sentences, test_size=0.2, random_state=0)\n",
    "print(f\"Length of train strings: {len(train_strings)}\")\n",
    "print(f\"Length of test strings: {len(test_strings)}\")\n",
    "print(f\"Length of train labels: {len(train_labels)}\")\n",
    "print(f\"Length of test labels: {len(test_labels)}\")"
   ],
   "metadata": {
    "collapsed": false,
    "pycharm": {
     "name": "#%%\n"
    }
   }
  },
  {
   "cell_type": "markdown",
   "source": [
    "### Tokenize and create embeddings"
   ],
   "metadata": {
    "collapsed": false,
    "pycharm": {
     "name": "#%% md\n"
    },
    "id": "faKncEtB-7Ex"
   }
  },
  {
   "cell_type": "code",
   "execution_count": 45,
   "outputs": [
    {
     "name": "stderr",
     "output_type": "stream",
     "text": [
      "Some layers from the model checkpoint at bert-base-uncased were not used when initializing TFBertModel: ['nsp___cls', 'mlm___cls']\n",
      "- This IS expected if you are initializing TFBertModel from the checkpoint of a model trained on another task or with another architecture (e.g. initializing a BertForSequenceClassification model from a BertForPreTraining model).\n",
      "- This IS NOT expected if you are initializing TFBertModel from the checkpoint of a model that you expect to be exactly identical (initializing a BertForSequenceClassification model from a BertForSequenceClassification model).\n",
      "All the layers of TFBertModel were initialized from the model checkpoint at bert-base-uncased.\n",
      "If your task is similar to the task the model of the checkpoint was trained on, you can already use TFBertModel for predictions without further training.\n"
     ]
    }
   ],
   "source": [
    "model_checkpoint = 'bert-base-uncased'\n",
    "bert_tokenizer = BertTokenizer.from_pretrained(model_checkpoint)\n",
    "bert_model = TFBertModel.from_pretrained(model_checkpoint)"
   ],
   "metadata": {
    "collapsed": false,
    "pycharm": {
     "name": "#%%\n"
    }
   }
  },
  {
   "cell_type": "code",
   "execution_count": 110,
   "outputs": [],
   "source": [
    "def create_embeddings(strings, labels, tokenizer, model, max_length=128, batch_size=100, pooling='cls'):\n",
    "\n",
    "    test_strings_embeddings_batched, test_labels_embeddings_batched = [], []\n",
    "    num_batches = len(strings)//batch_size\n",
    "    for batch in tqdm(range(num_batches), total=num_batches):\n",
    "        test_strings_token = tokenizer(strings[batch*batch_size:(batch+1)*batch_size],\n",
    "                      max_length=max_length,\n",
    "                      truncation=True,\n",
    "                      padding=True,\n",
    "                      return_tensors='tf')\n",
    "\n",
    "        test_labels_tokens = tokenizer(labels[batch*batch_size:(batch+1)*batch_size],\n",
    "                      max_length=max_length,\n",
    "                      truncation=True,\n",
    "                      padding=True,\n",
    "                      return_tensors='tf')\n",
    "\n",
    "        test_strings_embeddings = model(test_strings_token)\n",
    "        test_labels_embeddings = model(test_labels_tokens)\n",
    "\n",
    "        if pooling == 'cls':\n",
    "            test_strings_embeddings = test_strings_embeddings[0][:, 0, :]\n",
    "            test_labels_embeddings = test_labels_embeddings[0][:, 0, :]\n",
    "        else:\n",
    "            test_strings_embeddings = test_strings_embeddings[1]\n",
    "            test_labels_embeddings = test_labels_embeddings[1]\n",
    "        test_strings_embeddings_batched.append(test_strings_embeddings)\n",
    "        test_labels_embeddings_batched.append(test_labels_embeddings)\n",
    "\n",
    "    return test_strings_embeddings_batched, test_labels_embeddings_batched"
   ],
   "metadata": {
    "collapsed": false,
    "pycharm": {
     "name": "#%%\n"
    }
   }
  },
  {
   "cell_type": "code",
   "execution_count": 134,
   "outputs": [
    {
     "name": "stderr",
     "output_type": "stream",
     "text": [
      "100%|██████████| 123/123 [01:39<00:00,  1.24it/s]\n"
     ]
    }
   ],
   "source": [
    "test_strings_embeddings, test_labels_embeddings = create_embeddings(test_strings, test_labels, bert_tokenizer, bert_model)"
   ],
   "metadata": {
    "collapsed": false,
    "pycharm": {
     "name": "#%%\n"
    }
   }
  },
  {
   "cell_type": "markdown",
   "source": [
    "### Evaluate with cosine similarity and argmax"
   ],
   "metadata": {
    "collapsed": false,
    "pycharm": {
     "name": "#%% md\n"
    }
   }
  },
  {
   "cell_type": "code",
   "execution_count": 112,
   "outputs": [],
   "source": [
    "def evaluate_similarity(test_strings_embeddings_batches, test_labels_embeddings_batches):\n",
    "    similarity_batches = []\n",
    "    for batch_id in range(len(test_strings_embeddings_batches)):\n",
    "        test_strings_embeddings = tf.nn.l2_normalize(test_strings_embeddings_batches[batch_id], 0)\n",
    "        test_labels_embeddings = tf.nn.l2_normalize(test_labels_embeddings_batches[batch_id], 0)\n",
    "\n",
    "        similarity = test_strings_embeddings @ tf.transpose(test_labels_embeddings)\n",
    "        similarity_batches.append(similarity)\n",
    "\n",
    "    return similarity_batches\n",
    "\n"
   ],
   "metadata": {
    "collapsed": false,
    "pycharm": {
     "name": "#%%\n"
    }
   }
  },
  {
   "cell_type": "code",
   "execution_count": 135,
   "outputs": [],
   "source": [
    "similarity_batches = evaluate_similarity(test_strings_embeddings, test_labels_embeddings)"
   ],
   "metadata": {
    "collapsed": false,
    "pycharm": {
     "name": "#%%\n"
    }
   }
  },
  {
   "cell_type": "code",
   "execution_count": 136,
   "outputs": [
    {
     "data": {
      "text/plain": "[Text(0.5, 47.24444444444444, 'Part Names'),\n Text(74.44444444444444, 0.5, 'Assembly Names'),\n Text(0.5, 1.0, 'Cosine Similarity Between Assembly Names and Part Names')]"
     },
     "execution_count": 136,
     "metadata": {},
     "output_type": "execute_result"
    },
    {
     "data": {
      "text/plain": "<Figure size 640x480 with 2 Axes>",
      "image/png": "[encoded data removed]"
     },
     "metadata": {},
     "output_type": "display_data"
    }
   ],
   "source": [
    "ax = sns.heatmap(similarity_batches[0], cmap=\"crest\", xticklabels=False, yticklabels=False) #, annot=True)\n",
    "ax.set(xlabel=\"Part Names\", ylabel=\"Assembly Names\", title=\"Cosine Similarity Between Assembly Names and Part Names\")"
   ],
   "metadata": {
    "collapsed": false,
    "pycharm": {
     "name": "#%%\n"
    }
   }
  },
  {
   "cell_type": "code",
   "execution_count": 137,
   "outputs": [
    {
     "name": "stdout",
     "output_type": "stream",
     "text": [
      "Predicted: 65 | Actual: 0\n",
      "Predicted: 65 | Actual: 1\n",
      "Predicted: 65 | Actual: 2\n",
      "Predicted: 65 | Actual: 3\n",
      "Predicted: 91 | Actual: 4\n",
      "Predicted: 28 | Actual: 5\n",
      "Predicted: 94 | Actual: 6\n",
      "Predicted: 65 | Actual: 7\n",
      "Predicted: 65 | Actual: 8\n",
      "Predicted: 65 | Actual: 9\n"
     ]
    }
   ],
   "source": [
    "pred = []\n",
    "true = []\n",
    "for index, value in enumerate(similarity_batches[0][:10]):\n",
    "    predicted = np.argmax(value)\n",
    "    actual = index\n",
    "    pred.append(predicted)\n",
    "    true.append(actual)\n",
    "    print(f\"Predicted: {predicted} | Actual: {index}\")"
   ],
   "metadata": {
    "collapsed": false,
    "pycharm": {
     "name": "#%%\n"
    }
   }
  },
  {
   "cell_type": "code",
   "execution_count": 138,
   "outputs": [],
   "source": [
    "def evaluate_accuracy(similarity_batches):\n",
    "    top_ks = [1,5,10]\n",
    "    for k in top_ks:\n",
    "        tot_accuracy = []\n",
    "        for batch in similarity_batches:\n",
    "            top_k_values = np.argsort(-batch, axis=1)[:,:k]\n",
    "            correct = 0\n",
    "            for index, row in enumerate(top_k_values):\n",
    "                if index in row:\n",
    "                    correct += 1\n",
    "            accuracy = correct / len(batch)\n",
    "            tot_accuracy.append(accuracy)\n",
    "\n",
    "\n",
    "        print(f\"Top-{k} accuracy: {np.mean(tot_accuracy)}\")"
   ],
   "metadata": {
    "collapsed": false,
    "pycharm": {
     "name": "#%%\n"
    }
   }
  },
  {
   "cell_type": "code",
   "execution_count": 139,
   "outputs": [
    {
     "name": "stdout",
     "output_type": "stream",
     "text": [
      "Top-1 accuracy: 0.056829268292682936\n",
      "Top-5 accuracy: 0.15682926829268293\n",
      "Top-10 accuracy: 0.2378048780487805\n"
     ]
    }
   ],
   "source": [
    "evaluate_accuracy(similarity_batches)"
   ],
   "metadata": {
    "collapsed": false,
    "pycharm": {
     "name": "#%%\n"
    }
   }
  },
  {
   "cell_type": "markdown",
   "source": [
    "## Fine-tuned BERT"
   ],
   "metadata": {
    "collapsed": false,
    "pycharm": {
     "name": "#%% md\n"
    }
   },
   "outputs": []
  },
  {
   "cell_type": "markdown",
   "source": [
    "### Load test data"
   ],
   "metadata": {
    "collapsed": false,
    "pycharm": {
     "name": "#%% md\n"
    }
   }
  },
  {
   "cell_type": "code",
   "execution_count": null,
   "outputs": [],
   "source": [
    "test_data = pd.read_csv('data/test.csv')"
   ],
   "metadata": {
    "collapsed": false,
    "pycharm": {
     "name": "#%%\n"
    }
   }
  },
  {
   "cell_type": "code",
   "execution_count": null,
   "outputs": [],
   "source": [
    "test_strings, test_labels = create_sentences(data.loc[test_data['Unnamed: 0'].tolist()])"
   ],
   "metadata": {
    "collapsed": false,
    "pycharm": {
     "name": "#%%\n"
    }
   }
  },
  {
   "cell_type": "code",
   "execution_count": null,
   "outputs": [],
   "source": [
    "test_strings[:5]"
   ],
   "metadata": {
    "collapsed": false,
    "pycharm": {
     "name": "#%%\n"
    }
   }
  },
  {
   "cell_type": "code",
   "execution_count": null,
   "outputs": [],
   "source": [
    "test_labels[:5]"
   ],
   "metadata": {
    "collapsed": false,
    "pycharm": {
     "name": "#%%\n"
    }
   }
  },
  {
   "cell_type": "code",
   "execution_count": 124,
   "outputs": [],
   "source": [
    "test_data = pd.read_csv('data/test.csv')"
   ],
   "metadata": {
    "collapsed": false,
    "pycharm": {
     "name": "#%%\n"
    }
   }
  },
  {
   "cell_type": "code",
   "execution_count": 125,
   "outputs": [
    {
     "name": "stderr",
     "output_type": "stream",
     "text": [
      "100%|██████████| 12321/12321 [00:00<00:00, 18441.83it/s]\n"
     ]
    }
   ],
   "source": [
    "test_strings, test_labels = create_sentences(data.loc[test_data['Unnamed: 0'].tolist()])"
   ],
   "metadata": {
    "collapsed": false,
    "pycharm": {
     "name": "#%%\n"
    }
   }
  },
  {
   "cell_type": "code",
   "execution_count": 126,
   "outputs": [
    {
     "data": {
      "text/plain": "['An assembly containing the following parts: side 2, side 1, end 2, end 1, short divider, long divider.',\n 'An assembly containing the following parts: 20mm stack.',\n 'An assembly containing the following parts: basetopkey, basebottomkeyhalf, boxlid, windholder, basebottomkeyotherhalf, internalcomb, mainbox, barform.',\n 'An assembly containing the following parts: hub build plate prt12, component, l 2112kk cage, bl touch, nut driver prt3, fake support, 177, wheel b1, pivot pin, carriage mount 2 prt10, 168, 166, 159, extruder grove wheel\\\\x2\\\\00d8\\\\x0\\\\13, boden frame, motor shaft, carrage mount prt8, heater, microswitch 1a 125v ac seul, 165, plate mount prt9, z screw, pin\\\\x2\\\\00d8\\\\x0\\\\5, turbine, 175, 147, shaft top prt4, stepper prt1, 184, l 2112kk ball, spacer 5x10x6.35, 157, pcb^endstop, aluminum spacer 20mm, heatsink^e3d nozzle v, 5972k154, 152, main body, extruder body alumium, heater block^e3d nozzle v, solid, 182, vt1m3x30, 144, carrage prt6, open rail gantry plate 60mm, arm, 143, rail cross part, 153, 158, nozzle 0.3mm^e3d nozzle v, 170, 154, 178, bed center, aluminum spacer 9mm, 162, 167, timming pulley 16t g2, 169, 161, 183, 171, 149, 163, 151, 145, extruder bridge aluminium, new plate, frame b1, fitting, aluminum spacer 6mm, frame b2, pin, l 2112kk shield, 160, nozzle, 181, 179, boden lever arm, build plate prt11, shaft bottom prt5, base board, m3cerated nut, 150, glass bed, lead screw prt2, 174, delrin v wheel, 148, teflon tube, jst 4pin, aluminum spacer 3mm, wheel a1, l 2112kk or, vt3m4x12, 180, l 2112kk ir, steel tube, 146, shape, pneumatic con m, 173, heater block, timming pulley 20t g2, bed rotor mount, 164, v slot 20x60x500 linear rail, 172, 142, 176, 155, frame b4, 156, frame b3, pivot shaft.',\n 'An assembly containing the following parts: 2238 375.']"
     },
     "execution_count": 126,
     "metadata": {},
     "output_type": "execute_result"
    }
   ],
   "source": [
    "test_strings[:5]"
   ],
   "metadata": {
    "collapsed": false,
    "pycharm": {
     "name": "#%%\n"
    }
   }
  },
  {
   "cell_type": "code",
   "execution_count": 127,
   "outputs": [
    {
     "data": {
      "text/plain": "[\"An assembly with the name 'box shell version'\",\n \"An assembly with the name '20mm stack'\",\n \"An assembly with the name 'ww sport base bar box'\",\n \"An assembly with the name 'circle builder'\",\n \"An assembly with the name '2238 375.step'\"]"
     },
     "execution_count": 127,
     "metadata": {},
     "output_type": "execute_result"
    }
   ],
   "source": [
    "test_labels[:5]"
   ],
   "metadata": {
    "collapsed": false,
    "pycharm": {
     "name": "#%%\n"
    }
   }
  },
  {
   "cell_type": "markdown",
   "source": [
    "### Load fine-tuned model from checkpoint and get embeddings"
   ],
   "metadata": {
    "collapsed": false,
    "pycharm": {
     "name": "#%% md\n"
    }
   }
  },
  {
   "cell_type": "code",
   "execution_count": 128,
   "outputs": [
    {
     "name": "stderr",
     "output_type": "stream",
     "text": [
      "Some layers from the model checkpoint at MLM/fine_tuning/bert_fine_tuned_2 were not used when initializing TFBertModel: ['mlm___cls']\n",
      "- This IS expected if you are initializing TFBertModel from the checkpoint of a model trained on another task or with another architecture (e.g. initializing a BertForSequenceClassification model from a BertForPreTraining model).\n",
      "- This IS NOT expected if you are initializing TFBertModel from the checkpoint of a model that you expect to be exactly identical (initializing a BertForSequenceClassification model from a BertForSequenceClassification model).\n",
      "Some layers of TFBertModel were not initialized from the model checkpoint at MLM/fine_tuning/bert_fine_tuned_2 and are newly initialized: ['bert/pooler/dense/bias:0', 'bert/pooler/dense/kernel:0']\n",
      "You should probably TRAIN this model on a down-stream task to be able to use it for predictions and inference.\n"
     ]
    }
   ],
   "source": [
    "checkpoint_dir = 'MLM/fine_tuning/bert_fine_tuned_2'\n",
    "bert_tokenizer_2 = BertTokenizer.from_pretrained('bert-base-uncased')\n",
    "bert_model_2 = TFBertModel.from_pretrained(checkpoint_dir)"
   ],
   "metadata": {
    "collapsed": false,
    "pycharm": {
     "name": "#%%\n"
    }
   }
  },
  {
   "cell_type": "code",
   "execution_count": 129,
   "outputs": [
    {
     "name": "stderr",
     "output_type": "stream",
     "text": [
      "100%|██████████| 123/123 [01:37<00:00,  1.26it/s]\n"
     ]
    }
   ],
   "source": [
    "test_strings_embeddings, test_labels_embeddings = create_embeddings(test_strings, test_labels, bert_tokenizer_2, bert_model_2)"
   ],
   "metadata": {
    "collapsed": false,
    "pycharm": {
     "name": "#%%\n"
    }
   }
  },
  {
   "cell_type": "markdown",
   "source": [
    "### Evaluate"
   ],
   "metadata": {
    "collapsed": false,
    "pycharm": {
     "name": "#%% md\n"
    }
   }
  },
  {
   "cell_type": "markdown",
   "source": [
    "## CLIP-like Contrastive Pre-training"
   ],
   "metadata": {
    "collapsed": false,
    "pycharm": {
     "name": "#%% md\n"
    }
   }
  },
  {
   "cell_type": "markdown",
   "source": [
    "### Load test data and create data loader for training data"
   ],
   "metadata": {
    "collapsed": false,
    "pycharm": {
     "name": "#%% md\n"
    }
   }
  },
  {
   "cell_type": "code",
   "execution_count": 57,
   "outputs": [],
   "source": [
    "train_data_path = '../data/train.csv'\n",
    "test_data_raw = pd.read_csv('../data/test.csv')"
   ],
   "metadata": {
    "collapsed": false,
    "pycharm": {
     "name": "#%%\n"
    }
   }
  },
  {
   "cell_type": "code",
   "execution_count": 52,
   "outputs": [
    {
     "name": "stderr",
     "output_type": "stream",
     "text": [
      "100%|██████████| 12321/12321 [00:00<00:00, 16042.80it/s]\n"
     ]
    }
   ],
   "source": [
    "# test_strings, test_labels = create_sentences(data.loc[test_data['Unnamed: 0'].tolist()])"
   ],
   "metadata": {
    "collapsed": false,
    "pycharm": {
     "name": "#%%\n"
    }
   }
  },
  {
   "cell_type": "code",
   "execution_count": 111,
   "outputs": [],
   "source": [
    "def preprocess_data(raw_data, wanted_data, tokenizer, max_length=128):\n",
    "    part_name_sentences, assembly_name_sentences = create_sentences(raw_data.loc[wanted_data['Unnamed: 0'].tolist()])\n",
    "\n",
    "    parts_tokens = tokenizer(part_name_sentences,\n",
    "                  max_length=max_length,\n",
    "                  truncation=True,\n",
    "                  padding=True,\n",
    "                  return_tensors='tf')\n",
    "\n",
    "    # Extract encoded features and labels, add to corresponding lists\n",
    "    part_input_ids = np.array(parts_tokens[\"input_ids\"], dtype=\"int32\")\n",
    "    part_attention_masks = np.array(parts_tokens[\"attention_mask\"], dtype=\"int32\")\n",
    "    part_token_type_ids = np.array(parts_tokens[\"token_type_ids\"], dtype=\"int32\")\n",
    "\n",
    "    assemblies_tokens = tokenizer(assembly_name_sentences,\n",
    "                  max_length=max_length,\n",
    "                  truncation=True,\n",
    "                  padding=True,\n",
    "                  return_tensors='tf')\n",
    "\n",
    "    # Extract encoded features and labels, add to corresponding lists\n",
    "    assembly_input_ids = np.array(assemblies_tokens[\"input_ids\"], dtype=\"int32\")\n",
    "    assembly_attention_masks = np.array(assemblies_tokens[\"attention_mask\"], dtype=\"int32\")\n",
    "    assembly_token_type_ids = np.array(assemblies_tokens[\"token_type_ids\"], dtype=\"int32\")\n",
    "\n",
    "\n",
    "    # return [[part_input_ids, part_attention_masks, part_token_type_ids], [assembly_input_ids, assembly_attention_masks, assembly_token_type_ids]]\n",
    "    return [assemblies_tokens, parts_tokens]"
   ],
   "metadata": {
    "collapsed": false,
    "pycharm": {
     "name": "#%%\n"
    }
   }
  },
  {
   "cell_type": "code",
   "execution_count": 112,
   "outputs": [],
   "source": [
    "class DataGeneratorFromFile(tf.keras.utils.Sequence):\n",
    "    def __init__(self,\n",
    "                 tokenizer,\n",
    "                 n_examples,\n",
    "                 data_filename,\n",
    "                 max_length=128,\n",
    "                 batch_size=32,\n",
    "                 shuffle=True):\n",
    "\n",
    "        self.tokenizer = tokenizer\n",
    "        self.n_examples = n_examples\n",
    "        self.data_filename = data_filename\n",
    "        self.max_length = max_length\n",
    "        self.batch_size = batch_size\n",
    "        self.shuffle = shuffle\n",
    "\n",
    "        # Initialize row order, call on_epoch_end to shuffle row indices\n",
    "        self.row_order = np.arange(1, self.n_examples+1)\n",
    "        self.on_epoch_end()\n",
    "\n",
    "    def __len__(self):\n",
    "        return self.n_examples // self.batch_size\n",
    "\n",
    "    def __getitem__(self, idx):\n",
    "        batch_start = idx * self.batch_size\n",
    "        batch_end = (idx + 1) * self.batch_size\n",
    "\n",
    "        # Indices to skip are the ones in the shuffled row_order before and\n",
    "        # after the chunk we'll use for this batch\n",
    "        batch_idx_skip = self.row_order[:batch_start] + self.row_order[batch_end:]\n",
    "        train_data_df = pd.read_csv(self.data_filename, skiprows=batch_idx_skip)\n",
    "\n",
    "        batch_data = preprocess_data(\n",
    "            data,\n",
    "            train_data_df,\n",
    "            self.tokenizer,\n",
    "            self.max_length\n",
    "        )\n",
    "\n",
    "        return batch_data\n",
    "\n",
    "    def on_epoch_end(self):\n",
    "        if self.shuffle:\n",
    "            self.row_order = list(np.random.permutation(self.row_order))"
   ],
   "metadata": {
    "collapsed": false,
    "pycharm": {
     "name": "#%%\n"
    }
   }
  },
  {
   "cell_type": "code",
   "execution_count": 113,
   "outputs": [
    {
     "name": "stderr",
     "output_type": "stream",
     "text": [
      "100%|██████████| 12321/12321 [00:00<00:00, 17890.19it/s]\n"
     ]
    }
   ],
   "source": [
    "test_data = preprocess_data(data, test_data_raw, tokenizer=bert_tokenizer, max_length=128)\n",
    "# print(np.array(test_data).shape)"
   ],
   "metadata": {
    "collapsed": false,
    "pycharm": {
     "name": "#%%\n"
    }
   }
  },
  {
   "cell_type": "markdown",
   "source": [
    "## Build Model"
   ],
   "metadata": {
    "collapsed": false,
    "pycharm": {
     "name": "#%% md\n"
    }
   }
  },
  {
   "cell_type": "code",
   "execution_count": 114,
   "outputs": [],
   "source": [
    "# Implement the text encoder\n",
    "def create_text_encoder(train_layers=5, bert_model_name='bert-base-uncased', max_length=128):\n",
    "    bert_model = TFAutoModel.from_pretrained(bert_model_name)\n",
    "\n",
    "    if train_layers == -1:\n",
    "        # Freeze all layers of pre-trained BERT model\n",
    "        bert_model.trainable = False\n",
    "    else:\n",
    "        # Restrict training to the train_layers outer transformer layers\n",
    "        retrain_layers = []\n",
    "        for retrain_layer_number in range(train_layers):\n",
    "            layer_code = '_' + str(11 - retrain_layer_number)\n",
    "            retrain_layers.append(layer_code)\n",
    "        print('retrain layers: ', retrain_layers)\n",
    "        for w in bert_model.weights:\n",
    "            if not any([x in w.name for x in retrain_layers]):\n",
    "                print('freezing: ', w)\n",
    "                w._trainable = False\n",
    "\n",
    "    input_ids = tf.keras.layers.Input(shape=(max_length,), dtype=tf.int64, name='input_ids_layer')\n",
    "    token_type_ids = tf.keras.layers.Input(shape=(max_length,), dtype=tf.int64, name='token_type_ids_layer')\n",
    "    attention_mask = tf.keras.layers.Input(shape=(max_length,), dtype=tf.int64, name='attention_mask_layer')\n",
    "\n",
    "    bert_inputs = {'input_ids': input_ids,\n",
    "                   'token_type_ids': token_type_ids,\n",
    "                   'attention_mask': attention_mask}\n",
    "\n",
    "    bert_out = bert_model(bert_inputs)\n",
    "    # pooled_token = bert_out[1]\n",
    "    cls_token = bert_out[0][:, 0, :]\n",
    "\n",
    "    model = tf.keras.Model(inputs=[input_ids, token_type_ids, attention_mask], outputs=[cls_token], name='text_encoder')\n",
    "    return model"
   ],
   "metadata": {
    "collapsed": false,
    "pycharm": {
     "name": "#%%\n"
    }
   }
  },
  {
   "cell_type": "code",
   "execution_count": 124,
   "outputs": [],
   "source": [
    "# Implement the dual encoder\n",
    "class DualEncoder(keras.Model):\n",
    "    def __init__(self, text_encoder, temperature=1.0, **kwargs):\n",
    "        super(DualEncoder, self).__init__(**kwargs)\n",
    "        self.text_encoder = text_encoder\n",
    "        self.temperature = temperature\n",
    "        self.loss_tracker = keras.metrics.Mean(name=\"loss\")\n",
    "\n",
    "    @property\n",
    "    def metrics(self):\n",
    "        return [self.loss_tracker]\n",
    "\n",
    "    def call(self, inputs, training=False):\n",
    "        print(inputs)\n",
    "        assemblies_tokens, parts_tokens = inputs[0], inputs[1]\n",
    "        print(assemblies_tokens[0].shape())\n",
    "        assembly_embeddings = self.text_encoder(assemblies_tokens, training=training)\n",
    "        parts_embeddings = self.text_encoder(parts_tokens, training=training)\n",
    "\n",
    "        return assembly_embeddings, parts_embeddings\n",
    "\n",
    "    def compute_loss(self, assembly_embeddings, parts_embeddings):\n",
    "        # logits[i][j] is the dot_similarity(caption_i, image_j).\n",
    "        logits = (\n",
    "            tf.matmul(assembly_embeddings, parts_embeddings, transpose_b=True)\n",
    "            / self.temperature\n",
    "        )\n",
    "        # images_similarity[i][j] is the dot_similarity(image_i, image_j).\n",
    "        parts_similarity = tf.matmul(\n",
    "            parts_embeddings, parts_embeddings, transpose_b=True\n",
    "        )\n",
    "        # captions_similarity[i][j] is the dot_similarity(caption_i, caption_j).\n",
    "        assembly_similarity = tf.matmul(\n",
    "            assembly_embeddings, assembly_embeddings, transpose_b=True\n",
    "        )\n",
    "        # targets[i][j] = avarage dot_similarity(caption_i, caption_j) and dot_similarity(image_i, image_j).\n",
    "        targets = keras.activations.softmax(\n",
    "            (parts_similarity + assembly_similarity) / (2 * self.temperature)\n",
    "        )\n",
    "        # Compute the loss for the captions using crossentropy\n",
    "        assembly_loss = keras.losses.categorical_crossentropy(\n",
    "            y_true=targets, y_pred=logits, from_logits=True\n",
    "        )\n",
    "        # Compute the loss for the images using crossentropy\n",
    "        parts_loss = keras.losses.categorical_crossentropy(\n",
    "            y_true=tf.transpose(targets), y_pred=tf.transpose(logits), from_logits=True\n",
    "        )\n",
    "        # Return the mean of the loss over the batch.\n",
    "        return (assembly_loss + parts_loss) / 2\n",
    "\n",
    "    def train_step(self, features):\n",
    "        with tf.GradientTape() as tape:\n",
    "            # Forward pass\n",
    "            assembly_embeddings, parts_embeddings = self(features, training=True)\n",
    "            loss = self.compute_loss(assembly_embeddings, parts_embeddings)\n",
    "        # Backward pass\n",
    "        gradients = tape.gradient(loss, self.trainable_variables)\n",
    "        self.optimizer.apply_gradients(zip(gradients, self.trainable_variables))\n",
    "        # Monitor loss\n",
    "        self.loss_tracker.update_state(loss)\n",
    "        return {\"loss\": self.loss_tracker.result()}\n",
    "\n",
    "    def test_step(self, features):\n",
    "        assembly_embeddings, parts_embeddings = self(features, training=False)\n",
    "        loss = self.compute_loss(assembly_embeddings, parts_embeddings)\n",
    "        self.loss_tracker.update_state(loss)\n",
    "        return {\"loss\": self.loss_tracker.result()}"
   ],
   "metadata": {
    "collapsed": false,
    "pycharm": {
     "name": "#%%\n"
    }
   }
  },
  {
   "cell_type": "code",
   "execution_count": 125,
   "outputs": [
    {
     "name": "stderr",
     "output_type": "stream",
     "text": [
      "Some layers from the model checkpoint at bert-base-uncased were not used when initializing TFBertModel: ['nsp___cls', 'mlm___cls']\n",
      "- This IS expected if you are initializing TFBertModel from the checkpoint of a model trained on another task or with another architecture (e.g. initializing a BertForSequenceClassification model from a BertForPreTraining model).\n",
      "- This IS NOT expected if you are initializing TFBertModel from the checkpoint of a model that you expect to be exactly identical (initializing a BertForSequenceClassification model from a BertForSequenceClassification model).\n",
      "All the layers of TFBertModel were initialized from the model checkpoint at bert-base-uncased.\n",
      "If your task is similar to the task the model of the checkpoint was trained on, you can already use TFBertModel for predictions without further training.\n"
     ]
    },
    {
     "name": "stdout",
     "output_type": "stream",
     "text": [
      "retrain layers:  ['_11', '_10', '_9', '_8', '_7']\n"
     ]
    }
   ],
   "source": [
    "# Train the dual encoder model\n",
    "num_epochs = 5  # In practice, train for at least 30 epochs\n",
    "batch_size = 256\n",
    "\n",
    "text_encoder = create_text_encoder(train_layers=5, hidden_size = 200, dropout=0.3, learning_rate=0.00005, max_length=128)\n",
    "dual_encoder = DualEncoder(text_encoder, temperature=0.05)\n",
    "dual_encoder.compile(optimizer=tfa.optimizers.AdamW(learning_rate=0.001, weight_decay=0.001))"
   ],
   "metadata": {
    "collapsed": false,
    "pycharm": {
     "name": "#%%\n"
    }
   }
  },
  {
   "cell_type": "code",
   "execution_count": 126,
   "outputs": [
    {
     "name": "stderr",
     "output_type": "stream",
     "text": [
      "100%|██████████| 100/100 [00:00<00:00, 7138.03it/s]\n"
     ]
    },
    {
     "name": "stdout",
     "output_type": "stream",
     "text": [
      "{'input_ids': <tf.Tensor: shape=(100, 27), dtype=int32, numpy=\n",
      "array([[ 101, 2019, 3320, ...,    0,    0,    0],\n",
      "       [ 101, 2019, 3320, ...,    0,    0,    0],\n",
      "       [ 101, 2019, 3320, ...,    0,    0,    0],\n",
      "       ...,\n",
      "       [ 101, 2019, 3320, ...,    0,    0,    0],\n",
      "       [ 101, 2019, 3320, ..., 2243, 1005,  102],\n",
      "       [ 101, 2019, 3320, ...,    0,    0,    0]])>, 'token_type_ids': <tf.Tensor: shape=(100, 27), dtype=int32, numpy=\n",
      "array([[0, 0, 0, ..., 0, 0, 0],\n",
      "       [0, 0, 0, ..., 0, 0, 0],\n",
      "       [0, 0, 0, ..., 0, 0, 0],\n",
      "       ...,\n",
      "       [0, 0, 0, ..., 0, 0, 0],\n",
      "       [0, 0, 0, ..., 0, 0, 0],\n",
      "       [0, 0, 0, ..., 0, 0, 0]])>, 'attention_mask': <tf.Tensor: shape=(100, 27), dtype=int32, numpy=\n",
      "array([[1, 1, 1, ..., 0, 0, 0],\n",
      "       [1, 1, 1, ..., 0, 0, 0],\n",
      "       [1, 1, 1, ..., 0, 0, 0],\n",
      "       ...,\n",
      "       [1, 1, 1, ..., 0, 0, 0],\n",
      "       [1, 1, 1, ..., 1, 1, 1],\n",
      "       [1, 1, 1, ..., 0, 0, 0]])>}\n"
     ]
    },
    {
     "ename": "KeyError",
     "evalue": "'Exception encountered when calling layer \"dual_encoder_10\" \"                 f\"(type DualEncoder).\\n\\nIndexing with integers (to access backend Encoding for a given batch index) is not available when using Python based tokenizers\\n\\nCall arguments received by layer \"dual_encoder_10\" \"                 f\"(type DualEncoder):\\n  • inputs={\\'input_ids\\': \\'tf.Tensor(shape=(100, 27), dtype=int32)\\', \\'token_type_ids\\': \\'tf.Tensor(shape=(100, 27), dtype=int32)\\', \\'attention_mask\\': \\'tf.Tensor(shape=(100, 27), dtype=int32)\\'}\\n  • training=False'",
     "output_type": "error",
     "traceback": [
      "\u001B[1;31m---------------------------------------------------------------------------\u001B[0m",
      "\u001B[1;31mKeyError\u001B[0m                                  Traceback (most recent call last)",
      "Input \u001B[1;32mIn [126]\u001B[0m, in \u001B[0;36m<cell line: 13>\u001B[1;34m()\u001B[0m\n\u001B[0;32m      9\u001B[0m reduce_lr \u001B[38;5;241m=\u001B[39m keras\u001B[38;5;241m.\u001B[39mcallbacks\u001B[38;5;241m.\u001B[39mReduceLROnPlateau(monitor\u001B[38;5;241m=\u001B[39m\u001B[38;5;124m\"\u001B[39m\u001B[38;5;124mval_loss\u001B[39m\u001B[38;5;124m\"\u001B[39m, factor\u001B[38;5;241m=\u001B[39m\u001B[38;5;241m0.2\u001B[39m, patience\u001B[38;5;241m=\u001B[39m\u001B[38;5;241m3\u001B[39m)\n\u001B[0;32m     10\u001B[0m \u001B[38;5;66;03m# Create an early stopping callback.\u001B[39;00m\n\u001B[0;32m     11\u001B[0m \u001B[38;5;66;03m# early_stopping = tf.keras.callbacks.EarlyStopping(monitor=\"val_loss\", patience=5, restore_best_weights=True)\u001B[39;00m\n\u001B[1;32m---> 13\u001B[0m history \u001B[38;5;241m=\u001B[39m \u001B[43mdual_encoder\u001B[49m\u001B[38;5;241;43m.\u001B[39;49m\u001B[43mfit\u001B[49m\u001B[43m(\u001B[49m\n\u001B[0;32m     14\u001B[0m \u001B[43m    \u001B[49m\u001B[43mtrain_data_generator\u001B[49m\u001B[43m,\u001B[49m\n\u001B[0;32m     15\u001B[0m \u001B[43m    \u001B[49m\u001B[43mepochs\u001B[49m\u001B[38;5;241;43m=\u001B[39;49m\u001B[43mnum_epochs\u001B[49m\u001B[43m,\u001B[49m\n\u001B[0;32m     16\u001B[0m \u001B[43m    \u001B[49m\u001B[43mvalidation_data\u001B[49m\u001B[38;5;241;43m=\u001B[39;49m\u001B[43mtest_data\u001B[49m\u001B[43m,\u001B[49m\n\u001B[0;32m     17\u001B[0m \u001B[43m    \u001B[49m\u001B[43mcallbacks\u001B[49m\u001B[38;5;241;43m=\u001B[39;49m\u001B[43m[\u001B[49m\u001B[43mreduce_lr\u001B[49m\u001B[43m]\u001B[49m\u001B[43m \u001B[49m\u001B[38;5;66;43;03m# , early_stopping],\u001B[39;49;00m\n\u001B[0;32m     18\u001B[0m \u001B[43m)\u001B[49m\n\u001B[0;32m     19\u001B[0m \u001B[38;5;28mprint\u001B[39m(\u001B[38;5;124m\"\u001B[39m\u001B[38;5;124mTraining completed. Saving text encoder...\u001B[39m\u001B[38;5;124m\"\u001B[39m)\n\u001B[0;32m     20\u001B[0m text_encoder\u001B[38;5;241m.\u001B[39msave(\u001B[38;5;124m\"\u001B[39m\u001B[38;5;124mtext_encoder\u001B[39m\u001B[38;5;124m\"\u001B[39m)\n",
      "File \u001B[1;32m~\\miniconda3\\envs\\w266_final_project\\lib\\site-packages\\keras\\utils\\traceback_utils.py:70\u001B[0m, in \u001B[0;36mfilter_traceback.<locals>.error_handler\u001B[1;34m(*args, **kwargs)\u001B[0m\n\u001B[0;32m     67\u001B[0m     filtered_tb \u001B[38;5;241m=\u001B[39m _process_traceback_frames(e\u001B[38;5;241m.\u001B[39m__traceback__)\n\u001B[0;32m     68\u001B[0m     \u001B[38;5;66;03m# To get the full stack trace, call:\u001B[39;00m\n\u001B[0;32m     69\u001B[0m     \u001B[38;5;66;03m# `tf.debugging.disable_traceback_filtering()`\u001B[39;00m\n\u001B[1;32m---> 70\u001B[0m     \u001B[38;5;28;01mraise\u001B[39;00m e\u001B[38;5;241m.\u001B[39mwith_traceback(filtered_tb) \u001B[38;5;28;01mfrom\u001B[39;00m \u001B[38;5;28mNone\u001B[39m\n\u001B[0;32m     71\u001B[0m \u001B[38;5;28;01mfinally\u001B[39;00m:\n\u001B[0;32m     72\u001B[0m     \u001B[38;5;28;01mdel\u001B[39;00m filtered_tb\n",
      "Input \u001B[1;32mIn [124]\u001B[0m, in \u001B[0;36mDualEncoder.call\u001B[1;34m(self, inputs, training)\u001B[0m\n\u001B[0;32m     13\u001B[0m \u001B[38;5;28;01mdef\u001B[39;00m \u001B[38;5;21mcall\u001B[39m(\u001B[38;5;28mself\u001B[39m, inputs, training\u001B[38;5;241m=\u001B[39m\u001B[38;5;28;01mFalse\u001B[39;00m):\n\u001B[0;32m     14\u001B[0m     \u001B[38;5;28mprint\u001B[39m(inputs)\n\u001B[1;32m---> 15\u001B[0m     assemblies_tokens, parts_tokens \u001B[38;5;241m=\u001B[39m \u001B[43minputs\u001B[49m\u001B[43m[\u001B[49m\u001B[38;5;241;43m0\u001B[39;49m\u001B[43m]\u001B[49m, inputs[\u001B[38;5;241m1\u001B[39m]\n\u001B[0;32m     16\u001B[0m     \u001B[38;5;28mprint\u001B[39m(assemblies_tokens[\u001B[38;5;241m0\u001B[39m]\u001B[38;5;241m.\u001B[39mshape())\n\u001B[0;32m     17\u001B[0m     assembly_embeddings \u001B[38;5;241m=\u001B[39m \u001B[38;5;28mself\u001B[39m\u001B[38;5;241m.\u001B[39mtext_encoder(assemblies_tokens, training\u001B[38;5;241m=\u001B[39mtraining)\n",
      "File \u001B[1;32m~\\miniconda3\\envs\\w266_final_project\\lib\\site-packages\\transformers\\tokenization_utils_base.py:237\u001B[0m, in \u001B[0;36mBatchEncoding.__getitem__\u001B[1;34m(self, item)\u001B[0m\n\u001B[0;32m    235\u001B[0m     \u001B[38;5;28;01mreturn\u001B[39;00m \u001B[38;5;28mself\u001B[39m\u001B[38;5;241m.\u001B[39m_encodings[item]\n\u001B[0;32m    236\u001B[0m \u001B[38;5;28;01melse\u001B[39;00m:\n\u001B[1;32m--> 237\u001B[0m     \u001B[38;5;28;01mraise\u001B[39;00m \u001B[38;5;167;01mKeyError\u001B[39;00m(\n\u001B[0;32m    238\u001B[0m         \u001B[38;5;124m\"\u001B[39m\u001B[38;5;124mIndexing with integers (to access backend Encoding for a given batch index) \u001B[39m\u001B[38;5;124m\"\u001B[39m\n\u001B[0;32m    239\u001B[0m         \u001B[38;5;124m\"\u001B[39m\u001B[38;5;124mis not available when using Python based tokenizers\u001B[39m\u001B[38;5;124m\"\u001B[39m\n\u001B[0;32m    240\u001B[0m     )\n",
      "\u001B[1;31mKeyError\u001B[0m: 'Exception encountered when calling layer \"dual_encoder_10\" \"                 f\"(type DualEncoder).\\n\\nIndexing with integers (to access backend Encoding for a given batch index) is not available when using Python based tokenizers\\n\\nCall arguments received by layer \"dual_encoder_10\" \"                 f\"(type DualEncoder):\\n  • inputs={\\'input_ids\\': \\'tf.Tensor(shape=(100, 27), dtype=int32)\\', \\'token_type_ids\\': \\'tf.Tensor(shape=(100, 27), dtype=int32)\\', \\'attention_mask\\': \\'tf.Tensor(shape=(100, 27), dtype=int32)\\'}\\n  • training=False'"
     ]
    }
   ],
   "source": [
    "train_data_generator = DataGeneratorFromFile(\n",
    "    tokenizer=bert_tokenizer,\n",
    "    n_examples=len(pd.read_csv('../data/train.csv')),\n",
    "    data_filename=train_data_path,\n",
    "    batch_size=100\n",
    ")\n",
    "\n",
    "# Create a learning rate scheduler callback.\n",
    "reduce_lr = keras.callbacks.ReduceLROnPlateau(monitor=\"val_loss\", factor=0.2, patience=3)\n",
    "# Create an early stopping callback.\n",
    "# early_stopping = tf.keras.callbacks.EarlyStopping(monitor=\"val_loss\", patience=5, restore_best_weights=True)\n",
    "\n",
    "history = dual_encoder.fit(\n",
    "    train_data_generator,\n",
    "    epochs=num_epochs,\n",
    "    validation_data=test_data,\n",
    "    callbacks=[reduce_lr] # , early_stopping],\n",
    ")\n",
    "print(\"Training completed. Saving text encoder...\")\n",
    "text_encoder.save(\"text_encoder\")\n",
    "print(\"Models are saved.\")"
   ],
   "metadata": {
    "collapsed": false,
    "pycharm": {
     "name": "#%%\n"
    }
   }
  },
  {
   "cell_type": "code",
   "execution_count": 97,
   "outputs": [
    {
     "name": "stdout",
     "output_type": "stream",
     "text": [
      "Model: \"text_encoder\"\n",
      "__________________________________________________________________________________________________\n",
      " Layer (type)                   Output Shape         Param #     Connected to                     \n",
      "==================================================================================================\n",
      " attention_mask_layer (InputLay  [(None, 128)]       0           []                               \n",
      " er)                                                                                              \n",
      "                                                                                                  \n",
      " input_ids_layer (InputLayer)   [(None, 128)]        0           []                               \n",
      "                                                                                                  \n",
      " token_type_ids_layer (InputLay  [(None, 128)]       0           []                               \n",
      " er)                                                                                              \n",
      "                                                                                                  \n",
      " tf_bert_model_3 (TFBertModel)  TFBaseModelOutputWi  109482240   ['attention_mask_layer[0][0]',   \n",
      "                                thPoolingAndCrossAt               'input_ids_layer[0][0]',        \n",
      "                                tentions(last_hidde               'token_type_ids_layer[0][0]']   \n",
      "                                n_state=(None, 128,                                               \n",
      "                                 768),                                                            \n",
      "                                 pooler_output=(Non                                               \n",
      "                                e, 768),                                                          \n",
      "                                 past_key_values=No                                               \n",
      "                                ne, hidden_states=N                                               \n",
      "                                one, attentions=Non                                               \n",
      "                                e, cross_attentions                                               \n",
      "                                =None)                                                            \n",
      "                                                                                                  \n",
      " tf.__operators__.getitem_2 (Sl  (None, 768)         0           ['tf_bert_model_3[0][0]']        \n",
      " icingOpLambda)                                                                                   \n",
      "                                                                                                  \n",
      "==================================================================================================\n",
      "Total params: 109,482,240\n",
      "Trainable params: 109,482,240\n",
      "Non-trainable params: 0\n",
      "__________________________________________________________________________________________________\n"
     ]
    }
   ],
   "source": [
    "text_encoder.summary()"
   ],
   "metadata": {
    "collapsed": false,
    "pycharm": {
     "name": "#%%\n"
    }
   }
  },
  {
   "cell_type": "code",
   "execution_count": 98,
   "outputs": [
    {
     "name": "stdout",
     "output_type": "stream",
     "text": [
      "Model: \"dual_encoder_2\"\n",
      "_________________________________________________________________\n",
      " Layer (type)                Output Shape              Param #   \n",
      "=================================================================\n",
      " text_encoder (Functional)   (None, 768)               109482240 \n",
      "                                                                 \n",
      "=================================================================\n",
      "Total params: 109,482,242\n",
      "Trainable params: 109,482,240\n",
      "Non-trainable params: 2\n",
      "_________________________________________________________________\n"
     ]
    }
   ],
   "source": [
    "dual_encoder.summary()"
   ],
   "metadata": {
    "collapsed": false,
    "pycharm": {
     "name": "#%%\n"
    }
   }
  },
  {
   "cell_type": "code",
   "execution_count": null,
   "outputs": [],
   "source": [],
   "metadata": {
    "collapsed": false,
    "pycharm": {
     "name": "#%%\n"
    }
   }
  },
  {
   "cell_type": "code",
   "execution_count": null,
   "outputs": [],
   "source": [],
   "metadata": {
    "collapsed": false,
    "pycharm": {
     "name": "#%%\n"
    }
   }
  },
  {
   "cell_type": "code",
   "execution_count": null,
   "outputs": [],
   "source": [],
   "metadata": {
    "collapsed": false,
    "pycharm": {
     "name": "#%%\n"
    }
   }
  },
  {
   "cell_type": "code",
   "execution_count": 132,
   "outputs": [
    {
     "name": "stdout",
     "output_type": "stream",
     "text": [
      "Predicted: 65 | Actual: 0\n",
      "Predicted: 65 | Actual: 1\n",
      "Predicted: 12 | Actual: 2\n",
      "Predicted: 65 | Actual: 3\n",
      "Predicted: 4 | Actual: 4\n",
      "Predicted: 65 | Actual: 5\n",
      "Predicted: 65 | Actual: 6\n",
      "Predicted: 65 | Actual: 7\n",
      "Predicted: 65 | Actual: 8\n",
      "Predicted: 65 | Actual: 9\n"
     ]
    }
   ],
   "source": [
    "for index, value in enumerate(similarity_batches[0][:10]):\n",
    "    predicted = np.argmax(value)\n",
    "    actual = index\n",
    "    print(f\"Predicted: {predicted} | Actual: {index}\")"
   ],
   "metadata": {
    "collapsed": false,
    "pycharm": {
     "name": "#%%\n"
    }
   }
  },
  {
   "cell_type": "code",
   "execution_count": 133,
   "outputs": [
    {
     "name": "stdout",
     "output_type": "stream",
     "text": [
      "Top-1 accuracy: 0.09495934959349595\n",
      "Top-5 accuracy: 0.20813008130081304\n",
      "Top-10 accuracy: 0.30308943089430895\n"
     ]
    }
   ],
   "source": [
    "evaluate_accuracy(similarity_batches)"
   ],
   "metadata": {
    "collapsed": false,
    "pycharm": {
     "name": "#%%\n"
    }
   }
  },
  {
   "cell_type": "code",
   "execution_count": null,
   "outputs": [],
   "source": [],
   "metadata": {
    "collapsed": false,
    "pycharm": {
     "name": "#%%\n"
    }
   }
  },
  {
   "cell_type": "code",
   "execution_count": null,
   "outputs": [],
   "source": [],
   "metadata": {
    "collapsed": false,
    "pycharm": {
     "name": "#%%\n"
    }
   }
  }
 ],
 "metadata": {
  "kernelspec": {
   "display_name": "Python 3",
   "language": "python",
   "name": "python3"
  },
  "language_info": {
   "codemirror_mode": {
    "name": "ipython",
    "version": 2
   },
   "file_extension": ".py",
   "mimetype": "text/x-python",
   "name": "python",
   "nbconvert_exporter": "python",
   "pygments_lexer": "ipython2",
   "version": "2.7.6"
  },
  "colab": {
   "provenance": [],
   "collapsed_sections": [],
   "include_colab_link": true
  },
  "accelerator": "GPU",
  "gpuClass": "standard"
 },
 "nbformat": 4,
 "nbformat_minor": 0
}