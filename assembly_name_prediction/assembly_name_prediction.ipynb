{
 "cells": [
  {
   "cell_type": "markdown",
   "source": [
    "# Assembly name prediction"
   ],
   "metadata": {
    "collapsed": false,
    "pycharm": {
     "name": "#%% md\n"
    },
    "id": "axJffiPf-7EV"
   }
  },
  {
   "cell_type": "markdown",
   "source": [
    "## Simple baseline with BERT and cosine similarity"
   ],
   "metadata": {
    "collapsed": false,
    "pycharm": {
     "name": "#%% md\n"
    }
   }
  },
  {
   "cell_type": "code",
   "execution_count": 96,
   "outputs": [],
   "source": [
    "import numpy as np\n",
    "import tensorflow as tf\n",
    "from tensorflow import keras\n",
    "import pandas as pd\n",
    "from tqdm import tqdm\n",
    "from collections import Counter\n",
    "import re\n",
    "import seaborn as sns\n",
    "import matplotlib.pyplot as plt\n",
    "from sklearn.model_selection import train_test_split\n",
    "from sklearn.metrics import classification_report\n",
    "from numpy.linalg import norm\n",
    "from transformers import BertTokenizer, TFBertModel, DataCollatorForLanguageModeling\n",
    "import seaborn as sns\n",
    "from sklearn.metrics import top_k_accuracy_score as top_k"
   ],
   "metadata": {
    "pycharm": {
     "name": "#%%\n"
    },
    "id": "pzj8gsei-7Eg",
    "outputId": "78cee69e-5a2b-4412-a1c8-b418a829452a",
    "colab": {
     "base_uri": "https://localhost:8080/"
    }
   }
  },
  {
   "cell_type": "markdown",
   "source": [
    "### Pre-process data for task"
   ],
   "metadata": {
    "collapsed": false,
    "pycharm": {
     "name": "#%% md\n"
    },
    "id": "GATzDiPc-7Ek"
   }
  },
  {
   "cell_type": "code",
   "execution_count": 97,
   "outputs": [],
   "source": [
    "data_path = \"data/data_02.feather\"\n",
    "data = pd.read_feather(data_path)"
   ],
   "metadata": {
    "collapsed": false,
    "pycharm": {
     "name": "#%%\n"
    }
   }
  },
  {
   "cell_type": "code",
   "execution_count": 98,
   "outputs": [
    {
     "data": {
      "text/plain": "         assembly_name                                         part_names\n0          Lava Lamp 2                  [Blob3, Blob2, Blob1, Glass, Cap]\n1  Sample - Headphones  [Pivot hinge, Headphone hinge, Telescope hinge...\n4           Coffee Mug                                         [Mug, Lid]\n5  Dave's Handsome Mug                                [Lid, Seal, Vessel]\n9    Mechanical Pencil  [Eraser, Pencil Lead, Rubber Grip, Gripper Rod...",
      "text/html": "<div>\n<style scoped>\n    .dataframe tbody tr th:only-of-type {\n        vertical-align: middle;\n    }\n\n    .dataframe tbody tr th {\n        vertical-align: top;\n    }\n\n    .dataframe thead th {\n        text-align: right;\n    }\n</style>\n<table border=\"1\" class=\"dataframe\">\n  <thead>\n    <tr style=\"text-align: right;\">\n      <th></th>\n      <th>assembly_name</th>\n      <th>part_names</th>\n    </tr>\n  </thead>\n  <tbody>\n    <tr>\n      <th>0</th>\n      <td>Lava Lamp 2</td>\n      <td>[Blob3, Blob2, Blob1, Glass, Cap]</td>\n    </tr>\n    <tr>\n      <th>1</th>\n      <td>Sample - Headphones</td>\n      <td>[Pivot hinge, Headphone hinge, Telescope hinge...</td>\n    </tr>\n    <tr>\n      <th>4</th>\n      <td>Coffee Mug</td>\n      <td>[Mug, Lid]</td>\n    </tr>\n    <tr>\n      <th>5</th>\n      <td>Dave's Handsome Mug</td>\n      <td>[Lid, Seal, Vessel]</td>\n    </tr>\n    <tr>\n      <th>9</th>\n      <td>Mechanical Pencil</td>\n      <td>[Eraser, Pencil Lead, Rubber Grip, Gripper Rod...</td>\n    </tr>\n  </tbody>\n</table>\n</div>"
     },
     "execution_count": 98,
     "metadata": {},
     "output_type": "execute_result"
    }
   ],
   "source": [
    "data = data.dropna(subset=[\"assembly_name\", \"part_names\"])\n",
    "data = data.drop(columns=[\"assembly_id\", 'assembly_description'])\n",
    "data.head()"
   ],
   "metadata": {
    "collapsed": false,
    "pycharm": {
     "name": "#%%\n"
    }
   }
  },
  {
   "cell_type": "code",
   "execution_count": 99,
   "outputs": [
    {
     "name": "stdout",
     "output_type": "stream",
     "text": [
      "Tot: 88886\n",
      "Unique: 67834\n",
      "\n",
      "After dedup: 61725\n",
      "Unique: 54034\n"
     ]
    }
   ],
   "source": [
    "# Deduplicate\n",
    "print(f\"Tot: {len(data)}\")\n",
    "print(f\"Unique: {len(data['assembly_name'].unique())}\")\n",
    "data = data[~data['part_names'].apply(tuple).duplicated()]\n",
    "print(f\"\\nAfter dedup: {len(data)}\")\n",
    "print(f\"Unique: {len(data['assembly_name'].unique())}\")"
   ],
   "metadata": {
    "collapsed": false,
    "pycharm": {
     "name": "#%%\n"
    }
   }
  },
  {
   "cell_type": "markdown",
   "source": [
    "### Clean assembly names"
   ],
   "metadata": {
    "collapsed": false,
    "pycharm": {
     "name": "#%% md\n"
    }
   }
  },
  {
   "cell_type": "code",
   "execution_count": 100,
   "outputs": [],
   "source": [
    "def process_assembly_names(string):\n",
    "    string = string.replace('.x_t', '')\n",
    "    string = string.replace('.stp', '')\n",
    "    string = string.replace('.step', '')\n",
    "    string = string.replace('.zip', '')\n",
    "    string = ' '.join(re.findall('.+?(?:(?<=[a-z])(?=[A-Z])|(?<=[A-Z])(?=[A-Z][a-z])|$)', string))  # splits camelCase into camel case\n",
    "    string = ' '.join(re.split('(\\s+|^)([A-Za-z]+)\\d+(\\s+|$)', string))  # removes number at the end\n",
    "    string = string.lower()\n",
    "    string = string.replace('_', ' ')\n",
    "    string = string.replace('-', ' ')\n",
    "    string = string.replace('[', ' ')\n",
    "    string = string.replace(']', ' ')\n",
    "    string = string.replace('(', ' ')\n",
    "    string = string.replace(')', ' ')\n",
    "    string = string.replace('?', ' ')\n",
    "    string = string.replace('*', ' ')\n",
    "    string = string.replace('copy of', ' ')\n",
    "    string = string.replace('copy', ' ')\n",
    "    string = \" \".join(string.split())\n",
    "\n",
    "    return string\n",
    "\n",
    "\n",
    "data['assembly_name_clean'] = data.apply(lambda row: process_assembly_names(row.assembly_name), axis=1)"
   ],
   "metadata": {
    "collapsed": false,
    "pycharm": {
     "name": "#%%\n"
    }
   }
  },
  {
   "cell_type": "code",
   "execution_count": 101,
   "outputs": [
    {
     "name": "stdout",
     "output_type": "stream",
     "text": [
      "After dedup: 61725\n",
      "Unique: 49601\n"
     ]
    }
   ],
   "source": [
    "print(f\"After dedup: {len(data)}\")\n",
    "print(f\"Unique: {len(data['assembly_name_clean'].unique())}\")"
   ],
   "metadata": {
    "collapsed": false,
    "pycharm": {
     "name": "#%%\n"
    }
   }
  },
  {
   "cell_type": "markdown",
   "source": [
    "### Clean part names"
   ],
   "metadata": {
    "collapsed": false,
    "pycharm": {
     "name": "#%% md\n"
    }
   }
  },
  {
   "cell_type": "code",
   "execution_count": 102,
   "outputs": [],
   "source": [
    "def process_part_names(list):\n",
    "    part_names = []\n",
    "    for string in list:\n",
    "        if \"MANIFOLD_SOLID_BREP\" in string:\n",
    "            return np.nan\n",
    "        string = string.replace('.x_t', '')\n",
    "        string = string.replace('.stp', '')\n",
    "        string = string.replace('.step', '')\n",
    "        string = string.replace('.dwg', '')\n",
    "        string = string.replace('.zip', '')\n",
    "        string = ' '.join(re.findall('.+?(?:(?<=[a-z])(?=[A-Z])|(?<=[A-Z])(?=[A-Z][a-z])|$)', string))  # splits camelCase into camel case\n",
    "        string = ' '.join(re.split('(\\s+|^)([A-Za-z]+)\\d+(\\s+|$)', string))  # removes number at the end\n",
    "        string = string.lower()\n",
    "        string = string.replace('_', ' ')\n",
    "        string = string.replace('-', ' ')\n",
    "        string = string.replace('[', ' ')\n",
    "        string = string.replace(']', ' ')\n",
    "        string = string.replace('(', ' ')\n",
    "        string = string.replace(')', ' ')\n",
    "        string = string.replace('?', ' ')\n",
    "        string = string.replace('*', ' ')\n",
    "        string = string.replace('copy of', ' ')\n",
    "        string = string.replace('copy', ' ')\n",
    "        string = \" \".join(string.split())\n",
    "\n",
    "        part_names.append(string)\n",
    "\n",
    "    return part_names\n",
    "\n",
    "\n",
    "data['part_names_clean'] = data.apply(lambda row: process_part_names(row.part_names), axis=1)\n",
    "data.dropna(subset=['part_names_clean'], inplace=True)\n"
   ],
   "metadata": {
    "collapsed": false,
    "pycharm": {
     "name": "#%%\n"
    }
   }
  },
  {
   "cell_type": "code",
   "execution_count": 103,
   "outputs": [
    {
     "data": {
      "text/plain": "         assembly_name                                         part_names  \\\n0          Lava Lamp 2                  [Blob3, Blob2, Blob1, Glass, Cap]   \n1  Sample - Headphones  [Pivot hinge, Headphone hinge, Telescope hinge...   \n4           Coffee Mug                                         [Mug, Lid]   \n5  Dave's Handsome Mug                                [Lid, Seal, Vessel]   \n9    Mechanical Pencil  [Eraser, Pencil Lead, Rubber Grip, Gripper Rod...   \n\n   assembly_name_clean                                   part_names_clean  \n0          lava lamp 2                     [blob, blob, blob, glass, cap]  \n1    sample headphones  [pivot hinge, headphone hinge, telescope hinge...  \n4           coffee mug                                         [mug, lid]  \n5  dave's handsome mug                                [lid, seal, vessel]  \n9    mechanical pencil  [eraser, pencil lead, rubber grip, gripper rod...  ",
      "text/html": "<div>\n<style scoped>\n    .dataframe tbody tr th:only-of-type {\n        vertical-align: middle;\n    }\n\n    .dataframe tbody tr th {\n        vertical-align: top;\n    }\n\n    .dataframe thead th {\n        text-align: right;\n    }\n</style>\n<table border=\"1\" class=\"dataframe\">\n  <thead>\n    <tr style=\"text-align: right;\">\n      <th></th>\n      <th>assembly_name</th>\n      <th>part_names</th>\n      <th>assembly_name_clean</th>\n      <th>part_names_clean</th>\n    </tr>\n  </thead>\n  <tbody>\n    <tr>\n      <th>0</th>\n      <td>Lava Lamp 2</td>\n      <td>[Blob3, Blob2, Blob1, Glass, Cap]</td>\n      <td>lava lamp 2</td>\n      <td>[blob, blob, blob, glass, cap]</td>\n    </tr>\n    <tr>\n      <th>1</th>\n      <td>Sample - Headphones</td>\n      <td>[Pivot hinge, Headphone hinge, Telescope hinge...</td>\n      <td>sample headphones</td>\n      <td>[pivot hinge, headphone hinge, telescope hinge...</td>\n    </tr>\n    <tr>\n      <th>4</th>\n      <td>Coffee Mug</td>\n      <td>[Mug, Lid]</td>\n      <td>coffee mug</td>\n      <td>[mug, lid]</td>\n    </tr>\n    <tr>\n      <th>5</th>\n      <td>Dave's Handsome Mug</td>\n      <td>[Lid, Seal, Vessel]</td>\n      <td>dave's handsome mug</td>\n      <td>[lid, seal, vessel]</td>\n    </tr>\n    <tr>\n      <th>9</th>\n      <td>Mechanical Pencil</td>\n      <td>[Eraser, Pencil Lead, Rubber Grip, Gripper Rod...</td>\n      <td>mechanical pencil</td>\n      <td>[eraser, pencil lead, rubber grip, gripper rod...</td>\n    </tr>\n  </tbody>\n</table>\n</div>"
     },
     "execution_count": 103,
     "metadata": {},
     "output_type": "execute_result"
    }
   ],
   "source": [
    "data.head()"
   ],
   "metadata": {
    "collapsed": false,
    "pycharm": {
     "name": "#%%\n"
    }
   }
  },
  {
   "cell_type": "markdown",
   "source": [
    "### Create sentences for BERT"
   ],
   "metadata": {
    "collapsed": false,
    "pycharm": {
     "name": "#%% md\n"
    }
   }
  },
  {
   "cell_type": "code",
   "execution_count": 104,
   "outputs": [],
   "source": [
    "def create_sentences(data_df, deduplicate_part_names=True):\n",
    "    part_name_sentences = []\n",
    "    assembly_name_sentences = []\n",
    "\n",
    "    for index, row in tqdm(data_df.iterrows(), total=len(data_df)):\n",
    "        # if len(row['part_names_clean']) > 1:\n",
    "        # build single part name sentence\n",
    "        part_name_sentence = \"An assembly containing the following parts: \"\n",
    "        if deduplicate_part_names:\n",
    "            part_names = set(row['part_names_clean'])\n",
    "        else:\n",
    "            part_names = row['part_names_clean']\n",
    "        for part_name in part_names:\n",
    "            part_name_sentence +=  f\"{part_name}, \"\n",
    "        part_name_sentence = part_name_sentence[:-2] + \".\"\n",
    "        part_name_sentences.append(part_name_sentence)\n",
    "\n",
    "        # build single assembly name sentence\n",
    "        assembly_name_sentence = f\"An assembly with the name '{row['assembly_name_clean']}'\"\n",
    "        assembly_name_sentences.append(assembly_name_sentence)\n",
    "    return part_name_sentences, assembly_name_sentences"
   ],
   "metadata": {
    "collapsed": false,
    "pycharm": {
     "name": "#%%\n"
    }
   }
  },
  {
   "cell_type": "code",
   "execution_count": 105,
   "outputs": [
    {
     "name": "stderr",
     "output_type": "stream",
     "text": [
      "100%|██████████| 61601/61601 [00:03<00:00, 18082.90it/s]\n"
     ]
    }
   ],
   "source": [
    "part_name_sentences, assembly_name_sentences = create_sentences(data)"
   ],
   "metadata": {
    "collapsed": false,
    "pycharm": {
     "name": "#%%\n"
    }
   }
  },
  {
   "cell_type": "code",
   "execution_count": 106,
   "outputs": [
    {
     "name": "stdout",
     "output_type": "stream",
     "text": [
      "61601\n"
     ]
    },
    {
     "data": {
      "text/plain": "['An assembly containing the following parts: glass, blob, cap.',\n 'An assembly containing the following parts: pivot hinge, headphone hinge, upper band, headphone speaker, telescope hinge.',\n 'An assembly containing the following parts: mug, lid.',\n 'An assembly containing the following parts: lid, vessel, seal.',\n 'An assembly containing the following parts: button release, lead gripper, eraser, rubber grip, pencil lead, gripper rod.',\n 'An assembly containing the following parts: link, peg, plate, block, wheel.',\n 'An assembly containing the following parts: head, default, torch holder, b18.3.5m 4 x 0.7 x 10 socket fchs 10s.',\n 'An assembly containing the following parts: cap, bottle base.',\n 'An assembly containing the following parts: symmetry of clips, t x2 00e9 x0 sup x2 00e9 x0 rieur bis, symmetry of chape roulement, arm support, t x2 00e9 x0 inf x2 00e9 x0 rieur, motor, axe amorto rotatif, supports levier, rouleau, human thigh, symmetry of axes molette levier, symmetry of corps mc isr, symmetry of goupille axe levier, human head, symmetry of btr m axe levier, vis r x2 00e9 x0 glage gauche, bouton d x2 00e9 x0 marrage, levier, bras de levier, patte bouton code phare, axe t x2 00e9 x0 s, symmetry of rouleau, symmetry of entretoise axe corps levier, vis r x2 00e9 x0 glage lat x2 00e9 x0 ral, bouton r x2 00e9 x0 glage gauche, corps mc isr, arm, pivot, symmetry of levier, symmetry of bille mollette corps levier, vis bouton gauche, x2 00e9 x0 crou colonne, arm, main, pivot, steering, x2 00e9 x0 crou m axe corps levier, arm, symmetry of vis m rouleau, symmetry of bras poussoir, molette levier, corps levier, symmetry of supports levier, goupille axe levier, rondelle clips, symmetry of axe levier, human upper arm, piston, symmetry of ecrou btr m axe levier, symmetry of embout de guidon, symmetry of btr m, symmetry of rondelle clips, symmetry of bague axe corps levier, vis de purge, btr m axe levier, axe but x2 00e9 x0 e levier, symmetry of x2 00e9 x0 crou vis m rouleau, clips, symmetry of bracelet droit, vis m rouleau, btr m axe corps levier, hub, human foot, hydraulic shaft, bras poussoir, bracelet droit, symmetry of bras de levier, x2 00e9 x0 crou vis m rouleau, fond alu ohlins incurv x2 00e9 x0, symmetry of btr m axe corps levier, bille mollette levier, shock shaft, tank, seat, btr m, chape roulement, symmetry of molette levier, corps amorto rotatif, but x2 00e9 x0 e, human fore arm, bague axe corps levier, bouton code phare, poign x2 00e9 x0 e gauche, human shin, hydraulic mount, vis r x2 00e9 x0 glage droite, symmetry of corps levier, symmetry of but x2 00e9 x0 e, symmetry of axe but x2 00e9 x0 e levier, symmetry of piston, bouton on off, rondelle, axes molette levier, bille mollette corps levier, nose, symmetry of x2 00e9 x0 crou m axe corps levier, symmetry of bille mollette levier, axe levier, embout de guidon, symmetry of poign x2 00e9 x0 e gauche, t x2 00e9 x0 sup x2 00e9 x0 rieur, ecrou btr m axe levier, entretoise axe corps levier, curseur noir.',\n 'An assembly containing the following parts: fillet, bearing block renamed, head fillet, mounting surface imported, spindle, chamfer, roller, flange, hex, cut extrude1, revolve, boss extrude6, f, tube lock, boss extrude1, cut extrude11 2, cir pattern, sweep thin1, cut extrude6, cut extrude3, grabber, cut sweep1, back plate, dowel, cut extrude11 3, cut extrude2, handle, cut revolve2, 10000001, head chamfer, torque element, sketched bend, end chamfer, revolve thin1, mirror, indexing plunger gn 817 5 8 b ni0, dowel 2, base revolve, cut extrude5, base flange1.']"
     },
     "execution_count": 106,
     "metadata": {},
     "output_type": "execute_result"
    }
   ],
   "source": [
    "print(len(part_name_sentences))\n",
    "part_name_sentences[:10]"
   ],
   "metadata": {
    "collapsed": false,
    "pycharm": {
     "name": "#%%\n"
    }
   }
  },
  {
   "cell_type": "code",
   "execution_count": 107,
   "outputs": [
    {
     "name": "stdout",
     "output_type": "stream",
     "text": [
      "61601\n"
     ]
    },
    {
     "data": {
      "text/plain": "[\"An assembly with the name 'lava lamp 2'\",\n \"An assembly with the name 'sample headphones'\",\n \"An assembly with the name 'coffee mug'\",\n \"An assembly with the name 'dave's handsome mug'\",\n \"An assembly with the name 'mechanical pencil'\",\n \"An assembly with the name 'os kinematics'\",\n \"An assembly with the name 'torch light for bike'\",\n \"An assembly with the name 'bottle'\",\n \"An assembly with the name 'concept vehicle'\",\n \"An assembly with the name 'mounting arm'\"]"
     },
     "execution_count": 107,
     "metadata": {},
     "output_type": "execute_result"
    }
   ],
   "source": [
    "print(len(assembly_name_sentences))\n",
    "assembly_name_sentences[:10]"
   ],
   "metadata": {
    "collapsed": false,
    "pycharm": {
     "name": "#%%\n"
    }
   }
  },
  {
   "cell_type": "markdown",
   "source": [
    "### Train test split"
   ],
   "metadata": {
    "collapsed": false,
    "pycharm": {
     "name": "#%% md\n"
    }
   }
  },
  {
   "cell_type": "code",
   "execution_count": 108,
   "outputs": [
    {
     "name": "stdout",
     "output_type": "stream",
     "text": [
      "Length of train strings: 49280\n",
      "Length of test strings: 12321\n",
      "Length of train labels: 49280\n",
      "Length of test labels: 12321\n"
     ]
    }
   ],
   "source": [
    "train_strings, test_strings, train_labels, test_labels = train_test_split(part_name_sentences,assembly_name_sentences, test_size=0.2, random_state=0)\n",
    "print(f\"Length of train strings: {len(train_strings)}\")\n",
    "print(f\"Length of test strings: {len(test_strings)}\")\n",
    "print(f\"Length of train labels: {len(train_labels)}\")\n",
    "print(f\"Length of test labels: {len(test_labels)}\")"
   ],
   "metadata": {
    "collapsed": false,
    "pycharm": {
     "name": "#%%\n"
    }
   }
  },
  {
   "cell_type": "markdown",
   "source": [
    "### Tokenize and create embeddings"
   ],
   "metadata": {
    "collapsed": false,
    "pycharm": {
     "name": "#%% md\n"
    },
    "id": "faKncEtB-7Ex"
   }
  },
  {
   "cell_type": "code",
   "execution_count": 109,
   "outputs": [
    {
     "name": "stderr",
     "output_type": "stream",
     "text": [
      "Some layers from the model checkpoint at bert-base-uncased were not used when initializing TFBertModel: ['mlm___cls', 'nsp___cls']\n",
      "- This IS expected if you are initializing TFBertModel from the checkpoint of a model trained on another task or with another architecture (e.g. initializing a BertForSequenceClassification model from a BertForPreTraining model).\n",
      "- This IS NOT expected if you are initializing TFBertModel from the checkpoint of a model that you expect to be exactly identical (initializing a BertForSequenceClassification model from a BertForSequenceClassification model).\n",
      "All the layers of TFBertModel were initialized from the model checkpoint at bert-base-uncased.\n",
      "If your task is similar to the task the model of the checkpoint was trained on, you can already use TFBertModel for predictions without further training.\n"
     ]
    }
   ],
   "source": [
    "model_checkpoint = 'bert-base-uncased'\n",
    "bert_tokenizer = BertTokenizer.from_pretrained(model_checkpoint)\n",
    "bert_model = TFBertModel.from_pretrained(model_checkpoint)"
   ],
   "metadata": {
    "collapsed": false,
    "pycharm": {
     "name": "#%%\n"
    }
   }
  },
  {
   "cell_type": "code",
   "execution_count": 110,
   "outputs": [],
   "source": [
    "def create_embeddings(strings, labels, tokenizer, model, max_length=128, batch_size=100, pooling='cls'):\n",
    "\n",
    "    test_strings_embeddings_batched, test_labels_embeddings_batched = [], []\n",
    "    num_batches = len(strings)//batch_size\n",
    "    for batch in tqdm(range(num_batches), total=num_batches):\n",
    "        test_strings_token = tokenizer(strings[batch*batch_size:(batch+1)*batch_size],\n",
    "                      max_length=max_length,\n",
    "                      truncation=True,\n",
    "                      padding=True,\n",
    "                      return_tensors='tf')\n",
    "\n",
    "        test_labels_tokens = tokenizer(labels[batch*batch_size:(batch+1)*batch_size],\n",
    "                      max_length=max_length,\n",
    "                      truncation=True,\n",
    "                      padding=True,\n",
    "                      return_tensors='tf')\n",
    "\n",
    "        test_strings_embeddings = model(test_strings_token)\n",
    "        test_labels_embeddings = model(test_labels_tokens)\n",
    "\n",
    "        if pooling == 'cls':\n",
    "            test_strings_embeddings = test_strings_embeddings[0][:, 0, :]\n",
    "            test_labels_embeddings = test_labels_embeddings[0][:, 0, :]\n",
    "        else:\n",
    "            test_strings_embeddings = test_strings_embeddings[1]\n",
    "            test_labels_embeddings = test_labels_embeddings[1]\n",
    "        test_strings_embeddings_batched.append(test_strings_embeddings)\n",
    "        test_labels_embeddings_batched.append(test_labels_embeddings)\n",
    "\n",
    "    return test_strings_embeddings_batched, test_labels_embeddings_batched"
   ],
   "metadata": {
    "collapsed": false,
    "pycharm": {
     "name": "#%%\n"
    }
   }
  },
  {
   "cell_type": "code",
   "execution_count": 134,
   "outputs": [
    {
     "name": "stderr",
     "output_type": "stream",
     "text": [
      "100%|██████████| 123/123 [01:39<00:00,  1.24it/s]\n"
     ]
    }
   ],
   "source": [
    "test_strings_embeddings, test_labels_embeddings = create_embeddings(test_strings, test_labels, bert_tokenizer, bert_model)"
   ],
   "metadata": {
    "collapsed": false,
    "pycharm": {
     "name": "#%%\n"
    }
   }
  },
  {
   "cell_type": "markdown",
   "source": [
    "### Evaluate with cosine similarity and argmax"
   ],
   "metadata": {
    "collapsed": false,
    "pycharm": {
     "name": "#%% md\n"
    }
   }
  },
  {
   "cell_type": "code",
   "execution_count": 112,
   "outputs": [],
   "source": [
    "def evaluate_similarity(test_strings_embeddings_batches, test_labels_embeddings_batches):\n",
    "    similarity_batches = []\n",
    "    for batch_id in range(len(test_strings_embeddings_batches)):\n",
    "        test_strings_embeddings = tf.nn.l2_normalize(test_strings_embeddings_batches[batch_id], 0)\n",
    "        test_labels_embeddings = tf.nn.l2_normalize(test_labels_embeddings_batches[batch_id], 0)\n",
    "\n",
    "        similarity = test_strings_embeddings @ tf.transpose(test_labels_embeddings)\n",
    "        similarity_batches.append(similarity)\n",
    "\n",
    "    return similarity_batches\n",
    "\n"
   ],
   "metadata": {
    "collapsed": false,
    "pycharm": {
     "name": "#%%\n"
    }
   }
  },
  {
   "cell_type": "code",
   "execution_count": 135,
   "outputs": [],
   "source": [
    "similarity_batches = evaluate_similarity(test_strings_embeddings, test_labels_embeddings)"
   ],
   "metadata": {
    "collapsed": false,
    "pycharm": {
     "name": "#%%\n"
    }
   }
  },
  {
   "cell_type": "code",
   "execution_count": 136,
   "outputs": [
    {
     "data": {
      "text/plain": "[Text(0.5, 47.24444444444444, 'Part Names'),\n Text(74.44444444444444, 0.5, 'Assembly Names'),\n Text(0.5, 1.0, 'Cosine Similarity Between Assembly Names and Part Names')]"
     },
     "execution_count": 136,
     "metadata": {},
     "output_type": "execute_result"
    },
    {
     "data": {
      "text/plain": "<Figure size 640x480 with 2 Axes>",
      "image/png": "[encoded data removed]"
     },
     "metadata": {},
     "output_type": "display_data"
    }
   ],
   "source": [
    "ax = sns.heatmap(similarity_batches[0], cmap=\"crest\", xticklabels=False, yticklabels=False) #, annot=True)\n",
    "ax.set(xlabel=\"Part Names\", ylabel=\"Assembly Names\", title=\"Cosine Similarity Between Assembly Names and Part Names\")"
   ],
   "metadata": {
    "collapsed": false,
    "pycharm": {
     "name": "#%%\n"
    }
   }
  },
  {
   "cell_type": "code",
   "execution_count": 137,
   "outputs": [
    {
     "name": "stdout",
     "output_type": "stream",
     "text": [
      "Predicted: 65 | Actual: 0\n",
      "Predicted: 65 | Actual: 1\n",
      "Predicted: 65 | Actual: 2\n",
      "Predicted: 65 | Actual: 3\n",
      "Predicted: 91 | Actual: 4\n",
      "Predicted: 28 | Actual: 5\n",
      "Predicted: 94 | Actual: 6\n",
      "Predicted: 65 | Actual: 7\n",
      "Predicted: 65 | Actual: 8\n",
      "Predicted: 65 | Actual: 9\n"
     ]
    }
   ],
   "source": [
    "pred = []\n",
    "true = []\n",
    "for index, value in enumerate(similarity_batches[0][:10]):\n",
    "    predicted = np.argmax(value)\n",
    "    actual = index\n",
    "    pred.append(predicted)\n",
    "    true.append(actual)\n",
    "    print(f\"Predicted: {predicted} | Actual: {index}\")"
   ],
   "metadata": {
    "collapsed": false,
    "pycharm": {
     "name": "#%%\n"
    }
   }
  },
  {
   "cell_type": "code",
   "execution_count": 138,
   "outputs": [],
   "source": [
    "def evaluate_accuracy(similarity_batches):\n",
    "    top_ks = [1,5,10]\n",
    "    for k in top_ks:\n",
    "        tot_accuracy = []\n",
    "        for batch in similarity_batches:\n",
    "            top_k_values = np.argsort(-batch, axis=1)[:,:k]\n",
    "            correct = 0\n",
    "            for index, row in enumerate(top_k_values):\n",
    "                if index in row:\n",
    "                    correct += 1\n",
    "            accuracy = correct / len(batch)\n",
    "            tot_accuracy.append(accuracy)\n",
    "\n",
    "\n",
    "        print(f\"Top-{k} accuracy: {np.mean(tot_accuracy)}\")"
   ],
   "metadata": {
    "collapsed": false,
    "pycharm": {
     "name": "#%%\n"
    }
   }
  },
  {
   "cell_type": "code",
   "execution_count": 139,
   "outputs": [
    {
     "name": "stdout",
     "output_type": "stream",
     "text": [
      "Top-1 accuracy: 0.056829268292682936\n",
      "Top-5 accuracy: 0.15682926829268293\n",
      "Top-10 accuracy: 0.2378048780487805\n"
     ]
    }
   ],
   "source": [
    "evaluate_accuracy(similarity_batches)"
   ],
   "metadata": {
    "collapsed": false,
    "pycharm": {
     "name": "#%%\n"
    }
   }
  },
  {
   "cell_type": "markdown",
   "source": [
    "## Fine-tuned BERT"
   ],
   "metadata": {
    "collapsed": false,
    "pycharm": {
     "name": "#%% md\n"
    }
   },
   "outputs": []
  },
  {
   "cell_type": "markdown",
   "source": [
    "### Load test data"
   ],
   "metadata": {
    "collapsed": false,
    "pycharm": {
     "name": "#%% md\n"
    }
   }
  },
  {
   "cell_type": "code",
   "execution_count": null,
   "outputs": [],
   "source": [
    "test_data = pd.read_csv('data/test.csv')"
   ],
   "metadata": {
    "collapsed": false,
    "pycharm": {
     "name": "#%%\n"
    }
   }
  },
  {
   "cell_type": "code",
   "execution_count": null,
   "outputs": [],
   "source": [
    "test_strings, test_labels = create_sentences(data.loc[test_data['Unnamed: 0'].tolist()])"
   ],
   "metadata": {
    "collapsed": false,
    "pycharm": {
     "name": "#%%\n"
    }
   }
  },
  {
   "cell_type": "code",
   "execution_count": null,
   "outputs": [],
   "source": [
    "test_strings[:5]"
   ],
   "metadata": {
    "collapsed": false,
    "pycharm": {
     "name": "#%%\n"
    }
   }
  },
  {
   "cell_type": "code",
   "execution_count": null,
   "outputs": [],
   "source": [
    "test_labels[:5]"
   ],
   "metadata": {
    "collapsed": false,
    "pycharm": {
     "name": "#%%\n"
    }
   }
  },
  {
   "cell_type": "code",
   "execution_count": 124,
   "outputs": [],
   "source": [
    "test_data = pd.read_csv('data/test.csv')"
   ],
   "metadata": {
    "collapsed": false,
    "pycharm": {
     "name": "#%%\n"
    }
   }
  },
  {
   "cell_type": "code",
   "execution_count": 125,
   "outputs": [
    {
     "name": "stderr",
     "output_type": "stream",
     "text": [
      "100%|██████████| 12321/12321 [00:00<00:00, 18441.83it/s]\n"
     ]
    }
   ],
   "source": [
    "test_strings, test_labels = create_sentences(data.loc[test_data['Unnamed: 0'].tolist()])"
   ],
   "metadata": {
    "collapsed": false,
    "pycharm": {
     "name": "#%%\n"
    }
   }
  },
  {
   "cell_type": "code",
   "execution_count": 126,
   "outputs": [
    {
     "data": {
      "text/plain": "['An assembly containing the following parts: side 2, side 1, end 2, end 1, short divider, long divider.',\n 'An assembly containing the following parts: 20mm stack.',\n 'An assembly containing the following parts: basetopkey, basebottomkeyhalf, boxlid, windholder, basebottomkeyotherhalf, internalcomb, mainbox, barform.',\n 'An assembly containing the following parts: hub build plate prt12, component, l 2112kk cage, bl touch, nut driver prt3, fake support, 177, wheel b1, pivot pin, carriage mount 2 prt10, 168, 166, 159, extruder grove wheel\\\\x2\\\\00d8\\\\x0\\\\13, boden frame, motor shaft, carrage mount prt8, heater, microswitch 1a 125v ac seul, 165, plate mount prt9, z screw, pin\\\\x2\\\\00d8\\\\x0\\\\5, turbine, 175, 147, shaft top prt4, stepper prt1, 184, l 2112kk ball, spacer 5x10x6.35, 157, pcb^endstop, aluminum spacer 20mm, heatsink^e3d nozzle v, 5972k154, 152, main body, extruder body alumium, heater block^e3d nozzle v, solid, 182, vt1m3x30, 144, carrage prt6, open rail gantry plate 60mm, arm, 143, rail cross part, 153, 158, nozzle 0.3mm^e3d nozzle v, 170, 154, 178, bed center, aluminum spacer 9mm, 162, 167, timming pulley 16t g2, 169, 161, 183, 171, 149, 163, 151, 145, extruder bridge aluminium, new plate, frame b1, fitting, aluminum spacer 6mm, frame b2, pin, l 2112kk shield, 160, nozzle, 181, 179, boden lever arm, build plate prt11, shaft bottom prt5, base board, m3cerated nut, 150, glass bed, lead screw prt2, 174, delrin v wheel, 148, teflon tube, jst 4pin, aluminum spacer 3mm, wheel a1, l 2112kk or, vt3m4x12, 180, l 2112kk ir, steel tube, 146, shape, pneumatic con m, 173, heater block, timming pulley 20t g2, bed rotor mount, 164, v slot 20x60x500 linear rail, 172, 142, 176, 155, frame b4, 156, frame b3, pivot shaft.',\n 'An assembly containing the following parts: 2238 375.']"
     },
     "execution_count": 126,
     "metadata": {},
     "output_type": "execute_result"
    }
   ],
   "source": [
    "test_strings[:5]"
   ],
   "metadata": {
    "collapsed": false,
    "pycharm": {
     "name": "#%%\n"
    }
   }
  },
  {
   "cell_type": "code",
   "execution_count": 127,
   "outputs": [
    {
     "data": {
      "text/plain": "[\"An assembly with the name 'box shell version'\",\n \"An assembly with the name '20mm stack'\",\n \"An assembly with the name 'ww sport base bar box'\",\n \"An assembly with the name 'circle builder'\",\n \"An assembly with the name '2238 375.step'\"]"
     },
     "execution_count": 127,
     "metadata": {},
     "output_type": "execute_result"
    }
   ],
   "source": [
    "test_labels[:5]"
   ],
   "metadata": {
    "collapsed": false,
    "pycharm": {
     "name": "#%%\n"
    }
   }
  },
  {
   "cell_type": "markdown",
   "source": [
    "### Load fine-tuned model from checkpoint and get embeddings"
   ],
   "metadata": {
    "collapsed": false,
    "pycharm": {
     "name": "#%% md\n"
    }
   }
  },
  {
   "cell_type": "code",
   "execution_count": 128,
   "outputs": [
    {
     "name": "stderr",
     "output_type": "stream",
     "text": [
      "Some layers from the model checkpoint at MLM/fine_tuning/bert_fine_tuned_2 were not used when initializing TFBertModel: ['mlm___cls']\n",
      "- This IS expected if you are initializing TFBertModel from the checkpoint of a model trained on another task or with another architecture (e.g. initializing a BertForSequenceClassification model from a BertForPreTraining model).\n",
      "- This IS NOT expected if you are initializing TFBertModel from the checkpoint of a model that you expect to be exactly identical (initializing a BertForSequenceClassification model from a BertForSequenceClassification model).\n",
      "Some layers of TFBertModel were not initialized from the model checkpoint at MLM/fine_tuning/bert_fine_tuned_2 and are newly initialized: ['bert/pooler/dense/bias:0', 'bert/pooler/dense/kernel:0']\n",
      "You should probably TRAIN this model on a down-stream task to be able to use it for predictions and inference.\n"
     ]
    }
   ],
   "source": [
    "checkpoint_dir = 'MLM/fine_tuning/bert_fine_tuned_2'\n",
    "bert_tokenizer_2 = BertTokenizer.from_pretrained('bert-base-uncased')\n",
    "bert_model_2 = TFBertModel.from_pretrained(checkpoint_dir)"
   ],
   "metadata": {
    "collapsed": false,
    "pycharm": {
     "name": "#%%\n"
    }
   }
  },
  {
   "cell_type": "code",
   "execution_count": 129,
   "outputs": [
    {
     "name": "stderr",
     "output_type": "stream",
     "text": [
      "100%|██████████| 123/123 [01:37<00:00,  1.26it/s]\n"
     ]
    }
   ],
   "source": [
    "test_strings_embeddings, test_labels_embeddings = create_embeddings(test_strings, test_labels, bert_tokenizer_2, bert_model_2)"
   ],
   "metadata": {
    "collapsed": false,
    "pycharm": {
     "name": "#%%\n"
    }
   }
  },
  {
   "cell_type": "markdown",
   "source": [
    "### Evaluate"
   ],
   "metadata": {
    "collapsed": false,
    "pycharm": {
     "name": "#%% md\n"
    }
   }
  },
  {
   "cell_type": "code",
   "execution_count": 130,
   "outputs": [],
   "source": [
    "similarity_batches = evaluate_similarity(test_strings_embeddings, test_labels_embeddings)"
   ],
   "metadata": {
    "collapsed": false,
    "pycharm": {
     "name": "#%%\n"
    }
   }
  },
  {
   "cell_type": "code",
   "execution_count": 131,
   "outputs": [
    {
     "data": {
      "text/plain": "[Text(0.5, 47.24444444444444, 'Part Names'),\n Text(74.44444444444444, 0.5, 'Assembly Names'),\n Text(0.5, 1.0, 'Cosine Similarity Between Assembly Names and Part Names')]"
     },
     "execution_count": 131,
     "metadata": {},
     "output_type": "execute_result"
    },
    {
     "data": {
      "text/plain": "<Figure size 640x480 with 2 Axes>",
      "image/png": "[encoded data removed]"
     },
     "metadata": {},
     "output_type": "display_data"
    }
   ],
   "source": [
    "ax = sns.heatmap(similarity_batches[0], cmap=\"crest\", xticklabels=False, yticklabels=False) #, annot=True)\n",
    "ax.set(xlabel=\"Part Names\", ylabel=\"Assembly Names\", title=\"Cosine Similarity Between Assembly Names and Part Names\")"
   ],
   "metadata": {
    "collapsed": false,
    "pycharm": {
     "name": "#%%\n"
    }
   }
  },
  {
   "cell_type": "code",
   "execution_count": 132,
   "outputs": [
    {
     "name": "stdout",
     "output_type": "stream",
     "text": [
      "Predicted: 65 | Actual: 0\n",
      "Predicted: 65 | Actual: 1\n",
      "Predicted: 12 | Actual: 2\n",
      "Predicted: 65 | Actual: 3\n",
      "Predicted: 4 | Actual: 4\n",
      "Predicted: 65 | Actual: 5\n",
      "Predicted: 65 | Actual: 6\n",
      "Predicted: 65 | Actual: 7\n",
      "Predicted: 65 | Actual: 8\n",
      "Predicted: 65 | Actual: 9\n"
     ]
    }
   ],
   "source": [
    "for index, value in enumerate(similarity_batches[0][:10]):\n",
    "    predicted = np.argmax(value)\n",
    "    actual = index\n",
    "    print(f\"Predicted: {predicted} | Actual: {index}\")"
   ],
   "metadata": {
    "collapsed": false,
    "pycharm": {
     "name": "#%%\n"
    }
   }
  },
  {
   "cell_type": "code",
   "execution_count": 133,
   "outputs": [
    {
     "name": "stdout",
     "output_type": "stream",
     "text": [
      "Top-1 accuracy: 0.09495934959349595\n",
      "Top-5 accuracy: 0.20813008130081304\n",
      "Top-10 accuracy: 0.30308943089430895\n"
     ]
    }
   ],
   "source": [
    "evaluate_accuracy(similarity_batches)"
   ],
   "metadata": {
    "collapsed": false,
    "pycharm": {
     "name": "#%%\n"
    }
   }
  },
  {
   "cell_type": "code",
   "execution_count": null,
   "outputs": [],
   "source": [],
   "metadata": {
    "collapsed": false,
    "pycharm": {
     "name": "#%%\n"
    }
   }
  },
  {
   "cell_type": "code",
   "execution_count": null,
   "outputs": [],
   "source": [],
   "metadata": {
    "collapsed": false,
    "pycharm": {
     "name": "#%%\n"
    }
   }
  }
 ],
 "metadata": {
  "kernelspec": {
   "display_name": "Python 3",
   "language": "python",
   "name": "python3"
  },
  "language_info": {
   "codemirror_mode": {
    "name": "ipython",
    "version": 2
   },
   "file_extension": ".py",
   "mimetype": "text/x-python",
   "name": "python",
   "nbconvert_exporter": "python",
   "pygments_lexer": "ipython2",
   "version": "2.7.6"
  },
  "colab": {
   "provenance": [],
   "collapsed_sections": [],
   "include_colab_link": true
  },
  "accelerator": "GPU",
  "gpuClass": "standard"
 },
 "nbformat": 4,
 "nbformat_minor": 0
}